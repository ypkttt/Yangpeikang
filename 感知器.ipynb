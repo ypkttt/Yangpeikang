{
 "cells": [
  {
   "cell_type": "code",
   "execution_count": null,
   "metadata": {},
   "outputs": [],
   "source": []
  },
  {
   "cell_type": "code",
   "execution_count": null,
   "metadata": {},
   "outputs": [],
   "source": []
  },
  {
   "cell_type": "code",
   "execution_count": 6,
   "metadata": {},
   "outputs": [
    {
     "name": "stdout",
     "output_type": "stream",
     "text": [
      "weights\t:[0.1, 0.2]\n",
      "bias\t:-0.200000\n",
      "\n",
      "1 and 1 = 1\n",
      "0 and 0 = 0\n",
      "1 and 0 = 0\n",
      "0 and 1 = 0\n"
     ]
    }
   ],
   "source": [
    "from __future__ import print_function\n",
    "from functools import reduce\n",
    "\n",
    "\n",
    "class VectorOp(object):\n",
    "    def dot(x, y):\n",
    "        return reduce(lambda a, b: a + b, VectorOp.element_multiply(x, y), 0.0)\n",
    "\n",
    "    def element_multiply(x, y):\n",
    "        return list(map(lambda x_y: x_y[0] * x_y[1], zip(x, y)))\n",
    "\n",
    "    def element_add(x, y):\n",
    "        return list(map(lambda x_y: x_y[0] + x_y[1], zip(x, y)))\n",
    "\n",
    "    def scala_multiply(v, s):\n",
    "        return map(lambda e: e * s, v)\n",
    "\n",
    "\n",
    "class Perceptron(object):\n",
    "    def __init__(self, input_num, activator):\n",
    "        self.activator = activator\n",
    "        self.weights = [0.0] * input_num\n",
    "        self.bias = 0.0\n",
    "\n",
    "    def __str__(self):\n",
    "        return 'weights\\t:%s\\nbias\\t:%f\\n' % (self.weights, self.bias)\n",
    "\n",
    "    def predict(self, input_vec):\n",
    "        return self.activator(\n",
    "            VectorOp.dot(input_vec, self.weights) + self.bias)\n",
    "\n",
    "    def train(self, input_vecs, labels, iteration, rate):\n",
    "        for i in range(iteration):\n",
    "            self._one_iteration(input_vecs, labels, rate)\n",
    "\n",
    "    def _one_iteration(self, input_vecs, labels, rate):\n",
    "        samples = zip(input_vecs, labels)\n",
    "        for (input_vec, label) in samples:\n",
    "            output = self.predict(input_vec)\n",
    "            self._update_weights(input_vec, output, label, rate)\n",
    "\n",
    "    def _update_weights(self, input_vec, output, label, rate):\n",
    "        delta = label - output\n",
    "        self.weights = VectorOp.element_add(\n",
    "            self.weights, VectorOp.scala_multiply(input_vec, rate * delta))\n",
    "        self.bias += rate * delta\n",
    "\n",
    "\n",
    "def f(x):\n",
    "    return 1 if x > 0 else 0\n",
    "\n",
    "\n",
    "def get_training_dataset():\n",
    "    input_vecs = [[1, 1], [0, 0], [1, 0], [0, 1]]\n",
    "    labels = [1, 0, 0, 0]\n",
    "    return input_vecs, labels\n",
    "\n",
    "\n",
    "def train_and_perceptron():\n",
    "    p = Perceptron(2, f)\n",
    "    input_vecs, labels = get_training_dataset()\n",
    "    p.train(input_vecs, labels, 10, 0.1)\n",
    "    return p\n",
    "\n",
    "\n",
    "if __name__ == '__main__':\n",
    "    and_perception = train_and_perceptron()\n",
    "    print(and_perception)\n",
    "    print('1 and 1 = %d' % and_perception.predict([1, 1]))\n",
    "    print('0 and 0 = %d' % and_perception.predict([0, 0]))\n",
    "    print('1 and 0 = %d' % and_perception.predict([1, 0]))\n",
    "    print('0 and 1 = %d' % and_perception.predict([0, 1]))"
   ]
  },
  {
   "cell_type": "code",
   "execution_count": null,
   "metadata": {},
   "outputs": [],
   "source": []
  }
 ],
 "metadata": {
  "kernelspec": {
   "display_name": "Python 3",
   "language": "python",
   "name": "python3"
  },
  "language_info": {
   "codemirror_mode": {
    "name": "ipython",
    "version": 3
   },
   "file_extension": ".py",
   "mimetype": "text/x-python",
   "name": "python",
   "nbconvert_exporter": "python",
   "pygments_lexer": "ipython3",
   "version": "3.8.3"
  }
 },
 "nbformat": 4,
 "nbformat_minor": 4
}
