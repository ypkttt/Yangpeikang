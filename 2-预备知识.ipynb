{
 "cells": [
  {
   "cell_type": "code",
   "execution_count": 7,
   "metadata": {},
   "outputs": [],
   "source": [
    "import torch"
   ]
  },
  {
   "cell_type": "code",
   "execution_count": 8,
   "metadata": {},
   "outputs": [
    {
     "data": {
      "text/plain": "tensor([ 0,  1,  2,  3,  4,  5,  6,  7,  8,  9, 10, 11])"
     },
     "execution_count": 8,
     "metadata": {},
     "output_type": "execute_result"
    }
   ],
   "source": [
    "x = torch.arange(12)\n",
    "x"
   ]
  },
  {
   "cell_type": "code",
   "execution_count": 9,
   "metadata": {},
   "outputs": [
    {
     "data": {
      "text/plain": "torch.Size([12])"
     },
     "execution_count": 9,
     "metadata": {},
     "output_type": "execute_result"
    }
   ],
   "source": [
    "x.shape"
   ]
  },
  {
   "cell_type": "code",
   "execution_count": 10,
   "metadata": {},
   "outputs": [
    {
     "data": {
      "text/plain": "12"
     },
     "execution_count": 10,
     "metadata": {},
     "output_type": "execute_result"
    }
   ],
   "source": [
    "x.numel()"
   ]
  },
  {
   "cell_type": "code",
   "execution_count": 11,
   "metadata": {},
   "outputs": [
    {
     "data": {
      "text/plain": "tensor([[ 0,  1,  2,  3],\n        [ 4,  5,  6,  7],\n        [ 8,  9, 10, 11]])"
     },
     "execution_count": 11,
     "metadata": {},
     "output_type": "execute_result"
    }
   ],
   "source": [
    "X = x.reshape(3, 4)\n",
    "X"
   ]
  },
  {
   "cell_type": "code",
   "execution_count": 12,
   "metadata": {},
   "outputs": [
    {
     "data": {
      "text/plain": "tensor([[[0., 0., 0., 0.],\n         [0., 0., 0., 0.],\n         [0., 0., 0., 0.]],\n\n        [[0., 0., 0., 0.],\n         [0., 0., 0., 0.],\n         [0., 0., 0., 0.]]])"
     },
     "execution_count": 12,
     "metadata": {},
     "output_type": "execute_result"
    }
   ],
   "source": [
    "torch.zeros((2, 3, 4))"
   ]
  },
  {
   "cell_type": "code",
   "execution_count": 13,
   "metadata": {},
   "outputs": [
    {
     "data": {
      "text/plain": "tensor([[[0., 0., 0., 0.],\n         [0., 0., 0., 0.],\n         [0., 0., 0., 0.]],\n\n        [[0., 0., 0., 0.],\n         [0., 0., 0., 0.],\n         [0., 0., 0., 0.]]])"
     },
     "execution_count": 13,
     "metadata": {},
     "output_type": "execute_result"
    }
   ],
   "source": [
    "torch.zeros((2, 3, 4))"
   ]
  },
  {
   "cell_type": "code",
   "execution_count": 14,
   "metadata": {},
   "outputs": [
    {
     "data": {
      "text/plain": "tensor([[ 0.1848, -1.1057, -0.6262, -0.7228],\n        [-0.3210,  1.6668, -0.3259, -1.5764],\n        [-0.9096, -0.3659,  0.9438,  0.5513]])"
     },
     "execution_count": 14,
     "metadata": {},
     "output_type": "execute_result"
    }
   ],
   "source": [
    "torch.randn(3, 4)"
   ]
  },
  {
   "cell_type": "code",
   "execution_count": 15,
   "metadata": {},
   "outputs": [
    {
     "data": {
      "text/plain": "tensor([[2, 1, 4, 3],\n        [1, 2, 3, 4],\n        [4, 3, 2, 1]])"
     },
     "execution_count": 15,
     "metadata": {},
     "output_type": "execute_result"
    }
   ],
   "source": [
    "torch.tensor([[2, 1, 4, 3], [1, 2, 3, 4], [4, 3, 2, 1]])"
   ]
  },
  {
   "cell_type": "code",
   "execution_count": 16,
   "metadata": {},
   "outputs": [
    {
     "data": {
      "text/plain": "(tensor([ 3.,  4.,  6., 10.]),\n tensor([-1.,  0.,  2.,  6.]),\n tensor([ 2.,  4.,  8., 16.]),\n tensor([0.5000, 1.0000, 2.0000, 4.0000]),\n tensor([ 1.,  4., 16., 64.]))"
     },
     "execution_count": 16,
     "metadata": {},
     "output_type": "execute_result"
    }
   ],
   "source": [
    "x = torch.tensor([1.0, 2, 4, 8])\n",
    "y = torch.tensor([2, 2, 2, 2])\n",
    "x + y, x - y, x * y, x / y, x ** y  # **运算符是求幂运算"
   ]
  },
  {
   "cell_type": "code",
   "execution_count": 17,
   "metadata": {},
   "outputs": [
    {
     "data": {
      "text/plain": "tensor([2.7183e+00, 7.3891e+00, 5.4598e+01, 2.9810e+03])"
     },
     "execution_count": 17,
     "metadata": {},
     "output_type": "execute_result"
    }
   ],
   "source": [
    "torch.exp(x)"
   ]
  },
  {
   "cell_type": "code",
   "execution_count": 18,
   "metadata": {},
   "outputs": [
    {
     "data": {
      "text/plain": "(tensor([[ 0.,  1.,  2.,  3.],\n         [ 4.,  5.,  6.,  7.],\n         [ 8.,  9., 10., 11.],\n         [ 2.,  1.,  4.,  3.],\n         [ 1.,  2.,  3.,  4.],\n         [ 4.,  3.,  2.,  1.]]),\n tensor([[ 0.,  1.,  2.,  3.,  2.,  1.,  4.,  3.],\n         [ 4.,  5.,  6.,  7.,  1.,  2.,  3.,  4.],\n         [ 8.,  9., 10., 11.,  4.,  3.,  2.,  1.]]))"
     },
     "execution_count": 18,
     "metadata": {},
     "output_type": "execute_result"
    }
   ],
   "source": [
    "X = torch.arange(12, dtype=torch.float32).reshape((3,4))\n",
    "Y = torch.tensor([[2.0, 1, 4, 3], [1, 2, 3, 4], [4, 3, 2, 1]])\n",
    "torch.cat((X, Y), dim=0), torch.cat((X, Y), dim=1)"
   ]
  },
  {
   "cell_type": "code",
   "execution_count": 19,
   "metadata": {},
   "outputs": [
    {
     "data": {
      "text/plain": "tensor([[False,  True, False,  True],\n        [False, False, False, False],\n        [False, False, False, False]])"
     },
     "execution_count": 19,
     "metadata": {},
     "output_type": "execute_result"
    }
   ],
   "source": [
    "X == Y"
   ]
  },
  {
   "cell_type": "code",
   "execution_count": 20,
   "metadata": {},
   "outputs": [
    {
     "data": {
      "text/plain": "tensor(66.)"
     },
     "execution_count": 20,
     "metadata": {},
     "output_type": "execute_result"
    }
   ],
   "source": [
    "X.sum()"
   ]
  },
  {
   "cell_type": "code",
   "execution_count": 21,
   "metadata": {},
   "outputs": [
    {
     "data": {
      "text/plain": "(tensor([[0],\n         [1],\n         [2]]),\n tensor([[0, 1]]))"
     },
     "execution_count": 21,
     "metadata": {},
     "output_type": "execute_result"
    }
   ],
   "source": [
    "a = torch.arange(3).reshape((3, 1))\n",
    "b = torch.arange(2).reshape((1, 2))\n",
    "a, b"
   ]
  },
  {
   "cell_type": "code",
   "execution_count": 22,
   "metadata": {},
   "outputs": [
    {
     "data": {
      "text/plain": "tensor([[0, 1],\n        [1, 2],\n        [2, 3]])"
     },
     "execution_count": 22,
     "metadata": {},
     "output_type": "execute_result"
    }
   ],
   "source": [
    "a + b"
   ]
  },
  {
   "cell_type": "code",
   "execution_count": 23,
   "metadata": {},
   "outputs": [
    {
     "data": {
      "text/plain": "(tensor([ 8.,  9., 10., 11.]),\n tensor([[ 4.,  5.,  6.,  7.],\n         [ 8.,  9., 10., 11.]]))"
     },
     "execution_count": 23,
     "metadata": {},
     "output_type": "execute_result"
    }
   ],
   "source": [
    "X[-1], X[1:3]"
   ]
  },
  {
   "cell_type": "code",
   "execution_count": 24,
   "metadata": {},
   "outputs": [
    {
     "data": {
      "text/plain": "tensor([[ 0.,  1.,  2.,  3.],\n        [ 4.,  5.,  9.,  7.],\n        [ 8.,  9., 10., 11.]])"
     },
     "execution_count": 24,
     "metadata": {},
     "output_type": "execute_result"
    }
   ],
   "source": [
    "X[1, 2] = 9\n",
    "X"
   ]
  },
  {
   "cell_type": "code",
   "execution_count": 25,
   "metadata": {},
   "outputs": [
    {
     "data": {
      "text/plain": "tensor([[12., 12., 12., 12.],\n        [12., 12., 12., 12.],\n        [ 8.,  9., 10., 11.]])"
     },
     "execution_count": 25,
     "metadata": {},
     "output_type": "execute_result"
    }
   ],
   "source": [
    "X[0:2, :] = 12\n",
    "X"
   ]
  },
  {
   "cell_type": "code",
   "execution_count": 26,
   "metadata": {},
   "outputs": [
    {
     "data": {
      "text/plain": "False"
     },
     "execution_count": 26,
     "metadata": {},
     "output_type": "execute_result"
    }
   ],
   "source": [
    "before = id(Y)\n",
    "Y = Y + X\n",
    "id(Y) == before"
   ]
  },
  {
   "cell_type": "code",
   "execution_count": 27,
   "metadata": {},
   "outputs": [
    {
     "name": "stdout",
     "output_type": "stream",
     "text": [
      "id(Z): 2873523871552\n",
      "id(Z): 2873523871552\n"
     ]
    }
   ],
   "source": [
    "Z = torch.zeros_like(Y)\n",
    "print('id(Z):', id(Z))\n",
    "Z[:] = X + Y\n",
    "print('id(Z):', id(Z))"
   ]
  },
  {
   "cell_type": "code",
   "execution_count": 28,
   "metadata": {},
   "outputs": [
    {
     "data": {
      "text/plain": "True"
     },
     "execution_count": 28,
     "metadata": {},
     "output_type": "execute_result"
    }
   ],
   "source": [
    "before = id(X)\n",
    "X += Y\n",
    "id(X) == before"
   ]
  },
  {
   "cell_type": "code",
   "execution_count": 29,
   "metadata": {},
   "outputs": [
    {
     "data": {
      "text/plain": "(numpy.ndarray, torch.Tensor)"
     },
     "execution_count": 29,
     "metadata": {},
     "output_type": "execute_result"
    }
   ],
   "source": [
    "A = X.numpy()\n",
    "B = torch.tensor(A)\n",
    "type(A), type(B)"
   ]
  },
  {
   "cell_type": "code",
   "execution_count": 30,
   "metadata": {},
   "outputs": [
    {
     "data": {
      "text/plain": "(tensor([3.5000]), 3.5, 3.5, 3)"
     },
     "execution_count": 30,
     "metadata": {},
     "output_type": "execute_result"
    }
   ],
   "source": [
    "a = torch.tensor([3.5])\n",
    "a, a.item(), float(a), int(a)"
   ]
  },
  {
   "cell_type": "code",
   "execution_count": 31,
   "metadata": {},
   "outputs": [],
   "source": [
    "import os\n",
    "\n",
    "os.makedirs(os.path.join('E:\\研究生\\Yangpeikang', 'data'), exist_ok=True)\n",
    "data_file = os.path.join('E:\\研究生\\Yangpeikang', 'data', 'house_tiny.csv')\n",
    "with open(data_file, 'w') as f:\n",
    "    f.write('NumRooms,Alley,Price\\n')  \n",
    "    f.write('NA,Pave,127500\\n') \n",
    "    f.write('2,NA,106000\\n')\n",
    "    f.write('4,NA,178100\\n')\n",
    "    f.write('NA,NA,140000\\n')"
   ]
  },
  {
   "cell_type": "code",
   "execution_count": 32,
   "metadata": {},
   "outputs": [
    {
     "ename": "AttributeError",
     "evalue": "module 'numpy.random' has no attribute 'Generator'",
     "output_type": "error",
     "traceback": [
      "\u001B[1;31m---------------------------------------------------------------------------\u001B[0m",
      "\u001B[1;31mAttributeError\u001B[0m                            Traceback (most recent call last)",
      "Cell \u001B[1;32mIn[32], line 1\u001B[0m\n\u001B[1;32m----> 1\u001B[0m \u001B[38;5;28;01mimport\u001B[39;00m \u001B[38;5;21;01mpandas\u001B[39;00m \u001B[38;5;28;01mas\u001B[39;00m \u001B[38;5;21;01mpd\u001B[39;00m\n\u001B[0;32m      3\u001B[0m data \u001B[38;5;241m=\u001B[39m pd\u001B[38;5;241m.\u001B[39mread_csv(data_file)\n\u001B[0;32m      4\u001B[0m \u001B[38;5;28mprint\u001B[39m(data)\n",
      "File \u001B[1;32mE:\\Anaconda\\pytorch\\lib\\site-packages\\pandas\\__init__.py:22\u001B[0m\n\u001B[0;32m     19\u001B[0m \u001B[38;5;28;01mdel\u001B[39;00m _hard_dependencies, _dependency, _missing_dependencies\n\u001B[0;32m     21\u001B[0m \u001B[38;5;66;03m# numpy compat\u001B[39;00m\n\u001B[1;32m---> 22\u001B[0m \u001B[38;5;28;01mfrom\u001B[39;00m \u001B[38;5;21;01mpandas\u001B[39;00m\u001B[38;5;21;01m.\u001B[39;00m\u001B[38;5;21;01mcompat\u001B[39;00m \u001B[38;5;28;01mimport\u001B[39;00m is_numpy_dev \u001B[38;5;28;01mas\u001B[39;00m _is_numpy_dev  \u001B[38;5;66;03m# pyright: ignore # noqa:F401\u001B[39;00m\n\u001B[0;32m     24\u001B[0m \u001B[38;5;28;01mtry\u001B[39;00m:\n\u001B[0;32m     25\u001B[0m     \u001B[38;5;28;01mfrom\u001B[39;00m \u001B[38;5;21;01mpandas\u001B[39;00m\u001B[38;5;21;01m.\u001B[39;00m\u001B[38;5;21;01m_libs\u001B[39;00m \u001B[38;5;28;01mimport\u001B[39;00m hashtable \u001B[38;5;28;01mas\u001B[39;00m _hashtable, lib \u001B[38;5;28;01mas\u001B[39;00m _lib, tslib \u001B[38;5;28;01mas\u001B[39;00m _tslib\n",
      "File \u001B[1;32mE:\\Anaconda\\pytorch\\lib\\site-packages\\pandas\\compat\\__init__.py:16\u001B[0m\n\u001B[0;32m     13\u001B[0m \u001B[38;5;28;01mimport\u001B[39;00m \u001B[38;5;21;01mplatform\u001B[39;00m\n\u001B[0;32m     14\u001B[0m \u001B[38;5;28;01mimport\u001B[39;00m \u001B[38;5;21;01msys\u001B[39;00m\n\u001B[1;32m---> 16\u001B[0m \u001B[38;5;28;01mfrom\u001B[39;00m \u001B[38;5;21;01mpandas\u001B[39;00m\u001B[38;5;21;01m.\u001B[39;00m\u001B[38;5;21;01m_typing\u001B[39;00m \u001B[38;5;28;01mimport\u001B[39;00m F\n\u001B[0;32m     17\u001B[0m \u001B[38;5;28;01mfrom\u001B[39;00m \u001B[38;5;21;01mpandas\u001B[39;00m\u001B[38;5;21;01m.\u001B[39;00m\u001B[38;5;21;01mcompat\u001B[39;00m\u001B[38;5;21;01m.\u001B[39;00m\u001B[38;5;21;01m_constants\u001B[39;00m \u001B[38;5;28;01mimport\u001B[39;00m (\n\u001B[0;32m     18\u001B[0m     IS64,\n\u001B[0;32m     19\u001B[0m     PY39,\n\u001B[1;32m   (...)\u001B[0m\n\u001B[0;32m     22\u001B[0m     PYPY,\n\u001B[0;32m     23\u001B[0m )\n\u001B[0;32m     24\u001B[0m \u001B[38;5;28;01mimport\u001B[39;00m \u001B[38;5;21;01mpandas\u001B[39;00m\u001B[38;5;21;01m.\u001B[39;00m\u001B[38;5;21;01mcompat\u001B[39;00m\u001B[38;5;21;01m.\u001B[39;00m\u001B[38;5;21;01mcompressors\u001B[39;00m\n",
      "File \u001B[1;32mE:\\Anaconda\\pytorch\\lib\\site-packages\\pandas\\_typing.py:138\u001B[0m\n\u001B[0;32m    132\u001B[0m Frequency \u001B[38;5;241m=\u001B[39m Union[\u001B[38;5;28mstr\u001B[39m, \u001B[38;5;124m\"\u001B[39m\u001B[38;5;124mBaseOffset\u001B[39m\u001B[38;5;124m\"\u001B[39m]\n\u001B[0;32m    133\u001B[0m Axes \u001B[38;5;241m=\u001B[39m Union[AnyArrayLike, List, \u001B[38;5;28mrange\u001B[39m]\n\u001B[0;32m    135\u001B[0m RandomState \u001B[38;5;241m=\u001B[39m Union[\n\u001B[0;32m    136\u001B[0m     \u001B[38;5;28mint\u001B[39m,\n\u001B[0;32m    137\u001B[0m     ArrayLike,\n\u001B[1;32m--> 138\u001B[0m     \u001B[43mnp\u001B[49m\u001B[38;5;241;43m.\u001B[39;49m\u001B[43mrandom\u001B[49m\u001B[38;5;241;43m.\u001B[39;49m\u001B[43mGenerator\u001B[49m,\n\u001B[0;32m    139\u001B[0m     np\u001B[38;5;241m.\u001B[39mrandom\u001B[38;5;241m.\u001B[39mBitGenerator,\n\u001B[0;32m    140\u001B[0m     np\u001B[38;5;241m.\u001B[39mrandom\u001B[38;5;241m.\u001B[39mRandomState,\n\u001B[0;32m    141\u001B[0m ]\n\u001B[0;32m    143\u001B[0m \u001B[38;5;66;03m# dtypes\u001B[39;00m\n\u001B[0;32m    144\u001B[0m NpDtype \u001B[38;5;241m=\u001B[39m Union[\u001B[38;5;28mstr\u001B[39m, np\u001B[38;5;241m.\u001B[39mdtype, type_t[Union[\u001B[38;5;28mstr\u001B[39m, \u001B[38;5;28mcomplex\u001B[39m, \u001B[38;5;28mbool\u001B[39m, \u001B[38;5;28mobject\u001B[39m]]]\n",
      "\u001B[1;31mAttributeError\u001B[0m: module 'numpy.random' has no attribute 'Generator'"
     ]
    }
   ],
   "source": [
    "import pandas as pd\n",
    "\n",
    "data = pd.read_csv(data_file)\n",
    "print(data)"
   ]
  },
  {
   "cell_type": "code",
   "execution_count": null,
   "metadata": {},
   "outputs": [],
   "source": [
    "inputs, outputs = data.iloc[:, 0:2], data.iloc[:, 2]\n",
    "inputs = inputs.fillna(inputs.mean())\n",
    "print(inputs)"
   ]
  },
  {
   "cell_type": "code",
   "execution_count": null,
   "metadata": {},
   "outputs": [],
   "source": [
    "inputs = pd.get_dummies(inputs, dummy_na=True)\n",
    "print(inputs)"
   ]
  },
  {
   "cell_type": "code",
   "execution_count": null,
   "metadata": {},
   "outputs": [],
   "source": [
    "import torch\n",
    "\n",
    "X = torch.tensor(inputs.to_numpy(dtype=float))\n",
    "y = torch.tensor(outputs.to_numpy(dtype=float))\n",
    "X, y"
   ]
  },
  {
   "cell_type": "code",
   "execution_count": null,
   "metadata": {},
   "outputs": [],
   "source": [
    "from mxnet import np, npx\n",
    "\n",
    "npx.set_np()\n",
    "\n",
    "x = np.array(3.0)\n",
    "y = np.array(2.0)\n",
    "\n",
    "x + y, x * y, x / y, x ** y"
   ]
  },
  {
   "cell_type": "code",
   "execution_count": 33,
   "metadata": {},
   "outputs": [
    {
     "data": {
      "text/plain": "tensor([0, 1, 2, 3])"
     },
     "execution_count": 33,
     "metadata": {},
     "output_type": "execute_result"
    }
   ],
   "source": [
    "x = torch.arange(4)\n",
    "x"
   ]
  },
  {
   "cell_type": "code",
   "execution_count": 34,
   "metadata": {},
   "outputs": [
    {
     "data": {
      "text/plain": "tensor(3)"
     },
     "execution_count": 34,
     "metadata": {},
     "output_type": "execute_result"
    }
   ],
   "source": [
    "x[3]\n"
   ]
  },
  {
   "cell_type": "code",
   "execution_count": 35,
   "metadata": {},
   "outputs": [
    {
     "data": {
      "text/plain": "4"
     },
     "execution_count": 35,
     "metadata": {},
     "output_type": "execute_result"
    }
   ],
   "source": [
    "len(x)\n"
   ]
  },
  {
   "cell_type": "code",
   "execution_count": 36,
   "metadata": {},
   "outputs": [
    {
     "data": {
      "text/plain": "torch.Size([4])"
     },
     "execution_count": 36,
     "metadata": {},
     "output_type": "execute_result"
    }
   ],
   "source": [
    "x.shape"
   ]
  },
  {
   "cell_type": "code",
   "execution_count": 37,
   "metadata": {},
   "outputs": [
    {
     "data": {
      "text/plain": "tensor([[ 0,  1,  2,  3],\n        [ 4,  5,  6,  7],\n        [ 8,  9, 10, 11],\n        [12, 13, 14, 15],\n        [16, 17, 18, 19]])"
     },
     "execution_count": 37,
     "metadata": {},
     "output_type": "execute_result"
    }
   ],
   "source": [
    "A = torch.arange(20).reshape(5, 4)\n",
    "A"
   ]
  },
  {
   "cell_type": "code",
   "execution_count": 38,
   "outputs": [
    {
     "data": {
      "text/plain": "tensor([[ 0,  4,  8, 12, 16],\n        [ 1,  5,  9, 13, 17],\n        [ 2,  6, 10, 14, 18],\n        [ 3,  7, 11, 15, 19]])"
     },
     "execution_count": 38,
     "metadata": {},
     "output_type": "execute_result"
    }
   ],
   "source": [
    "A.T\n"
   ],
   "metadata": {
    "collapsed": false,
    "pycharm": {
     "name": "#%%\n"
    }
   }
  },
  {
   "cell_type": "code",
   "execution_count": 39,
   "outputs": [
    {
     "data": {
      "text/plain": "tensor([[1, 2, 3],\n        [2, 0, 4],\n        [3, 4, 5]])"
     },
     "execution_count": 39,
     "metadata": {},
     "output_type": "execute_result"
    }
   ],
   "source": [
    "B = torch.tensor([[1, 2, 3], [2, 0, 4], [3, 4, 5]])\n",
    "B"
   ],
   "metadata": {
    "collapsed": false,
    "pycharm": {
     "name": "#%%\n"
    }
   }
  },
  {
   "cell_type": "code",
   "execution_count": 40,
   "outputs": [
    {
     "data": {
      "text/plain": "tensor([[True, True, True],\n        [True, True, True],\n        [True, True, True]])"
     },
     "execution_count": 40,
     "metadata": {},
     "output_type": "execute_result"
    }
   ],
   "source": [
    "B == B.T\n"
   ],
   "metadata": {
    "collapsed": false,
    "pycharm": {
     "name": "#%%\n"
    }
   }
  },
  {
   "cell_type": "code",
   "execution_count": 41,
   "outputs": [
    {
     "data": {
      "text/plain": "tensor([[[ 0,  1,  2,  3],\n         [ 4,  5,  6,  7],\n         [ 8,  9, 10, 11]],\n\n        [[12, 13, 14, 15],\n         [16, 17, 18, 19],\n         [20, 21, 22, 23]]])"
     },
     "execution_count": 41,
     "metadata": {},
     "output_type": "execute_result"
    }
   ],
   "source": [
    "X = torch.arange(24).reshape(2, 3, 4)\n",
    "X\n"
   ],
   "metadata": {
    "collapsed": false,
    "pycharm": {
     "name": "#%%\n"
    }
   }
  },
  {
   "cell_type": "code",
   "execution_count": 42,
   "outputs": [
    {
     "data": {
      "text/plain": "(tensor([[ 0.,  1.,  2.,  3.],\n         [ 4.,  5.,  6.,  7.],\n         [ 8.,  9., 10., 11.],\n         [12., 13., 14., 15.],\n         [16., 17., 18., 19.]]),\n tensor([[ 0.,  2.,  4.,  6.],\n         [ 8., 10., 12., 14.],\n         [16., 18., 20., 22.],\n         [24., 26., 28., 30.],\n         [32., 34., 36., 38.]]))"
     },
     "execution_count": 42,
     "metadata": {},
     "output_type": "execute_result"
    }
   ],
   "source": [
    "A = torch.arange(20, dtype=torch.float32).reshape(5, 4)\n",
    "B = A.clone()  # 通过分配新内存，将A的一个副本分配给B\n",
    "A, A + B\n"
   ],
   "metadata": {
    "collapsed": false,
    "pycharm": {
     "name": "#%%\n"
    }
   }
  },
  {
   "cell_type": "code",
   "execution_count": 43,
   "outputs": [
    {
     "data": {
      "text/plain": "tensor([[  0.,   1.,   4.,   9.],\n        [ 16.,  25.,  36.,  49.],\n        [ 64.,  81., 100., 121.],\n        [144., 169., 196., 225.],\n        [256., 289., 324., 361.]])"
     },
     "execution_count": 43,
     "metadata": {},
     "output_type": "execute_result"
    }
   ],
   "source": [
    "A * B\n"
   ],
   "metadata": {
    "collapsed": false,
    "pycharm": {
     "name": "#%%\n"
    }
   }
  },
  {
   "cell_type": "code",
   "execution_count": 44,
   "outputs": [
    {
     "data": {
      "text/plain": "(tensor([[[ 2,  3,  4,  5],\n          [ 6,  7,  8,  9],\n          [10, 11, 12, 13]],\n \n         [[14, 15, 16, 17],\n          [18, 19, 20, 21],\n          [22, 23, 24, 25]]]),\n torch.Size([2, 3, 4]))"
     },
     "execution_count": 44,
     "metadata": {},
     "output_type": "execute_result"
    }
   ],
   "source": [
    "a = 2\n",
    "X = torch.arange(24).reshape(2, 3, 4)\n",
    "a + X, (a * X).shape\n"
   ],
   "metadata": {
    "collapsed": false,
    "pycharm": {
     "name": "#%%\n"
    }
   }
  },
  {
   "cell_type": "code",
   "execution_count": 45,
   "outputs": [
    {
     "data": {
      "text/plain": "(tensor([0., 1., 2., 3.]), tensor(6.))"
     },
     "execution_count": 45,
     "metadata": {},
     "output_type": "execute_result"
    }
   ],
   "source": [
    "x = torch.arange(4, dtype=torch.float32)\n",
    "x, x.sum()\n"
   ],
   "metadata": {
    "collapsed": false,
    "pycharm": {
     "name": "#%%\n"
    }
   }
  },
  {
   "cell_type": "code",
   "execution_count": 46,
   "outputs": [
    {
     "data": {
      "text/plain": "(torch.Size([5, 4]), tensor(190.))"
     },
     "execution_count": 46,
     "metadata": {},
     "output_type": "execute_result"
    }
   ],
   "source": [
    "A.shape, A.sum()\n"
   ],
   "metadata": {
    "collapsed": false,
    "pycharm": {
     "name": "#%%\n"
    }
   }
  },
  {
   "cell_type": "code",
   "execution_count": 47,
   "outputs": [
    {
     "data": {
      "text/plain": "(tensor([40., 45., 50., 55.]), torch.Size([4]))"
     },
     "execution_count": 47,
     "metadata": {},
     "output_type": "execute_result"
    }
   ],
   "source": [
    "A_sum_axis0 = A.sum(axis=0)\n",
    "A_sum_axis0, A_sum_axis0.shape\n"
   ],
   "metadata": {
    "collapsed": false,
    "pycharm": {
     "name": "#%%\n"
    }
   }
  },
  {
   "cell_type": "code",
   "execution_count": 48,
   "outputs": [
    {
     "data": {
      "text/plain": "(tensor([ 6., 22., 38., 54., 70.]), torch.Size([5]))"
     },
     "execution_count": 48,
     "metadata": {},
     "output_type": "execute_result"
    }
   ],
   "source": [
    "A_sum_axis1 = A.sum(axis=1)\n",
    "A_sum_axis1, A_sum_axis1.shape\n"
   ],
   "metadata": {
    "collapsed": false,
    "pycharm": {
     "name": "#%%\n"
    }
   }
  },
  {
   "cell_type": "code",
   "execution_count": 49,
   "outputs": [
    {
     "data": {
      "text/plain": "tensor(190.)"
     },
     "execution_count": 49,
     "metadata": {},
     "output_type": "execute_result"
    }
   ],
   "source": [
    "A.sum(axis=[0, 1])"
   ],
   "metadata": {
    "collapsed": false,
    "pycharm": {
     "name": "#%%\n"
    }
   }
  },
  {
   "cell_type": "code",
   "execution_count": 50,
   "outputs": [
    {
     "data": {
      "text/plain": "(tensor(9.5000), tensor(9.5000))"
     },
     "execution_count": 50,
     "metadata": {},
     "output_type": "execute_result"
    }
   ],
   "source": [
    "A.mean(), A.sum() / A.numel()\n"
   ],
   "metadata": {
    "collapsed": false,
    "pycharm": {
     "name": "#%%\n"
    }
   }
  },
  {
   "cell_type": "code",
   "execution_count": 51,
   "outputs": [
    {
     "data": {
      "text/plain": "(tensor([ 8.,  9., 10., 11.]), tensor([ 8.,  9., 10., 11.]))"
     },
     "execution_count": 51,
     "metadata": {},
     "output_type": "execute_result"
    }
   ],
   "source": [
    "A.mean(axis=0), A.sum(axis=0) / A.shape[0]\n"
   ],
   "metadata": {
    "collapsed": false,
    "pycharm": {
     "name": "#%%\n"
    }
   }
  },
  {
   "cell_type": "code",
   "execution_count": 52,
   "outputs": [
    {
     "data": {
      "text/plain": "tensor([[ 6.],\n        [22.],\n        [38.],\n        [54.],\n        [70.]])"
     },
     "execution_count": 52,
     "metadata": {},
     "output_type": "execute_result"
    }
   ],
   "source": [
    "sum_A = A.sum(axis=1, keepdims=True)\n",
    "sum_A\n"
   ],
   "metadata": {
    "collapsed": false,
    "pycharm": {
     "name": "#%%\n"
    }
   }
  },
  {
   "cell_type": "code",
   "execution_count": 53,
   "outputs": [
    {
     "data": {
      "text/plain": "tensor([[0.0000, 0.1667, 0.3333, 0.5000],\n        [0.1818, 0.2273, 0.2727, 0.3182],\n        [0.2105, 0.2368, 0.2632, 0.2895],\n        [0.2222, 0.2407, 0.2593, 0.2778],\n        [0.2286, 0.2429, 0.2571, 0.2714]])"
     },
     "execution_count": 53,
     "metadata": {},
     "output_type": "execute_result"
    }
   ],
   "source": [
    "A / sum_A\n"
   ],
   "metadata": {
    "collapsed": false,
    "pycharm": {
     "name": "#%%\n"
    }
   }
  },
  {
   "cell_type": "code",
   "execution_count": 54,
   "outputs": [
    {
     "data": {
      "text/plain": "tensor([[ 0.,  1.,  2.,  3.],\n        [ 4.,  6.,  8., 10.],\n        [12., 15., 18., 21.],\n        [24., 28., 32., 36.],\n        [40., 45., 50., 55.]])"
     },
     "execution_count": 54,
     "metadata": {},
     "output_type": "execute_result"
    }
   ],
   "source": [
    "A.cumsum(axis=0)\n"
   ],
   "metadata": {
    "collapsed": false,
    "pycharm": {
     "name": "#%%\n"
    }
   }
  },
  {
   "cell_type": "code",
   "execution_count": 55,
   "outputs": [
    {
     "data": {
      "text/plain": "(tensor([0., 1., 2., 3.]), tensor([1., 1., 1., 1.]), tensor(6.))"
     },
     "execution_count": 55,
     "metadata": {},
     "output_type": "execute_result"
    }
   ],
   "source": [
    "y = torch.ones(4, dtype = torch.float32)\n",
    "x, y, torch.dot(x, y)\n"
   ],
   "metadata": {
    "collapsed": false,
    "pycharm": {
     "name": "#%%\n"
    }
   }
  },
  {
   "cell_type": "code",
   "execution_count": 56,
   "outputs": [
    {
     "data": {
      "text/plain": "tensor(6.)"
     },
     "execution_count": 56,
     "metadata": {},
     "output_type": "execute_result"
    }
   ],
   "source": [
    "torch.sum(x * y)\n"
   ],
   "metadata": {
    "collapsed": false,
    "pycharm": {
     "name": "#%%\n"
    }
   }
  },
  {
   "cell_type": "code",
   "execution_count": 57,
   "outputs": [
    {
     "data": {
      "text/plain": "(torch.Size([5, 4]), torch.Size([4]), tensor([ 14.,  38.,  62.,  86., 110.]))"
     },
     "execution_count": 57,
     "metadata": {},
     "output_type": "execute_result"
    }
   ],
   "source": [
    "A.shape, x.shape, torch.mv(A, x)\n"
   ],
   "metadata": {
    "collapsed": false,
    "pycharm": {
     "name": "#%%\n"
    }
   }
  },
  {
   "cell_type": "code",
   "execution_count": 58,
   "outputs": [
    {
     "data": {
      "text/plain": "tensor([[ 6.,  6.,  6.],\n        [22., 22., 22.],\n        [38., 38., 38.],\n        [54., 54., 54.],\n        [70., 70., 70.]])"
     },
     "execution_count": 58,
     "metadata": {},
     "output_type": "execute_result"
    }
   ],
   "source": [
    "B = torch.ones(4, 3)\n",
    "torch.mm(A, B)\n"
   ],
   "metadata": {
    "collapsed": false,
    "pycharm": {
     "name": "#%%\n"
    }
   }
  },
  {
   "cell_type": "code",
   "execution_count": 59,
   "outputs": [
    {
     "data": {
      "text/plain": "tensor(5.)"
     },
     "execution_count": 59,
     "metadata": {},
     "output_type": "execute_result"
    }
   ],
   "source": [
    "u = torch.tensor([3.0, -4.0])\n",
    "torch.norm(u)\n"
   ],
   "metadata": {
    "collapsed": false,
    "pycharm": {
     "name": "#%%\n"
    }
   }
  },
  {
   "cell_type": "code",
   "execution_count": 60,
   "outputs": [
    {
     "data": {
      "text/plain": "tensor(7.)"
     },
     "execution_count": 60,
     "metadata": {},
     "output_type": "execute_result"
    }
   ],
   "source": [
    "torch.abs(u).sum()\n"
   ],
   "metadata": {
    "collapsed": false,
    "pycharm": {
     "name": "#%%\n"
    }
   }
  },
  {
   "cell_type": "code",
   "execution_count": 61,
   "outputs": [
    {
     "data": {
      "text/plain": "tensor(6.)"
     },
     "execution_count": 61,
     "metadata": {},
     "output_type": "execute_result"
    }
   ],
   "source": [
    "torch.norm(torch.ones((4, 9)))\n"
   ],
   "metadata": {
    "collapsed": false,
    "pycharm": {
     "name": "#%%\n"
    }
   }
  },
  {
   "cell_type": "code",
   "execution_count": 1,
   "outputs": [],
   "source": [
    "#微积分\n",
    "%matplotlib inline\n",
    "import numpy as np\n",
    "from matplotlib_inline import backend_inline\n",
    "from d2l import torch as d2l\n",
    "\n",
    "\n",
    "def f(x):\n",
    "    return 3 * x ** 2 - 4 * x"
   ],
   "metadata": {
    "collapsed": false,
    "pycharm": {
     "name": "#%%\n"
    }
   }
  },
  {
   "cell_type": "code",
   "execution_count": 2,
   "outputs": [
    {
     "name": "stdout",
     "output_type": "stream",
     "text": [
      "h=0.10000, numerical limit=2.30000\n",
      "h=0.01000, numerical limit=2.03000\n",
      "h=0.00100, numerical limit=2.00300\n",
      "h=0.00010, numerical limit=2.00030\n",
      "h=0.00001, numerical limit=2.00003\n"
     ]
    }
   ],
   "source": [
    "def numerical_lim(f, x, h):\n",
    "    return (f(x + h) - f(x)) / h\n",
    "\n",
    "h = 0.1\n",
    "for i in range(5):\n",
    "    print(f'h={h:.5f}, numerical limit={numerical_lim(f, 1, h):.5f}')\n",
    "    h *= 0.1\n"
   ],
   "metadata": {
    "collapsed": false,
    "pycharm": {
     "name": "#%%\n"
    }
   }
  },
  {
   "cell_type": "code",
   "execution_count": 3,
   "outputs": [],
   "source": [
    "def use_svg_display():  #@save\n",
    "    \"\"\"使用svg格式在Jupyter中显示绘图\"\"\"\n",
    "    backend_inline.set_matplotlib_formats('svg')"
   ],
   "metadata": {
    "collapsed": false,
    "pycharm": {
     "name": "#%%\n"
    }
   }
  },
  {
   "cell_type": "code",
   "execution_count": 4,
   "outputs": [],
   "source": [
    "def set_figsize(figsize=(3.5, 2.5)):  #@save\n",
    "    \"\"\"设置matplotlib的图表大小\"\"\"\n",
    "    use_svg_display()\n",
    "    d2l.plt.rcParams['figure.figsize'] = figsize\n"
   ],
   "metadata": {
    "collapsed": false,
    "pycharm": {
     "name": "#%%\n"
    }
   }
  },
  {
   "cell_type": "code",
   "execution_count": 5,
   "outputs": [],
   "source": [
    "#@save\n",
    "def set_axes(axes, xlabel, ylabel, xlim, ylim, xscale, yscale, legend):\n",
    "    \"\"\"设置matplotlib的轴\"\"\"\n",
    "    axes.set_xlabel(xlabel)\n",
    "    axes.set_ylabel(ylabel)\n",
    "    axes.set_xscale(xscale)\n",
    "    axes.set_yscale(yscale)\n",
    "    axes.set_xlim(xlim)\n",
    "    axes.set_ylim(ylim)\n",
    "    if legend:\n",
    "        axes.legend(legend)\n",
    "    axes.grid()\n"
   ],
   "metadata": {
    "collapsed": false,
    "pycharm": {
     "name": "#%%\n"
    }
   }
  },
  {
   "cell_type": "code",
   "execution_count": 6,
   "outputs": [],
   "source": [
    "#@save\n",
    "def plot(X, Y=None, xlabel=None, ylabel=None, legend=None, xlim=None,\n",
    "         ylim=None, xscale='linear', yscale='linear',\n",
    "         fmts=('-', 'm--', 'g-.', 'r:'), figsize=(3.5, 2.5), axes=None):\n",
    "    \"\"\"绘制数据点\"\"\"\n",
    "    if legend is None:\n",
    "        legend = []\n",
    "\n",
    "    set_figsize(figsize)\n",
    "    axes = axes if axes else d2l.plt.gca()\n",
    "\n",
    "    # 如果X有一个轴，输出True\n",
    "    def has_one_axis(X):\n",
    "        return (hasattr(X, \"ndim\") and X.ndim == 1 or isinstance(X, list)\n",
    "                and not hasattr(X[0], \"__len__\"))\n",
    "\n",
    "    if has_one_axis(X):\n",
    "        X = [X]\n",
    "    if Y is None:\n",
    "        X, Y = [[]] * len(X), X\n",
    "    elif has_one_axis(Y):\n",
    "        Y = [Y]\n",
    "    if len(X) != len(Y):\n",
    "        X = X * len(Y)\n",
    "    axes.cla()\n",
    "    for x, y, fmt in zip(X, Y, fmts):\n",
    "        if len(x):\n",
    "            axes.plot(x, y, fmt)\n",
    "        else:\n",
    "            axes.plot(y, fmt)\n",
    "    set_axes(axes, xlabel, ylabel, xlim, ylim, xscale, yscale, legend)\n"
   ],
   "metadata": {
    "collapsed": false,
    "pycharm": {
     "name": "#%%\n"
    }
   }
  },
  {
   "cell_type": "code",
   "execution_count": 7,
   "outputs": [
    {
     "data": {
      "text/plain": "<Figure size 350x250 with 1 Axes>",
      "image/svg+xml": "<?xml version=\"1.0\" encoding=\"utf-8\" standalone=\"no\"?>\n<!DOCTYPE svg PUBLIC \"-//W3C//DTD SVG 1.1//EN\"\n  \"http://www.w3.org/Graphics/SVG/1.1/DTD/svg11.dtd\">\n<svg xmlns:xlink=\"http://www.w3.org/1999/xlink\" width=\"243.529359pt\" height=\"183.35625pt\" viewBox=\"0 0 243.529359 183.35625\" xmlns=\"http://www.w3.org/2000/svg\" version=\"1.1\">\n <metadata>\n  <rdf:RDF xmlns:dc=\"http://purl.org/dc/elements/1.1/\" xmlns:cc=\"http://creativecommons.org/ns#\" xmlns:rdf=\"http://www.w3.org/1999/02/22-rdf-syntax-ns#\">\n   <cc:Work>\n    <dc:type rdf:resource=\"http://purl.org/dc/dcmitype/StillImage\"/>\n    <dc:date>2025-05-19T14:52:54.311738</dc:date>\n    <dc:format>image/svg+xml</dc:format>\n    <dc:creator>\n     <cc:Agent>\n      <dc:title>Matplotlib v3.7.2, https://matplotlib.org/</dc:title>\n     </cc:Agent>\n    </dc:creator>\n   </cc:Work>\n  </rdf:RDF>\n </metadata>\n <defs>\n  <style type=\"text/css\">*{stroke-linejoin: round; stroke-linecap: butt}</style>\n </defs>\n <g id=\"figure_1\">\n  <g id=\"patch_1\">\n   <path d=\"M 0 183.35625 \nL 243.529359 183.35625 \nL 243.529359 0 \nL 0 0 \nz\n\" style=\"fill: #ffffff\"/>\n  </g>\n  <g id=\"axes_1\">\n   <g id=\"patch_2\">\n    <path d=\"M 40.603125 145.8 \nL 235.903125 145.8 \nL 235.903125 7.2 \nL 40.603125 7.2 \nz\n\" style=\"fill: #ffffff\"/>\n   </g>\n   <g id=\"matplotlib.axis_1\">\n    <g id=\"xtick_1\">\n     <g id=\"line2d_1\">\n      <path d=\"M 49.480398 145.8 \nL 49.480398 7.2 \n\" clip-path=\"url(#pc40e30196d)\" style=\"fill: none; stroke: #b0b0b0; stroke-width: 0.8; stroke-linecap: square\"/>\n     </g>\n     <g id=\"line2d_2\">\n      <defs>\n       <path id=\"md0c6b32810\" d=\"M 0 0 \nL 0 3.5 \n\" style=\"stroke: #000000; stroke-width: 0.8\"/>\n      </defs>\n      <g>\n       <use xlink:href=\"#md0c6b32810\" x=\"49.480398\" y=\"145.8\" style=\"stroke: #000000; stroke-width: 0.8\"/>\n      </g>\n     </g>\n     <g id=\"text_1\">\n      <!-- 0 -->\n      <g transform=\"translate(46.299148 160.398438) scale(0.1 -0.1)\">\n       <defs>\n        <path id=\"DejaVuSans-30\" d=\"M 2034 4250 \nQ 1547 4250 1301 3770 \nQ 1056 3291 1056 2328 \nQ 1056 1369 1301 889 \nQ 1547 409 2034 409 \nQ 2525 409 2770 889 \nQ 3016 1369 3016 2328 \nQ 3016 3291 2770 3770 \nQ 2525 4250 2034 4250 \nz\nM 2034 4750 \nQ 2819 4750 3233 4129 \nQ 3647 3509 3647 2328 \nQ 3647 1150 3233 529 \nQ 2819 -91 2034 -91 \nQ 1250 -91 836 529 \nQ 422 1150 422 2328 \nQ 422 3509 836 4129 \nQ 1250 4750 2034 4750 \nz\n\" transform=\"scale(0.015625)\"/>\n       </defs>\n       <use xlink:href=\"#DejaVuSans-30\"/>\n      </g>\n     </g>\n    </g>\n    <g id=\"xtick_2\">\n     <g id=\"line2d_3\">\n      <path d=\"M 110.702968 145.8 \nL 110.702968 7.2 \n\" clip-path=\"url(#pc40e30196d)\" style=\"fill: none; stroke: #b0b0b0; stroke-width: 0.8; stroke-linecap: square\"/>\n     </g>\n     <g id=\"line2d_4\">\n      <g>\n       <use xlink:href=\"#md0c6b32810\" x=\"110.702968\" y=\"145.8\" style=\"stroke: #000000; stroke-width: 0.8\"/>\n      </g>\n     </g>\n     <g id=\"text_2\">\n      <!-- 1 -->\n      <g transform=\"translate(107.521718 160.398438) scale(0.1 -0.1)\">\n       <defs>\n        <path id=\"DejaVuSans-31\" d=\"M 794 531 \nL 1825 531 \nL 1825 4091 \nL 703 3866 \nL 703 4441 \nL 1819 4666 \nL 2450 4666 \nL 2450 531 \nL 3481 531 \nL 3481 0 \nL 794 0 \nL 794 531 \nz\n\" transform=\"scale(0.015625)\"/>\n       </defs>\n       <use xlink:href=\"#DejaVuSans-31\"/>\n      </g>\n     </g>\n    </g>\n    <g id=\"xtick_3\">\n     <g id=\"line2d_5\">\n      <path d=\"M 171.925539 145.8 \nL 171.925539 7.2 \n\" clip-path=\"url(#pc40e30196d)\" style=\"fill: none; stroke: #b0b0b0; stroke-width: 0.8; stroke-linecap: square\"/>\n     </g>\n     <g id=\"line2d_6\">\n      <g>\n       <use xlink:href=\"#md0c6b32810\" x=\"171.925539\" y=\"145.8\" style=\"stroke: #000000; stroke-width: 0.8\"/>\n      </g>\n     </g>\n     <g id=\"text_3\">\n      <!-- 2 -->\n      <g transform=\"translate(168.744289 160.398438) scale(0.1 -0.1)\">\n       <defs>\n        <path id=\"DejaVuSans-32\" d=\"M 1228 531 \nL 3431 531 \nL 3431 0 \nL 469 0 \nL 469 531 \nQ 828 903 1448 1529 \nQ 2069 2156 2228 2338 \nQ 2531 2678 2651 2914 \nQ 2772 3150 2772 3378 \nQ 2772 3750 2511 3984 \nQ 2250 4219 1831 4219 \nQ 1534 4219 1204 4116 \nQ 875 4013 500 3803 \nL 500 4441 \nQ 881 4594 1212 4672 \nQ 1544 4750 1819 4750 \nQ 2544 4750 2975 4387 \nQ 3406 4025 3406 3419 \nQ 3406 3131 3298 2873 \nQ 3191 2616 2906 2266 \nQ 2828 2175 2409 1742 \nQ 1991 1309 1228 531 \nz\n\" transform=\"scale(0.015625)\"/>\n       </defs>\n       <use xlink:href=\"#DejaVuSans-32\"/>\n      </g>\n     </g>\n    </g>\n    <g id=\"xtick_4\">\n     <g id=\"line2d_7\">\n      <path d=\"M 233.148109 145.8 \nL 233.148109 7.2 \n\" clip-path=\"url(#pc40e30196d)\" style=\"fill: none; stroke: #b0b0b0; stroke-width: 0.8; stroke-linecap: square\"/>\n     </g>\n     <g id=\"line2d_8\">\n      <g>\n       <use xlink:href=\"#md0c6b32810\" x=\"233.148109\" y=\"145.8\" style=\"stroke: #000000; stroke-width: 0.8\"/>\n      </g>\n     </g>\n     <g id=\"text_4\">\n      <!-- 3 -->\n      <g transform=\"translate(229.966859 160.398438) scale(0.1 -0.1)\">\n       <defs>\n        <path id=\"DejaVuSans-33\" d=\"M 2597 2516 \nQ 3050 2419 3304 2112 \nQ 3559 1806 3559 1356 \nQ 3559 666 3084 287 \nQ 2609 -91 1734 -91 \nQ 1441 -91 1130 -33 \nQ 819 25 488 141 \nL 488 750 \nQ 750 597 1062 519 \nQ 1375 441 1716 441 \nQ 2309 441 2620 675 \nQ 2931 909 2931 1356 \nQ 2931 1769 2642 2001 \nQ 2353 2234 1838 2234 \nL 1294 2234 \nL 1294 2753 \nL 1863 2753 \nQ 2328 2753 2575 2939 \nQ 2822 3125 2822 3475 \nQ 2822 3834 2567 4026 \nQ 2313 4219 1838 4219 \nQ 1578 4219 1281 4162 \nQ 984 4106 628 3988 \nL 628 4550 \nQ 988 4650 1302 4700 \nQ 1616 4750 1894 4750 \nQ 2613 4750 3031 4423 \nQ 3450 4097 3450 3541 \nQ 3450 3153 3228 2886 \nQ 3006 2619 2597 2516 \nz\n\" transform=\"scale(0.015625)\"/>\n       </defs>\n       <use xlink:href=\"#DejaVuSans-33\"/>\n      </g>\n     </g>\n    </g>\n    <g id=\"text_5\">\n     <!-- x -->\n     <g transform=\"translate(135.29375 174.076563) scale(0.1 -0.1)\">\n      <defs>\n       <path id=\"DejaVuSans-78\" d=\"M 3513 3500 \nL 2247 1797 \nL 3578 0 \nL 2900 0 \nL 1881 1375 \nL 863 0 \nL 184 0 \nL 1544 1831 \nL 300 3500 \nL 978 3500 \nL 1906 2253 \nL 2834 3500 \nL 3513 3500 \nz\n\" transform=\"scale(0.015625)\"/>\n      </defs>\n      <use xlink:href=\"#DejaVuSans-78\"/>\n     </g>\n    </g>\n   </g>\n   <g id=\"matplotlib.axis_2\">\n    <g id=\"ytick_1\">\n     <g id=\"line2d_9\">\n      <path d=\"M 40.603125 116.769994 \nL 235.903125 116.769994 \n\" clip-path=\"url(#pc40e30196d)\" style=\"fill: none; stroke: #b0b0b0; stroke-width: 0.8; stroke-linecap: square\"/>\n     </g>\n     <g id=\"line2d_10\">\n      <defs>\n       <path id=\"mfad1b9228f\" d=\"M 0 0 \nL -3.5 0 \n\" style=\"stroke: #000000; stroke-width: 0.8\"/>\n      </defs>\n      <g>\n       <use xlink:href=\"#mfad1b9228f\" x=\"40.603125\" y=\"116.769994\" style=\"stroke: #000000; stroke-width: 0.8\"/>\n      </g>\n     </g>\n     <g id=\"text_6\">\n      <!-- 0 -->\n      <g transform=\"translate(27.240625 120.569213) scale(0.1 -0.1)\">\n       <use xlink:href=\"#DejaVuSans-30\"/>\n      </g>\n     </g>\n    </g>\n    <g id=\"ytick_2\">\n     <g id=\"line2d_11\">\n      <path d=\"M 40.603125 78.886651 \nL 235.903125 78.886651 \n\" clip-path=\"url(#pc40e30196d)\" style=\"fill: none; stroke: #b0b0b0; stroke-width: 0.8; stroke-linecap: square\"/>\n     </g>\n     <g id=\"line2d_12\">\n      <g>\n       <use xlink:href=\"#mfad1b9228f\" x=\"40.603125\" y=\"78.886651\" style=\"stroke: #000000; stroke-width: 0.8\"/>\n      </g>\n     </g>\n     <g id=\"text_7\">\n      <!-- 5 -->\n      <g transform=\"translate(27.240625 82.685869) scale(0.1 -0.1)\">\n       <defs>\n        <path id=\"DejaVuSans-35\" d=\"M 691 4666 \nL 3169 4666 \nL 3169 4134 \nL 1269 4134 \nL 1269 2991 \nQ 1406 3038 1543 3061 \nQ 1681 3084 1819 3084 \nQ 2600 3084 3056 2656 \nQ 3513 2228 3513 1497 \nQ 3513 744 3044 326 \nQ 2575 -91 1722 -91 \nQ 1428 -91 1123 -41 \nQ 819 9 494 109 \nL 494 744 \nQ 775 591 1075 516 \nQ 1375 441 1709 441 \nQ 2250 441 2565 725 \nQ 2881 1009 2881 1497 \nQ 2881 1984 2565 2268 \nQ 2250 2553 1709 2553 \nQ 1456 2553 1204 2497 \nQ 953 2441 691 2322 \nL 691 4666 \nz\n\" transform=\"scale(0.015625)\"/>\n       </defs>\n       <use xlink:href=\"#DejaVuSans-35\"/>\n      </g>\n     </g>\n    </g>\n    <g id=\"ytick_3\">\n     <g id=\"line2d_13\">\n      <path d=\"M 40.603125 41.003307 \nL 235.903125 41.003307 \n\" clip-path=\"url(#pc40e30196d)\" style=\"fill: none; stroke: #b0b0b0; stroke-width: 0.8; stroke-linecap: square\"/>\n     </g>\n     <g id=\"line2d_14\">\n      <g>\n       <use xlink:href=\"#mfad1b9228f\" x=\"40.603125\" y=\"41.003307\" style=\"stroke: #000000; stroke-width: 0.8\"/>\n      </g>\n     </g>\n     <g id=\"text_8\">\n      <!-- 10 -->\n      <g transform=\"translate(20.878125 44.802526) scale(0.1 -0.1)\">\n       <use xlink:href=\"#DejaVuSans-31\"/>\n       <use xlink:href=\"#DejaVuSans-30\" x=\"63.623047\"/>\n      </g>\n     </g>\n    </g>\n    <g id=\"text_9\">\n     <!-- f(x) -->\n     <g transform=\"translate(14.798437 85.121094) rotate(-90) scale(0.1 -0.1)\">\n      <defs>\n       <path id=\"DejaVuSans-66\" d=\"M 2375 4863 \nL 2375 4384 \nL 1825 4384 \nQ 1516 4384 1395 4259 \nQ 1275 4134 1275 3809 \nL 1275 3500 \nL 2222 3500 \nL 2222 3053 \nL 1275 3053 \nL 1275 0 \nL 697 0 \nL 697 3053 \nL 147 3053 \nL 147 3500 \nL 697 3500 \nL 697 3744 \nQ 697 4328 969 4595 \nQ 1241 4863 1831 4863 \nL 2375 4863 \nz\n\" transform=\"scale(0.015625)\"/>\n       <path id=\"DejaVuSans-28\" d=\"M 1984 4856 \nQ 1566 4138 1362 3434 \nQ 1159 2731 1159 2009 \nQ 1159 1288 1364 580 \nQ 1569 -128 1984 -844 \nL 1484 -844 \nQ 1016 -109 783 600 \nQ 550 1309 550 2009 \nQ 550 2706 781 3412 \nQ 1013 4119 1484 4856 \nL 1984 4856 \nz\n\" transform=\"scale(0.015625)\"/>\n       <path id=\"DejaVuSans-29\" d=\"M 513 4856 \nL 1013 4856 \nQ 1481 4119 1714 3412 \nQ 1947 2706 1947 2009 \nQ 1947 1309 1714 600 \nQ 1481 -109 1013 -844 \nL 513 -844 \nQ 928 -128 1133 580 \nQ 1338 1288 1338 2009 \nQ 1338 2731 1133 3434 \nQ 928 4138 513 4856 \nz\n\" transform=\"scale(0.015625)\"/>\n      </defs>\n      <use xlink:href=\"#DejaVuSans-66\"/>\n      <use xlink:href=\"#DejaVuSans-28\" x=\"35.205078\"/>\n      <use xlink:href=\"#DejaVuSans-78\" x=\"74.21875\"/>\n      <use xlink:href=\"#DejaVuSans-29\" x=\"133.398438\"/>\n     </g>\n    </g>\n   </g>\n   <g id=\"line2d_15\">\n    <path d=\"M 49.480398 116.769994 \nL 55.602655 119.573361 \nL 61.724912 121.922129 \nL 67.847169 123.816296 \nL 73.969426 125.255863 \nL 80.091683 126.24083 \nL 86.21394 126.771197 \nL 92.336197 126.846963 \nL 98.458454 126.46813 \nL 104.580711 125.634696 \nL 110.702968 124.346663 \nL 116.825225 122.604029 \nL 122.947482 120.406795 \nL 129.069739 117.754961 \nL 135.191996 114.648527 \nL 141.314254 111.087492 \nL 147.436511 107.071858 \nL 153.558768 102.601624 \nL 159.681025 97.676789 \nL 165.803282 92.297354 \nL 171.925539 86.463319 \nL 178.047796 80.174684 \nL 184.170053 73.431449 \nL 190.29231 66.233614 \nL 196.414567 58.581179 \nL 202.536824 50.474143 \nL 208.659081 41.912508 \nL 214.781338 32.896272 \nL 220.903595 23.425436 \nL 227.025852 13.5 \n\" clip-path=\"url(#pc40e30196d)\" style=\"fill: none; stroke: #1f77b4; stroke-width: 1.5; stroke-linecap: square\"/>\n   </g>\n   <g id=\"line2d_16\">\n    <path d=\"M 49.480398 139.5 \nL 55.602655 137.984666 \nL 61.724912 136.469333 \nL 67.847169 134.953999 \nL 73.969426 133.438665 \nL 80.091683 131.923331 \nL 86.21394 130.407998 \nL 92.336197 128.892664 \nL 98.458454 127.37733 \nL 104.580711 125.861996 \nL 110.702968 124.346663 \nL 116.825225 122.831329 \nL 122.947482 121.315995 \nL 129.069739 119.800661 \nL 135.191996 118.285328 \nL 141.314254 116.769994 \nL 147.436511 115.25466 \nL 153.558768 113.739327 \nL 159.681025 112.223993 \nL 165.803282 110.708659 \nL 171.925539 109.193325 \nL 178.047796 107.677992 \nL 184.170053 106.162658 \nL 190.29231 104.647324 \nL 196.414567 103.13199 \nL 202.536824 101.616657 \nL 208.659081 100.101323 \nL 214.781338 98.585989 \nL 220.903595 97.070655 \nL 227.025852 95.555322 \n\" clip-path=\"url(#pc40e30196d)\" style=\"fill: none; stroke-dasharray: 5.55,2.4; stroke-dashoffset: 0; stroke: #bf00bf; stroke-width: 1.5\"/>\n   </g>\n   <g id=\"patch_3\">\n    <path d=\"M 40.603125 145.8 \nL 40.603125 7.2 \n\" style=\"fill: none; stroke: #000000; stroke-width: 0.8; stroke-linejoin: miter; stroke-linecap: square\"/>\n   </g>\n   <g id=\"patch_4\">\n    <path d=\"M 235.903125 145.8 \nL 235.903125 7.2 \n\" style=\"fill: none; stroke: #000000; stroke-width: 0.8; stroke-linejoin: miter; stroke-linecap: square\"/>\n   </g>\n   <g id=\"patch_5\">\n    <path d=\"M 40.603125 145.8 \nL 235.903125 145.8 \n\" style=\"fill: none; stroke: #000000; stroke-width: 0.8; stroke-linejoin: miter; stroke-linecap: square\"/>\n   </g>\n   <g id=\"patch_6\">\n    <path d=\"M 40.603125 7.2 \nL 235.903125 7.2 \n\" style=\"fill: none; stroke: #000000; stroke-width: 0.8; stroke-linejoin: miter; stroke-linecap: square\"/>\n   </g>\n   <g id=\"legend_1\">\n    <g id=\"patch_7\">\n     <path d=\"M 47.603125 44.55625 \nL 172.153125 44.55625 \nQ 174.153125 44.55625 174.153125 42.55625 \nL 174.153125 14.2 \nQ 174.153125 12.2 172.153125 12.2 \nL 47.603125 12.2 \nQ 45.603125 12.2 45.603125 14.2 \nL 45.603125 42.55625 \nQ 45.603125 44.55625 47.603125 44.55625 \nz\n\" style=\"fill: #ffffff; opacity: 0.8; stroke: #cccccc; stroke-linejoin: miter\"/>\n    </g>\n    <g id=\"line2d_17\">\n     <path d=\"M 49.603125 20.298438 \nL 59.603125 20.298438 \nL 69.603125 20.298438 \n\" style=\"fill: none; stroke: #1f77b4; stroke-width: 1.5; stroke-linecap: square\"/>\n    </g>\n    <g id=\"text_10\">\n     <!-- f(x) -->\n     <g transform=\"translate(77.603125 23.798438) scale(0.1 -0.1)\">\n      <use xlink:href=\"#DejaVuSans-66\"/>\n      <use xlink:href=\"#DejaVuSans-28\" x=\"35.205078\"/>\n      <use xlink:href=\"#DejaVuSans-78\" x=\"74.21875\"/>\n      <use xlink:href=\"#DejaVuSans-29\" x=\"133.398438\"/>\n     </g>\n    </g>\n    <g id=\"line2d_18\">\n     <path d=\"M 49.603125 34.976562 \nL 59.603125 34.976562 \nL 69.603125 34.976562 \n\" style=\"fill: none; stroke-dasharray: 5.55,2.4; stroke-dashoffset: 0; stroke: #bf00bf; stroke-width: 1.5\"/>\n    </g>\n    <g id=\"text_11\">\n     <!-- Tangent line (x=1) -->\n     <g transform=\"translate(77.603125 38.476562) scale(0.1 -0.1)\">\n      <defs>\n       <path id=\"DejaVuSans-54\" d=\"M -19 4666 \nL 3928 4666 \nL 3928 4134 \nL 2272 4134 \nL 2272 0 \nL 1638 0 \nL 1638 4134 \nL -19 4134 \nL -19 4666 \nz\n\" transform=\"scale(0.015625)\"/>\n       <path id=\"DejaVuSans-61\" d=\"M 2194 1759 \nQ 1497 1759 1228 1600 \nQ 959 1441 959 1056 \nQ 959 750 1161 570 \nQ 1363 391 1709 391 \nQ 2188 391 2477 730 \nQ 2766 1069 2766 1631 \nL 2766 1759 \nL 2194 1759 \nz\nM 3341 1997 \nL 3341 0 \nL 2766 0 \nL 2766 531 \nQ 2569 213 2275 61 \nQ 1981 -91 1556 -91 \nQ 1019 -91 701 211 \nQ 384 513 384 1019 \nQ 384 1609 779 1909 \nQ 1175 2209 1959 2209 \nL 2766 2209 \nL 2766 2266 \nQ 2766 2663 2505 2880 \nQ 2244 3097 1772 3097 \nQ 1472 3097 1187 3025 \nQ 903 2953 641 2809 \nL 641 3341 \nQ 956 3463 1253 3523 \nQ 1550 3584 1831 3584 \nQ 2591 3584 2966 3190 \nQ 3341 2797 3341 1997 \nz\n\" transform=\"scale(0.015625)\"/>\n       <path id=\"DejaVuSans-6e\" d=\"M 3513 2113 \nL 3513 0 \nL 2938 0 \nL 2938 2094 \nQ 2938 2591 2744 2837 \nQ 2550 3084 2163 3084 \nQ 1697 3084 1428 2787 \nQ 1159 2491 1159 1978 \nL 1159 0 \nL 581 0 \nL 581 3500 \nL 1159 3500 \nL 1159 2956 \nQ 1366 3272 1645 3428 \nQ 1925 3584 2291 3584 \nQ 2894 3584 3203 3211 \nQ 3513 2838 3513 2113 \nz\n\" transform=\"scale(0.015625)\"/>\n       <path id=\"DejaVuSans-67\" d=\"M 2906 1791 \nQ 2906 2416 2648 2759 \nQ 2391 3103 1925 3103 \nQ 1463 3103 1205 2759 \nQ 947 2416 947 1791 \nQ 947 1169 1205 825 \nQ 1463 481 1925 481 \nQ 2391 481 2648 825 \nQ 2906 1169 2906 1791 \nz\nM 3481 434 \nQ 3481 -459 3084 -895 \nQ 2688 -1331 1869 -1331 \nQ 1566 -1331 1297 -1286 \nQ 1028 -1241 775 -1147 \nL 775 -588 \nQ 1028 -725 1275 -790 \nQ 1522 -856 1778 -856 \nQ 2344 -856 2625 -561 \nQ 2906 -266 2906 331 \nL 2906 616 \nQ 2728 306 2450 153 \nQ 2172 0 1784 0 \nQ 1141 0 747 490 \nQ 353 981 353 1791 \nQ 353 2603 747 3093 \nQ 1141 3584 1784 3584 \nQ 2172 3584 2450 3431 \nQ 2728 3278 2906 2969 \nL 2906 3500 \nL 3481 3500 \nL 3481 434 \nz\n\" transform=\"scale(0.015625)\"/>\n       <path id=\"DejaVuSans-65\" d=\"M 3597 1894 \nL 3597 1613 \nL 953 1613 \nQ 991 1019 1311 708 \nQ 1631 397 2203 397 \nQ 2534 397 2845 478 \nQ 3156 559 3463 722 \nL 3463 178 \nQ 3153 47 2828 -22 \nQ 2503 -91 2169 -91 \nQ 1331 -91 842 396 \nQ 353 884 353 1716 \nQ 353 2575 817 3079 \nQ 1281 3584 2069 3584 \nQ 2775 3584 3186 3129 \nQ 3597 2675 3597 1894 \nz\nM 3022 2063 \nQ 3016 2534 2758 2815 \nQ 2500 3097 2075 3097 \nQ 1594 3097 1305 2825 \nQ 1016 2553 972 2059 \nL 3022 2063 \nz\n\" transform=\"scale(0.015625)\"/>\n       <path id=\"DejaVuSans-74\" d=\"M 1172 4494 \nL 1172 3500 \nL 2356 3500 \nL 2356 3053 \nL 1172 3053 \nL 1172 1153 \nQ 1172 725 1289 603 \nQ 1406 481 1766 481 \nL 2356 481 \nL 2356 0 \nL 1766 0 \nQ 1100 0 847 248 \nQ 594 497 594 1153 \nL 594 3053 \nL 172 3053 \nL 172 3500 \nL 594 3500 \nL 594 4494 \nL 1172 4494 \nz\n\" transform=\"scale(0.015625)\"/>\n       <path id=\"DejaVuSans-20\" transform=\"scale(0.015625)\"/>\n       <path id=\"DejaVuSans-6c\" d=\"M 603 4863 \nL 1178 4863 \nL 1178 0 \nL 603 0 \nL 603 4863 \nz\n\" transform=\"scale(0.015625)\"/>\n       <path id=\"DejaVuSans-69\" d=\"M 603 3500 \nL 1178 3500 \nL 1178 0 \nL 603 0 \nL 603 3500 \nz\nM 603 4863 \nL 1178 4863 \nL 1178 4134 \nL 603 4134 \nL 603 4863 \nz\n\" transform=\"scale(0.015625)\"/>\n       <path id=\"DejaVuSans-3d\" d=\"M 678 2906 \nL 4684 2906 \nL 4684 2381 \nL 678 2381 \nL 678 2906 \nz\nM 678 1631 \nL 4684 1631 \nL 4684 1100 \nL 678 1100 \nL 678 1631 \nz\n\" transform=\"scale(0.015625)\"/>\n      </defs>\n      <use xlink:href=\"#DejaVuSans-54\"/>\n      <use xlink:href=\"#DejaVuSans-61\" x=\"44.583984\"/>\n      <use xlink:href=\"#DejaVuSans-6e\" x=\"105.863281\"/>\n      <use xlink:href=\"#DejaVuSans-67\" x=\"169.242188\"/>\n      <use xlink:href=\"#DejaVuSans-65\" x=\"232.71875\"/>\n      <use xlink:href=\"#DejaVuSans-6e\" x=\"294.242188\"/>\n      <use xlink:href=\"#DejaVuSans-74\" x=\"357.621094\"/>\n      <use xlink:href=\"#DejaVuSans-20\" x=\"396.830078\"/>\n      <use xlink:href=\"#DejaVuSans-6c\" x=\"428.617188\"/>\n      <use xlink:href=\"#DejaVuSans-69\" x=\"456.400391\"/>\n      <use xlink:href=\"#DejaVuSans-6e\" x=\"484.183594\"/>\n      <use xlink:href=\"#DejaVuSans-65\" x=\"547.5625\"/>\n      <use xlink:href=\"#DejaVuSans-20\" x=\"609.085938\"/>\n      <use xlink:href=\"#DejaVuSans-28\" x=\"640.873047\"/>\n      <use xlink:href=\"#DejaVuSans-78\" x=\"679.886719\"/>\n      <use xlink:href=\"#DejaVuSans-3d\" x=\"739.066406\"/>\n      <use xlink:href=\"#DejaVuSans-31\" x=\"822.855469\"/>\n      <use xlink:href=\"#DejaVuSans-29\" x=\"886.478516\"/>\n     </g>\n    </g>\n   </g>\n  </g>\n </g>\n <defs>\n  <clipPath id=\"pc40e30196d\">\n   <rect x=\"40.603125\" y=\"7.2\" width=\"195.3\" height=\"138.6\"/>\n  </clipPath>\n </defs>\n</svg>\n"
     },
     "metadata": {},
     "output_type": "display_data"
    }
   ],
   "source": [
    "x = np.arange(0, 3, 0.1)\n",
    "plot(x, [f(x), 2 * x - 3], 'x', 'f(x)', legend=['f(x)', 'Tangent line (x=1)'])\n"
   ],
   "metadata": {
    "collapsed": false,
    "pycharm": {
     "name": "#%%\n"
    }
   }
  },
  {
   "cell_type": "code",
   "execution_count": 10,
   "outputs": [
    {
     "data": {
      "text/plain": "tensor([0., 1., 2., 3.])"
     },
     "execution_count": 10,
     "metadata": {},
     "output_type": "execute_result"
    }
   ],
   "source": [
    "#自动微分\n",
    "import torch\n",
    "\n",
    "x = torch.arange(4.0)\n",
    "x"
   ],
   "metadata": {
    "collapsed": false,
    "pycharm": {
     "name": "#%%\n"
    }
   }
  },
  {
   "cell_type": "code",
   "execution_count": 11,
   "outputs": [],
   "source": [
    "x.requires_grad_(True)  # 等价于x=torch.arange(4.0,requires_grad=True)\n",
    "x.grad  # 默认值是None\n"
   ],
   "metadata": {
    "collapsed": false,
    "pycharm": {
     "name": "#%%\n"
    }
   }
  },
  {
   "cell_type": "code",
   "execution_count": 12,
   "outputs": [
    {
     "data": {
      "text/plain": "tensor(28., grad_fn=<MulBackward0>)"
     },
     "execution_count": 12,
     "metadata": {},
     "output_type": "execute_result"
    }
   ],
   "source": [
    "y = 2 * torch.dot(x, x)\n",
    "y\n"
   ],
   "metadata": {
    "collapsed": false,
    "pycharm": {
     "name": "#%%\n"
    }
   }
  },
  {
   "cell_type": "code",
   "execution_count": 13,
   "outputs": [
    {
     "data": {
      "text/plain": "tensor([ 0.,  4.,  8., 12.])"
     },
     "execution_count": 13,
     "metadata": {},
     "output_type": "execute_result"
    }
   ],
   "source": [
    "y.backward()\n",
    "x.grad\n"
   ],
   "metadata": {
    "collapsed": false,
    "pycharm": {
     "name": "#%%\n"
    }
   }
  },
  {
   "cell_type": "code",
   "execution_count": 14,
   "outputs": [
    {
     "data": {
      "text/plain": "tensor([True, True, True, True])"
     },
     "execution_count": 14,
     "metadata": {},
     "output_type": "execute_result"
    }
   ],
   "source": [
    "x.grad == 4 * x\n"
   ],
   "metadata": {
    "collapsed": false,
    "pycharm": {
     "name": "#%%\n"
    }
   }
  },
  {
   "cell_type": "code",
   "execution_count": 15,
   "outputs": [
    {
     "data": {
      "text/plain": "tensor([1., 1., 1., 1.])"
     },
     "execution_count": 15,
     "metadata": {},
     "output_type": "execute_result"
    }
   ],
   "source": [
    "x.grad.zero_()\n",
    "y = x.sum()\n",
    "y.backward()\n",
    "x.grad"
   ],
   "metadata": {
    "collapsed": false,
    "pycharm": {
     "name": "#%%\n"
    }
   }
  },
  {
   "cell_type": "code",
   "execution_count": 16,
   "outputs": [
    {
     "data": {
      "text/plain": "tensor([0., 2., 4., 6.])"
     },
     "execution_count": 16,
     "metadata": {},
     "output_type": "execute_result"
    }
   ],
   "source": [
    "x.grad.zero_()\n",
    "y = x * x\n",
    "y.sum().backward()\n",
    "x.grad"
   ],
   "metadata": {
    "collapsed": false,
    "pycharm": {
     "name": "#%%\n"
    }
   }
  },
  {
   "cell_type": "code",
   "execution_count": 17,
   "outputs": [
    {
     "data": {
      "text/plain": "tensor([True, True, True, True])"
     },
     "execution_count": 17,
     "metadata": {},
     "output_type": "execute_result"
    }
   ],
   "source": [
    "x.grad.zero_()\n",
    "y = x * x\n",
    "u = y.detach()\n",
    "z = u * x\n",
    "\n",
    "z.sum().backward()\n",
    "x.grad == u\n"
   ],
   "metadata": {
    "collapsed": false,
    "pycharm": {
     "name": "#%%\n"
    }
   }
  },
  {
   "cell_type": "code",
   "execution_count": 18,
   "outputs": [
    {
     "data": {
      "text/plain": "tensor([True, True, True, True])"
     },
     "execution_count": 18,
     "metadata": {},
     "output_type": "execute_result"
    }
   ],
   "source": [
    "x.grad.zero_()\n",
    "y.sum().backward()\n",
    "x.grad == 2 * x\n"
   ],
   "metadata": {
    "collapsed": false,
    "pycharm": {
     "name": "#%%\n"
    }
   }
  },
  {
   "cell_type": "code",
   "execution_count": 19,
   "outputs": [],
   "source": [
    "def f(a):\n",
    "    b = a * 2\n",
    "    while b.norm() < 1000:\n",
    "        b = b * 2\n",
    "    if b.sum() > 0:\n",
    "        c = b\n",
    "    else:\n",
    "        c = 100 * b\n",
    "    return c\n"
   ],
   "metadata": {
    "collapsed": false,
    "pycharm": {
     "name": "#%%\n"
    }
   }
  },
  {
   "cell_type": "code",
   "execution_count": 20,
   "outputs": [],
   "source": [
    "a = torch.randn(size=(), requires_grad=True)\n",
    "d = f(a)\n",
    "d.backward()\n"
   ],
   "metadata": {
    "collapsed": false,
    "pycharm": {
     "name": "#%%\n"
    }
   }
  },
  {
   "cell_type": "code",
   "execution_count": 21,
   "outputs": [
    {
     "data": {
      "text/plain": "tensor(True)"
     },
     "execution_count": 21,
     "metadata": {},
     "output_type": "execute_result"
    }
   ],
   "source": [
    "a.grad == d / a\n"
   ],
   "metadata": {
    "collapsed": false,
    "pycharm": {
     "name": "#%%\n"
    }
   }
  },
  {
   "cell_type": "code",
   "execution_count": 22,
   "outputs": [],
   "source": [
    "#概率\n",
    "%matplotlib inline\n",
    "import torch\n",
    "from torch.distributions import multinomial\n",
    "from d2l import torch as d2l\n"
   ],
   "metadata": {
    "collapsed": false,
    "pycharm": {
     "name": "#%%\n"
    }
   }
  },
  {
   "cell_type": "code",
   "execution_count": 23,
   "outputs": [
    {
     "data": {
      "text/plain": "tensor([0., 1., 0., 0., 0., 0.])"
     },
     "execution_count": 23,
     "metadata": {},
     "output_type": "execute_result"
    }
   ],
   "source": [
    "fair_probs = torch.ones([6]) / 6\n",
    "multinomial.Multinomial(1, fair_probs).sample()\n"
   ],
   "metadata": {
    "collapsed": false,
    "pycharm": {
     "name": "#%%\n"
    }
   }
  },
  {
   "cell_type": "code",
   "execution_count": 24,
   "outputs": [
    {
     "data": {
      "text/plain": "tensor([2., 0., 4., 1., 1., 2.])"
     },
     "execution_count": 24,
     "metadata": {},
     "output_type": "execute_result"
    }
   ],
   "source": [
    "multinomial.Multinomial(10, fair_probs).sample()\n"
   ],
   "metadata": {
    "collapsed": false,
    "pycharm": {
     "name": "#%%\n"
    }
   }
  },
  {
   "cell_type": "code",
   "execution_count": 25,
   "outputs": [
    {
     "data": {
      "text/plain": "tensor([0.1700, 0.1600, 0.1640, 0.1750, 0.1600, 0.1710])"
     },
     "execution_count": 25,
     "metadata": {},
     "output_type": "execute_result"
    }
   ],
   "source": [
    "counts = multinomial.Multinomial(1000, fair_probs).sample()\n",
    "counts / 1000  # 相对频率作为估计值\n"
   ],
   "metadata": {
    "collapsed": false,
    "pycharm": {
     "name": "#%%\n"
    }
   }
  },
  {
   "cell_type": "code",
   "execution_count": 26,
   "outputs": [
    {
     "data": {
      "text/plain": "<Figure size 600x450 with 1 Axes>",
      "image/svg+xml": "<?xml version=\"1.0\" encoding=\"utf-8\" standalone=\"no\"?>\n<!DOCTYPE svg PUBLIC \"-//W3C//DTD SVG 1.1//EN\"\n  \"http://www.w3.org/Graphics/SVG/1.1/DTD/svg11.dtd\">\n<svg xmlns:xlink=\"http://www.w3.org/1999/xlink\" width=\"392.14375pt\" height=\"294.23625pt\" viewBox=\"0 0 392.14375 294.23625\" xmlns=\"http://www.w3.org/2000/svg\" version=\"1.1\">\n <metadata>\n  <rdf:RDF xmlns:dc=\"http://purl.org/dc/elements/1.1/\" xmlns:cc=\"http://creativecommons.org/ns#\" xmlns:rdf=\"http://www.w3.org/1999/02/22-rdf-syntax-ns#\">\n   <cc:Work>\n    <dc:type rdf:resource=\"http://purl.org/dc/dcmitype/StillImage\"/>\n    <dc:date>2025-05-19T14:57:15.959208</dc:date>\n    <dc:format>image/svg+xml</dc:format>\n    <dc:creator>\n     <cc:Agent>\n      <dc:title>Matplotlib v3.7.2, https://matplotlib.org/</dc:title>\n     </cc:Agent>\n    </dc:creator>\n   </cc:Work>\n  </rdf:RDF>\n </metadata>\n <defs>\n  <style type=\"text/css\">*{stroke-linejoin: round; stroke-linecap: butt}</style>\n </defs>\n <g id=\"figure_1\">\n  <g id=\"patch_1\">\n   <path d=\"M 0 294.23625 \nL 392.14375 294.23625 \nL 392.14375 0 \nL 0 0 \nz\n\" style=\"fill: #ffffff\"/>\n  </g>\n  <g id=\"axes_1\">\n   <g id=\"patch_2\">\n    <path d=\"M 50.14375 256.68 \nL 384.94375 256.68 \nL 384.94375 7.2 \nL 50.14375 7.2 \nz\n\" style=\"fill: #ffffff\"/>\n   </g>\n   <g id=\"matplotlib.axis_1\">\n    <g id=\"xtick_1\">\n     <g id=\"line2d_1\">\n      <defs>\n       <path id=\"m7cfc4a809d\" d=\"M 0 0 \nL 0 3.5 \n\" style=\"stroke: #000000; stroke-width: 0.8\"/>\n      </defs>\n      <g>\n       <use xlink:href=\"#m7cfc4a809d\" x=\"65.361932\" y=\"256.68\" style=\"stroke: #000000; stroke-width: 0.8\"/>\n      </g>\n     </g>\n     <g id=\"text_1\">\n      <!-- 0 -->\n      <g transform=\"translate(62.180682 271.278437) scale(0.1 -0.1)\">\n       <defs>\n        <path id=\"DejaVuSans-30\" d=\"M 2034 4250 \nQ 1547 4250 1301 3770 \nQ 1056 3291 1056 2328 \nQ 1056 1369 1301 889 \nQ 1547 409 2034 409 \nQ 2525 409 2770 889 \nQ 3016 1369 3016 2328 \nQ 3016 3291 2770 3770 \nQ 2525 4250 2034 4250 \nz\nM 2034 4750 \nQ 2819 4750 3233 4129 \nQ 3647 3509 3647 2328 \nQ 3647 1150 3233 529 \nQ 2819 -91 2034 -91 \nQ 1250 -91 836 529 \nQ 422 1150 422 2328 \nQ 422 3509 836 4129 \nQ 1250 4750 2034 4750 \nz\n\" transform=\"scale(0.015625)\"/>\n       </defs>\n       <use xlink:href=\"#DejaVuSans-30\"/>\n      </g>\n     </g>\n    </g>\n    <g id=\"xtick_2\">\n     <g id=\"line2d_2\">\n      <g>\n       <use xlink:href=\"#m7cfc4a809d\" x=\"126.356649\" y=\"256.68\" style=\"stroke: #000000; stroke-width: 0.8\"/>\n      </g>\n     </g>\n     <g id=\"text_2\">\n      <!-- 100 -->\n      <g transform=\"translate(116.812899 271.278437) scale(0.1 -0.1)\">\n       <defs>\n        <path id=\"DejaVuSans-31\" d=\"M 794 531 \nL 1825 531 \nL 1825 4091 \nL 703 3866 \nL 703 4441 \nL 1819 4666 \nL 2450 4666 \nL 2450 531 \nL 3481 531 \nL 3481 0 \nL 794 0 \nL 794 531 \nz\n\" transform=\"scale(0.015625)\"/>\n       </defs>\n       <use xlink:href=\"#DejaVuSans-31\"/>\n       <use xlink:href=\"#DejaVuSans-30\" x=\"63.623047\"/>\n       <use xlink:href=\"#DejaVuSans-30\" x=\"127.246094\"/>\n      </g>\n     </g>\n    </g>\n    <g id=\"xtick_3\">\n     <g id=\"line2d_3\">\n      <g>\n       <use xlink:href=\"#m7cfc4a809d\" x=\"187.351365\" y=\"256.68\" style=\"stroke: #000000; stroke-width: 0.8\"/>\n      </g>\n     </g>\n     <g id=\"text_3\">\n      <!-- 200 -->\n      <g transform=\"translate(177.807615 271.278437) scale(0.1 -0.1)\">\n       <defs>\n        <path id=\"DejaVuSans-32\" d=\"M 1228 531 \nL 3431 531 \nL 3431 0 \nL 469 0 \nL 469 531 \nQ 828 903 1448 1529 \nQ 2069 2156 2228 2338 \nQ 2531 2678 2651 2914 \nQ 2772 3150 2772 3378 \nQ 2772 3750 2511 3984 \nQ 2250 4219 1831 4219 \nQ 1534 4219 1204 4116 \nQ 875 4013 500 3803 \nL 500 4441 \nQ 881 4594 1212 4672 \nQ 1544 4750 1819 4750 \nQ 2544 4750 2975 4387 \nQ 3406 4025 3406 3419 \nQ 3406 3131 3298 2873 \nQ 3191 2616 2906 2266 \nQ 2828 2175 2409 1742 \nQ 1991 1309 1228 531 \nz\n\" transform=\"scale(0.015625)\"/>\n       </defs>\n       <use xlink:href=\"#DejaVuSans-32\"/>\n       <use xlink:href=\"#DejaVuSans-30\" x=\"63.623047\"/>\n       <use xlink:href=\"#DejaVuSans-30\" x=\"127.246094\"/>\n      </g>\n     </g>\n    </g>\n    <g id=\"xtick_4\">\n     <g id=\"line2d_4\">\n      <g>\n       <use xlink:href=\"#m7cfc4a809d\" x=\"248.346082\" y=\"256.68\" style=\"stroke: #000000; stroke-width: 0.8\"/>\n      </g>\n     </g>\n     <g id=\"text_4\">\n      <!-- 300 -->\n      <g transform=\"translate(238.802332 271.278437) scale(0.1 -0.1)\">\n       <defs>\n        <path id=\"DejaVuSans-33\" d=\"M 2597 2516 \nQ 3050 2419 3304 2112 \nQ 3559 1806 3559 1356 \nQ 3559 666 3084 287 \nQ 2609 -91 1734 -91 \nQ 1441 -91 1130 -33 \nQ 819 25 488 141 \nL 488 750 \nQ 750 597 1062 519 \nQ 1375 441 1716 441 \nQ 2309 441 2620 675 \nQ 2931 909 2931 1356 \nQ 2931 1769 2642 2001 \nQ 2353 2234 1838 2234 \nL 1294 2234 \nL 1294 2753 \nL 1863 2753 \nQ 2328 2753 2575 2939 \nQ 2822 3125 2822 3475 \nQ 2822 3834 2567 4026 \nQ 2313 4219 1838 4219 \nQ 1578 4219 1281 4162 \nQ 984 4106 628 3988 \nL 628 4550 \nQ 988 4650 1302 4700 \nQ 1616 4750 1894 4750 \nQ 2613 4750 3031 4423 \nQ 3450 4097 3450 3541 \nQ 3450 3153 3228 2886 \nQ 3006 2619 2597 2516 \nz\n\" transform=\"scale(0.015625)\"/>\n       </defs>\n       <use xlink:href=\"#DejaVuSans-33\"/>\n       <use xlink:href=\"#DejaVuSans-30\" x=\"63.623047\"/>\n       <use xlink:href=\"#DejaVuSans-30\" x=\"127.246094\"/>\n      </g>\n     </g>\n    </g>\n    <g id=\"xtick_5\">\n     <g id=\"line2d_5\">\n      <g>\n       <use xlink:href=\"#m7cfc4a809d\" x=\"309.340799\" y=\"256.68\" style=\"stroke: #000000; stroke-width: 0.8\"/>\n      </g>\n     </g>\n     <g id=\"text_5\">\n      <!-- 400 -->\n      <g transform=\"translate(299.797049 271.278437) scale(0.1 -0.1)\">\n       <defs>\n        <path id=\"DejaVuSans-34\" d=\"M 2419 4116 \nL 825 1625 \nL 2419 1625 \nL 2419 4116 \nz\nM 2253 4666 \nL 3047 4666 \nL 3047 1625 \nL 3713 1625 \nL 3713 1100 \nL 3047 1100 \nL 3047 0 \nL 2419 0 \nL 2419 1100 \nL 313 1100 \nL 313 1709 \nL 2253 4666 \nz\n\" transform=\"scale(0.015625)\"/>\n       </defs>\n       <use xlink:href=\"#DejaVuSans-34\"/>\n       <use xlink:href=\"#DejaVuSans-30\" x=\"63.623047\"/>\n       <use xlink:href=\"#DejaVuSans-30\" x=\"127.246094\"/>\n      </g>\n     </g>\n    </g>\n    <g id=\"xtick_6\">\n     <g id=\"line2d_6\">\n      <g>\n       <use xlink:href=\"#m7cfc4a809d\" x=\"370.335515\" y=\"256.68\" style=\"stroke: #000000; stroke-width: 0.8\"/>\n      </g>\n     </g>\n     <g id=\"text_6\">\n      <!-- 500 -->\n      <g transform=\"translate(360.791765 271.278437) scale(0.1 -0.1)\">\n       <defs>\n        <path id=\"DejaVuSans-35\" d=\"M 691 4666 \nL 3169 4666 \nL 3169 4134 \nL 1269 4134 \nL 1269 2991 \nQ 1406 3038 1543 3061 \nQ 1681 3084 1819 3084 \nQ 2600 3084 3056 2656 \nQ 3513 2228 3513 1497 \nQ 3513 744 3044 326 \nQ 2575 -91 1722 -91 \nQ 1428 -91 1123 -41 \nQ 819 9 494 109 \nL 494 744 \nQ 775 591 1075 516 \nQ 1375 441 1709 441 \nQ 2250 441 2565 725 \nQ 2881 1009 2881 1497 \nQ 2881 1984 2565 2268 \nQ 2250 2553 1709 2553 \nQ 1456 2553 1204 2497 \nQ 953 2441 691 2322 \nL 691 4666 \nz\n\" transform=\"scale(0.015625)\"/>\n       </defs>\n       <use xlink:href=\"#DejaVuSans-35\"/>\n       <use xlink:href=\"#DejaVuSans-30\" x=\"63.623047\"/>\n       <use xlink:href=\"#DejaVuSans-30\" x=\"127.246094\"/>\n      </g>\n     </g>\n    </g>\n    <g id=\"text_7\">\n     <!-- Groups of experiments -->\n     <g transform=\"translate(160.397656 284.956562) scale(0.1 -0.1)\">\n      <defs>\n       <path id=\"DejaVuSans-47\" d=\"M 3809 666 \nL 3809 1919 \nL 2778 1919 \nL 2778 2438 \nL 4434 2438 \nL 4434 434 \nQ 4069 175 3628 42 \nQ 3188 -91 2688 -91 \nQ 1594 -91 976 548 \nQ 359 1188 359 2328 \nQ 359 3472 976 4111 \nQ 1594 4750 2688 4750 \nQ 3144 4750 3555 4637 \nQ 3966 4525 4313 4306 \nL 4313 3634 \nQ 3963 3931 3569 4081 \nQ 3175 4231 2741 4231 \nQ 1884 4231 1454 3753 \nQ 1025 3275 1025 2328 \nQ 1025 1384 1454 906 \nQ 1884 428 2741 428 \nQ 3075 428 3337 486 \nQ 3600 544 3809 666 \nz\n\" transform=\"scale(0.015625)\"/>\n       <path id=\"DejaVuSans-72\" d=\"M 2631 2963 \nQ 2534 3019 2420 3045 \nQ 2306 3072 2169 3072 \nQ 1681 3072 1420 2755 \nQ 1159 2438 1159 1844 \nL 1159 0 \nL 581 0 \nL 581 3500 \nL 1159 3500 \nL 1159 2956 \nQ 1341 3275 1631 3429 \nQ 1922 3584 2338 3584 \nQ 2397 3584 2469 3576 \nQ 2541 3569 2628 3553 \nL 2631 2963 \nz\n\" transform=\"scale(0.015625)\"/>\n       <path id=\"DejaVuSans-6f\" d=\"M 1959 3097 \nQ 1497 3097 1228 2736 \nQ 959 2375 959 1747 \nQ 959 1119 1226 758 \nQ 1494 397 1959 397 \nQ 2419 397 2687 759 \nQ 2956 1122 2956 1747 \nQ 2956 2369 2687 2733 \nQ 2419 3097 1959 3097 \nz\nM 1959 3584 \nQ 2709 3584 3137 3096 \nQ 3566 2609 3566 1747 \nQ 3566 888 3137 398 \nQ 2709 -91 1959 -91 \nQ 1206 -91 779 398 \nQ 353 888 353 1747 \nQ 353 2609 779 3096 \nQ 1206 3584 1959 3584 \nz\n\" transform=\"scale(0.015625)\"/>\n       <path id=\"DejaVuSans-75\" d=\"M 544 1381 \nL 544 3500 \nL 1119 3500 \nL 1119 1403 \nQ 1119 906 1312 657 \nQ 1506 409 1894 409 \nQ 2359 409 2629 706 \nQ 2900 1003 2900 1516 \nL 2900 3500 \nL 3475 3500 \nL 3475 0 \nL 2900 0 \nL 2900 538 \nQ 2691 219 2414 64 \nQ 2138 -91 1772 -91 \nQ 1169 -91 856 284 \nQ 544 659 544 1381 \nz\nM 1991 3584 \nL 1991 3584 \nz\n\" transform=\"scale(0.015625)\"/>\n       <path id=\"DejaVuSans-70\" d=\"M 1159 525 \nL 1159 -1331 \nL 581 -1331 \nL 581 3500 \nL 1159 3500 \nL 1159 2969 \nQ 1341 3281 1617 3432 \nQ 1894 3584 2278 3584 \nQ 2916 3584 3314 3078 \nQ 3713 2572 3713 1747 \nQ 3713 922 3314 415 \nQ 2916 -91 2278 -91 \nQ 1894 -91 1617 61 \nQ 1341 213 1159 525 \nz\nM 3116 1747 \nQ 3116 2381 2855 2742 \nQ 2594 3103 2138 3103 \nQ 1681 3103 1420 2742 \nQ 1159 2381 1159 1747 \nQ 1159 1113 1420 752 \nQ 1681 391 2138 391 \nQ 2594 391 2855 752 \nQ 3116 1113 3116 1747 \nz\n\" transform=\"scale(0.015625)\"/>\n       <path id=\"DejaVuSans-73\" d=\"M 2834 3397 \nL 2834 2853 \nQ 2591 2978 2328 3040 \nQ 2066 3103 1784 3103 \nQ 1356 3103 1142 2972 \nQ 928 2841 928 2578 \nQ 928 2378 1081 2264 \nQ 1234 2150 1697 2047 \nL 1894 2003 \nQ 2506 1872 2764 1633 \nQ 3022 1394 3022 966 \nQ 3022 478 2636 193 \nQ 2250 -91 1575 -91 \nQ 1294 -91 989 -36 \nQ 684 19 347 128 \nL 347 722 \nQ 666 556 975 473 \nQ 1284 391 1588 391 \nQ 1994 391 2212 530 \nQ 2431 669 2431 922 \nQ 2431 1156 2273 1281 \nQ 2116 1406 1581 1522 \nL 1381 1569 \nQ 847 1681 609 1914 \nQ 372 2147 372 2553 \nQ 372 3047 722 3315 \nQ 1072 3584 1716 3584 \nQ 2034 3584 2315 3537 \nQ 2597 3491 2834 3397 \nz\n\" transform=\"scale(0.015625)\"/>\n       <path id=\"DejaVuSans-20\" transform=\"scale(0.015625)\"/>\n       <path id=\"DejaVuSans-66\" d=\"M 2375 4863 \nL 2375 4384 \nL 1825 4384 \nQ 1516 4384 1395 4259 \nQ 1275 4134 1275 3809 \nL 1275 3500 \nL 2222 3500 \nL 2222 3053 \nL 1275 3053 \nL 1275 0 \nL 697 0 \nL 697 3053 \nL 147 3053 \nL 147 3500 \nL 697 3500 \nL 697 3744 \nQ 697 4328 969 4595 \nQ 1241 4863 1831 4863 \nL 2375 4863 \nz\n\" transform=\"scale(0.015625)\"/>\n       <path id=\"DejaVuSans-65\" d=\"M 3597 1894 \nL 3597 1613 \nL 953 1613 \nQ 991 1019 1311 708 \nQ 1631 397 2203 397 \nQ 2534 397 2845 478 \nQ 3156 559 3463 722 \nL 3463 178 \nQ 3153 47 2828 -22 \nQ 2503 -91 2169 -91 \nQ 1331 -91 842 396 \nQ 353 884 353 1716 \nQ 353 2575 817 3079 \nQ 1281 3584 2069 3584 \nQ 2775 3584 3186 3129 \nQ 3597 2675 3597 1894 \nz\nM 3022 2063 \nQ 3016 2534 2758 2815 \nQ 2500 3097 2075 3097 \nQ 1594 3097 1305 2825 \nQ 1016 2553 972 2059 \nL 3022 2063 \nz\n\" transform=\"scale(0.015625)\"/>\n       <path id=\"DejaVuSans-78\" d=\"M 3513 3500 \nL 2247 1797 \nL 3578 0 \nL 2900 0 \nL 1881 1375 \nL 863 0 \nL 184 0 \nL 1544 1831 \nL 300 3500 \nL 978 3500 \nL 1906 2253 \nL 2834 3500 \nL 3513 3500 \nz\n\" transform=\"scale(0.015625)\"/>\n       <path id=\"DejaVuSans-69\" d=\"M 603 3500 \nL 1178 3500 \nL 1178 0 \nL 603 0 \nL 603 3500 \nz\nM 603 4863 \nL 1178 4863 \nL 1178 4134 \nL 603 4134 \nL 603 4863 \nz\n\" transform=\"scale(0.015625)\"/>\n       <path id=\"DejaVuSans-6d\" d=\"M 3328 2828 \nQ 3544 3216 3844 3400 \nQ 4144 3584 4550 3584 \nQ 5097 3584 5394 3201 \nQ 5691 2819 5691 2113 \nL 5691 0 \nL 5113 0 \nL 5113 2094 \nQ 5113 2597 4934 2840 \nQ 4756 3084 4391 3084 \nQ 3944 3084 3684 2787 \nQ 3425 2491 3425 1978 \nL 3425 0 \nL 2847 0 \nL 2847 2094 \nQ 2847 2600 2669 2842 \nQ 2491 3084 2119 3084 \nQ 1678 3084 1418 2786 \nQ 1159 2488 1159 1978 \nL 1159 0 \nL 581 0 \nL 581 3500 \nL 1159 3500 \nL 1159 2956 \nQ 1356 3278 1631 3431 \nQ 1906 3584 2284 3584 \nQ 2666 3584 2933 3390 \nQ 3200 3197 3328 2828 \nz\n\" transform=\"scale(0.015625)\"/>\n       <path id=\"DejaVuSans-6e\" d=\"M 3513 2113 \nL 3513 0 \nL 2938 0 \nL 2938 2094 \nQ 2938 2591 2744 2837 \nQ 2550 3084 2163 3084 \nQ 1697 3084 1428 2787 \nQ 1159 2491 1159 1978 \nL 1159 0 \nL 581 0 \nL 581 3500 \nL 1159 3500 \nL 1159 2956 \nQ 1366 3272 1645 3428 \nQ 1925 3584 2291 3584 \nQ 2894 3584 3203 3211 \nQ 3513 2838 3513 2113 \nz\n\" transform=\"scale(0.015625)\"/>\n       <path id=\"DejaVuSans-74\" d=\"M 1172 4494 \nL 1172 3500 \nL 2356 3500 \nL 2356 3053 \nL 1172 3053 \nL 1172 1153 \nQ 1172 725 1289 603 \nQ 1406 481 1766 481 \nL 2356 481 \nL 2356 0 \nL 1766 0 \nQ 1100 0 847 248 \nQ 594 497 594 1153 \nL 594 3053 \nL 172 3053 \nL 172 3500 \nL 594 3500 \nL 594 4494 \nL 1172 4494 \nz\n\" transform=\"scale(0.015625)\"/>\n      </defs>\n      <use xlink:href=\"#DejaVuSans-47\"/>\n      <use xlink:href=\"#DejaVuSans-72\" x=\"77.490234\"/>\n      <use xlink:href=\"#DejaVuSans-6f\" x=\"116.353516\"/>\n      <use xlink:href=\"#DejaVuSans-75\" x=\"177.535156\"/>\n      <use xlink:href=\"#DejaVuSans-70\" x=\"240.914062\"/>\n      <use xlink:href=\"#DejaVuSans-73\" x=\"304.390625\"/>\n      <use xlink:href=\"#DejaVuSans-20\" x=\"356.490234\"/>\n      <use xlink:href=\"#DejaVuSans-6f\" x=\"388.277344\"/>\n      <use xlink:href=\"#DejaVuSans-66\" x=\"449.458984\"/>\n      <use xlink:href=\"#DejaVuSans-20\" x=\"484.664062\"/>\n      <use xlink:href=\"#DejaVuSans-65\" x=\"516.451172\"/>\n      <use xlink:href=\"#DejaVuSans-78\" x=\"576.224609\"/>\n      <use xlink:href=\"#DejaVuSans-70\" x=\"635.404297\"/>\n      <use xlink:href=\"#DejaVuSans-65\" x=\"698.880859\"/>\n      <use xlink:href=\"#DejaVuSans-72\" x=\"760.404297\"/>\n      <use xlink:href=\"#DejaVuSans-69\" x=\"801.517578\"/>\n      <use xlink:href=\"#DejaVuSans-6d\" x=\"829.300781\"/>\n      <use xlink:href=\"#DejaVuSans-65\" x=\"926.712891\"/>\n      <use xlink:href=\"#DejaVuSans-6e\" x=\"988.236328\"/>\n      <use xlink:href=\"#DejaVuSans-74\" x=\"1051.615234\"/>\n      <use xlink:href=\"#DejaVuSans-73\" x=\"1090.824219\"/>\n     </g>\n    </g>\n   </g>\n   <g id=\"matplotlib.axis_2\">\n    <g id=\"ytick_1\">\n     <g id=\"line2d_7\">\n      <defs>\n       <path id=\"m14ea8f7fbf\" d=\"M 0 0 \nL -3.5 0 \n\" style=\"stroke: #000000; stroke-width: 0.8\"/>\n      </defs>\n      <g>\n       <use xlink:href=\"#m14ea8f7fbf\" x=\"50.14375\" y=\"245.340001\" style=\"stroke: #000000; stroke-width: 0.8\"/>\n      </g>\n     </g>\n     <g id=\"text_8\">\n      <!-- 0.05 -->\n      <g transform=\"translate(20.878125 249.139219) scale(0.1 -0.1)\">\n       <defs>\n        <path id=\"DejaVuSans-2e\" d=\"M 684 794 \nL 1344 794 \nL 1344 0 \nL 684 0 \nL 684 794 \nz\n\" transform=\"scale(0.015625)\"/>\n       </defs>\n       <use xlink:href=\"#DejaVuSans-30\"/>\n       <use xlink:href=\"#DejaVuSans-2e\" x=\"63.623047\"/>\n       <use xlink:href=\"#DejaVuSans-30\" x=\"95.410156\"/>\n       <use xlink:href=\"#DejaVuSans-35\" x=\"159.033203\"/>\n      </g>\n     </g>\n    </g>\n    <g id=\"ytick_2\">\n     <g id=\"line2d_8\">\n      <g>\n       <use xlink:href=\"#m14ea8f7fbf\" x=\"50.14375\" y=\"199.980003\" style=\"stroke: #000000; stroke-width: 0.8\"/>\n      </g>\n     </g>\n     <g id=\"text_9\">\n      <!-- 0.10 -->\n      <g transform=\"translate(20.878125 203.779221) scale(0.1 -0.1)\">\n       <use xlink:href=\"#DejaVuSans-30\"/>\n       <use xlink:href=\"#DejaVuSans-2e\" x=\"63.623047\"/>\n       <use xlink:href=\"#DejaVuSans-31\" x=\"95.410156\"/>\n       <use xlink:href=\"#DejaVuSans-30\" x=\"159.033203\"/>\n      </g>\n     </g>\n    </g>\n    <g id=\"ytick_3\">\n     <g id=\"line2d_9\">\n      <g>\n       <use xlink:href=\"#m14ea8f7fbf\" x=\"50.14375\" y=\"154.620005\" style=\"stroke: #000000; stroke-width: 0.8\"/>\n      </g>\n     </g>\n     <g id=\"text_10\">\n      <!-- 0.15 -->\n      <g transform=\"translate(20.878125 158.419223) scale(0.1 -0.1)\">\n       <use xlink:href=\"#DejaVuSans-30\"/>\n       <use xlink:href=\"#DejaVuSans-2e\" x=\"63.623047\"/>\n       <use xlink:href=\"#DejaVuSans-31\" x=\"95.410156\"/>\n       <use xlink:href=\"#DejaVuSans-35\" x=\"159.033203\"/>\n      </g>\n     </g>\n    </g>\n    <g id=\"ytick_4\">\n     <g id=\"line2d_10\">\n      <g>\n       <use xlink:href=\"#m14ea8f7fbf\" x=\"50.14375\" y=\"109.260007\" style=\"stroke: #000000; stroke-width: 0.8\"/>\n      </g>\n     </g>\n     <g id=\"text_11\">\n      <!-- 0.20 -->\n      <g transform=\"translate(20.878125 113.059226) scale(0.1 -0.1)\">\n       <use xlink:href=\"#DejaVuSans-30\"/>\n       <use xlink:href=\"#DejaVuSans-2e\" x=\"63.623047\"/>\n       <use xlink:href=\"#DejaVuSans-32\" x=\"95.410156\"/>\n       <use xlink:href=\"#DejaVuSans-30\" x=\"159.033203\"/>\n      </g>\n     </g>\n    </g>\n    <g id=\"ytick_5\">\n     <g id=\"line2d_11\">\n      <g>\n       <use xlink:href=\"#m14ea8f7fbf\" x=\"50.14375\" y=\"63.900009\" style=\"stroke: #000000; stroke-width: 0.8\"/>\n      </g>\n     </g>\n     <g id=\"text_12\">\n      <!-- 0.25 -->\n      <g transform=\"translate(20.878125 67.699228) scale(0.1 -0.1)\">\n       <use xlink:href=\"#DejaVuSans-30\"/>\n       <use xlink:href=\"#DejaVuSans-2e\" x=\"63.623047\"/>\n       <use xlink:href=\"#DejaVuSans-32\" x=\"95.410156\"/>\n       <use xlink:href=\"#DejaVuSans-35\" x=\"159.033203\"/>\n      </g>\n     </g>\n    </g>\n    <g id=\"ytick_6\">\n     <g id=\"line2d_12\">\n      <g>\n       <use xlink:href=\"#m14ea8f7fbf\" x=\"50.14375\" y=\"18.540011\" style=\"stroke: #000000; stroke-width: 0.8\"/>\n      </g>\n     </g>\n     <g id=\"text_13\">\n      <!-- 0.30 -->\n      <g transform=\"translate(20.878125 22.33923) scale(0.1 -0.1)\">\n       <use xlink:href=\"#DejaVuSans-30\"/>\n       <use xlink:href=\"#DejaVuSans-2e\" x=\"63.623047\"/>\n       <use xlink:href=\"#DejaVuSans-33\" x=\"95.410156\"/>\n       <use xlink:href=\"#DejaVuSans-30\" x=\"159.033203\"/>\n      </g>\n     </g>\n    </g>\n    <g id=\"text_14\">\n     <!-- Estimated probability -->\n     <g transform=\"translate(14.798438 185.463437) rotate(-90) scale(0.1 -0.1)\">\n      <defs>\n       <path id=\"DejaVuSans-45\" d=\"M 628 4666 \nL 3578 4666 \nL 3578 4134 \nL 1259 4134 \nL 1259 2753 \nL 3481 2753 \nL 3481 2222 \nL 1259 2222 \nL 1259 531 \nL 3634 531 \nL 3634 0 \nL 628 0 \nL 628 4666 \nz\n\" transform=\"scale(0.015625)\"/>\n       <path id=\"DejaVuSans-61\" d=\"M 2194 1759 \nQ 1497 1759 1228 1600 \nQ 959 1441 959 1056 \nQ 959 750 1161 570 \nQ 1363 391 1709 391 \nQ 2188 391 2477 730 \nQ 2766 1069 2766 1631 \nL 2766 1759 \nL 2194 1759 \nz\nM 3341 1997 \nL 3341 0 \nL 2766 0 \nL 2766 531 \nQ 2569 213 2275 61 \nQ 1981 -91 1556 -91 \nQ 1019 -91 701 211 \nQ 384 513 384 1019 \nQ 384 1609 779 1909 \nQ 1175 2209 1959 2209 \nL 2766 2209 \nL 2766 2266 \nQ 2766 2663 2505 2880 \nQ 2244 3097 1772 3097 \nQ 1472 3097 1187 3025 \nQ 903 2953 641 2809 \nL 641 3341 \nQ 956 3463 1253 3523 \nQ 1550 3584 1831 3584 \nQ 2591 3584 2966 3190 \nQ 3341 2797 3341 1997 \nz\n\" transform=\"scale(0.015625)\"/>\n       <path id=\"DejaVuSans-64\" d=\"M 2906 2969 \nL 2906 4863 \nL 3481 4863 \nL 3481 0 \nL 2906 0 \nL 2906 525 \nQ 2725 213 2448 61 \nQ 2172 -91 1784 -91 \nQ 1150 -91 751 415 \nQ 353 922 353 1747 \nQ 353 2572 751 3078 \nQ 1150 3584 1784 3584 \nQ 2172 3584 2448 3432 \nQ 2725 3281 2906 2969 \nz\nM 947 1747 \nQ 947 1113 1208 752 \nQ 1469 391 1925 391 \nQ 2381 391 2643 752 \nQ 2906 1113 2906 1747 \nQ 2906 2381 2643 2742 \nQ 2381 3103 1925 3103 \nQ 1469 3103 1208 2742 \nQ 947 2381 947 1747 \nz\n\" transform=\"scale(0.015625)\"/>\n       <path id=\"DejaVuSans-62\" d=\"M 3116 1747 \nQ 3116 2381 2855 2742 \nQ 2594 3103 2138 3103 \nQ 1681 3103 1420 2742 \nQ 1159 2381 1159 1747 \nQ 1159 1113 1420 752 \nQ 1681 391 2138 391 \nQ 2594 391 2855 752 \nQ 3116 1113 3116 1747 \nz\nM 1159 2969 \nQ 1341 3281 1617 3432 \nQ 1894 3584 2278 3584 \nQ 2916 3584 3314 3078 \nQ 3713 2572 3713 1747 \nQ 3713 922 3314 415 \nQ 2916 -91 2278 -91 \nQ 1894 -91 1617 61 \nQ 1341 213 1159 525 \nL 1159 0 \nL 581 0 \nL 581 4863 \nL 1159 4863 \nL 1159 2969 \nz\n\" transform=\"scale(0.015625)\"/>\n       <path id=\"DejaVuSans-6c\" d=\"M 603 4863 \nL 1178 4863 \nL 1178 0 \nL 603 0 \nL 603 4863 \nz\n\" transform=\"scale(0.015625)\"/>\n       <path id=\"DejaVuSans-79\" d=\"M 2059 -325 \nQ 1816 -950 1584 -1140 \nQ 1353 -1331 966 -1331 \nL 506 -1331 \nL 506 -850 \nL 844 -850 \nQ 1081 -850 1212 -737 \nQ 1344 -625 1503 -206 \nL 1606 56 \nL 191 3500 \nL 800 3500 \nL 1894 763 \nL 2988 3500 \nL 3597 3500 \nL 2059 -325 \nz\n\" transform=\"scale(0.015625)\"/>\n      </defs>\n      <use xlink:href=\"#DejaVuSans-45\"/>\n      <use xlink:href=\"#DejaVuSans-73\" x=\"63.183594\"/>\n      <use xlink:href=\"#DejaVuSans-74\" x=\"115.283203\"/>\n      <use xlink:href=\"#DejaVuSans-69\" x=\"154.492188\"/>\n      <use xlink:href=\"#DejaVuSans-6d\" x=\"182.275391\"/>\n      <use xlink:href=\"#DejaVuSans-61\" x=\"279.6875\"/>\n      <use xlink:href=\"#DejaVuSans-74\" x=\"340.966797\"/>\n      <use xlink:href=\"#DejaVuSans-65\" x=\"380.175781\"/>\n      <use xlink:href=\"#DejaVuSans-64\" x=\"441.699219\"/>\n      <use xlink:href=\"#DejaVuSans-20\" x=\"505.175781\"/>\n      <use xlink:href=\"#DejaVuSans-70\" x=\"536.962891\"/>\n      <use xlink:href=\"#DejaVuSans-72\" x=\"600.439453\"/>\n      <use xlink:href=\"#DejaVuSans-6f\" x=\"639.302734\"/>\n      <use xlink:href=\"#DejaVuSans-62\" x=\"700.484375\"/>\n      <use xlink:href=\"#DejaVuSans-61\" x=\"763.960938\"/>\n      <use xlink:href=\"#DejaVuSans-62\" x=\"825.240234\"/>\n      <use xlink:href=\"#DejaVuSans-69\" x=\"888.716797\"/>\n      <use xlink:href=\"#DejaVuSans-6c\" x=\"916.5\"/>\n      <use xlink:href=\"#DejaVuSans-69\" x=\"944.283203\"/>\n      <use xlink:href=\"#DejaVuSans-74\" x=\"972.066406\"/>\n      <use xlink:href=\"#DejaVuSans-79\" x=\"1011.275391\"/>\n     </g>\n    </g>\n   </g>\n   <g id=\"line2d_13\">\n    <path d=\"M 65.361932 199.980001 \nL 65.971879 63.900009 \nL 66.581826 139.500001 \nL 67.191773 177.300004 \nL 67.80172 163.692004 \nL 68.411668 154.619999 \nL 69.021615 135.180001 \nL 69.631562 154.619999 \nL 70.241509 149.58 \nL 70.851456 145.548008 \nL 72.071351 154.619999 \nL 73.291245 148.14 \nL 74.511139 154.619999 \nL 75.121086 157.288234 \nL 76.340981 152.232635 \nL 76.950928 150.084004 \nL 77.560875 152.46 \nL 78.170822 142.249103 \nL 78.780769 136.870442 \nL 79.390717 143.280011 \nL 80.610611 133.684617 \nL 81.220558 126.060007 \nL 81.830505 125.460009 \nL 82.440452 128.029655 \nL 83.0504 127.403999 \nL 83.660347 132.671621 \nL 84.270294 131.940008 \nL 84.880241 134.001825 \nL 85.490188 127.937649 \nL 86.100135 127.403999 \nL 86.710083 131.940008 \nL 87.929977 125.971583 \nL 88.539924 125.543079 \nL 90.369766 130.860002 \nL 90.979713 132.467453 \nL 91.58966 131.940008 \nL 92.199607 129.420002 \nL 92.809554 128.981751 \nL 94.029449 131.940008 \nL 94.639396 135.180001 \nL 95.85929 134.163531 \nL 96.469237 131.940008 \nL 97.079185 134.935482 \nL 97.689132 132.780011 \nL 98.299079 132.352372 \nL 98.909026 130.320012 \nL 99.518973 129.950529 \nL 100.12892 131.157932 \nL 100.738868 130.786787 \nL 101.348815 128.916011 \nL 101.958762 125.61935 \nL 102.568709 123.892261 \nL 103.788603 126.270001 \nL 104.398551 128.7997 \nL 105.008498 128.503648 \nL 105.618445 126.862387 \nL 107.448286 133.884012 \nL 108.058234 134.814939 \nL 108.668181 136.980008 \nL 109.278128 136.600278 \nL 109.888075 133.778921 \nL 110.498022 132.2424 \nL 111.107969 128.358948 \nL 111.717917 128.110914 \nL 112.937811 123.040255 \nL 113.547758 121.734005 \nL 115.3776 121.283142 \nL 115.987547 122.220003 \nL 117.207441 121.918611 \nL 117.817388 122.815864 \nL 119.037283 126.588547 \nL 119.64723 126.396005 \nL 120.257177 127.204618 \nL 120.867124 128.981751 \nL 121.477071 129.745172 \nL 122.087018 129.527243 \nL 122.696966 125.494116 \nL 123.306913 126.270001 \nL 123.91686 123.28887 \nL 124.526807 123.145725 \nL 125.136754 123.921826 \nL 125.746701 123.775206 \nL 126.356649 121.835055 \nL 127.576543 123.352433 \nL 128.796437 126.540002 \nL 129.406384 127.23283 \nL 130.016332 126.217009 \nL 130.626279 127.740011 \nL 131.236226 125.073588 \nL 131.846173 124.105094 \nL 133.676015 126.119474 \nL 134.285962 125.1758 \nL 135.505856 126.46553 \nL 136.115803 126.318464 \nL 136.72575 125.405084 \nL 137.945645 128.160012 \nL 138.555592 128.753562 \nL 139.775486 126.961463 \nL 140.385433 124.623873 \nL 140.995381 124.500965 \nL 141.605328 125.100002 \nL 142.825222 123.435003 \nL 144.045116 126.008313 \nL 144.655064 126.572987 \nL 145.265011 126.441819 \nL 145.874958 125.630529 \nL 146.484905 126.862387 \nL 147.094852 127.403999 \nL 147.704799 127.270601 \nL 149.534641 128.839863 \nL 150.144588 128.700002 \nL 150.754535 129.848939 \nL 151.97443 130.829802 \nL 152.584377 130.05001 \nL 153.194324 130.532277 \nL 153.804271 129.765206 \nL 154.414218 130.242863 \nL 155.024165 131.327033 \nL 156.24406 132.2424 \nL 156.854007 133.291788 \nL 157.463954 133.133691 \nL 158.073901 134.163531 \nL 158.683848 134.001825 \nL 159.293796 134.42749 \nL 161.733584 133.794345 \nL 162.343531 131.940008 \nL 162.953479 131.799134 \nL 163.563426 130.540009 \nL 164.173373 130.966013 \nL 164.78332 130.833668 \nL 166.003214 131.666749 \nL 166.613162 131.532579 \nL 167.223109 130.860002 \nL 167.833056 131.268999 \nL 168.443003 131.139534 \nL 169.05295 131.54211 \nL 169.662897 131.412564 \nL 170.272845 130.760115 \nL 170.882792 131.157932 \nL 171.492739 131.032807 \nL 172.102686 131.940008 \nL 172.712633 132.324416 \nL 173.32258 131.685174 \nL 174.542475 132.444012 \nL 175.152422 131.814707 \nL 175.762369 131.690771 \nL 176.372316 132.559675 \nL 176.982263 132.92609 \nL 177.592211 133.778921 \nL 178.202158 134.134845 \nL 178.812105 134.972089 \nL 179.422052 133.870224 \nL 180.031999 134.700006 \nL 181.251894 134.433614 \nL 181.861841 134.775006 \nL 183.081735 134.511966 \nL 183.691682 134.847694 \nL 184.301629 134.717147 \nL 184.911577 135.048427 \nL 185.521524 134.918192 \nL 186.741418 135.568802 \nL 187.351365 135.437918 \nL 188.57126 136.967598 \nL 189.181207 136.831766 \nL 189.791154 135.369664 \nL 191.620995 136.30155 \nL 192.84089 137.772006 \nL 193.450837 137.206927 \nL 195.280678 138.086916 \nL 195.890626 137.108932 \nL 197.11052 137.688396 \nL 197.720467 137.141836 \nL 198.330414 137.01452 \nL 200.160256 137.865405 \nL 200.770203 137.330322 \nL 201.38015 137.610003 \nL 201.990097 137.484012 \nL 203.819939 138.306319 \nL 204.429886 137.783321 \nL 205.039833 136.476004 \nL 205.64978 136.750913 \nL 206.259727 136.24138 \nL 206.869675 136.514937 \nL 207.479622 136.01077 \nL 208.089569 136.669032 \nL 208.699516 136.552883 \nL 209.309463 136.054948 \nL 209.91941 136.323531 \nL 211.139305 135.342005 \nL 214.189041 136.661151 \nL 214.798988 136.54976 \nL 216.018882 135.598069 \nL 216.628829 135.492288 \nL 217.238776 136.113131 \nL 217.848724 136.006147 \nL 218.458671 135.180001 \nL 219.068618 135.436133 \nL 219.678565 134.261579 \nL 220.288512 134.519306 \nL 220.898459 134.066253 \nL 222.118354 135.28047 \nL 222.728301 135.180001 \nL 223.338248 134.033539 \nL 223.948195 134.633793 \nL 225.778037 135.376369 \nL 226.387984 134.935482 \nL 226.997931 134.838947 \nL 228.217825 135.32508 \nL 228.827773 135.902678 \nL 230.047667 136.375576 \nL 231.267561 136.176924 \nL 231.877508 136.409791 \nL 232.487456 136.970842 \nL 233.097403 136.870442 \nL 233.70735 137.425775 \nL 234.317297 137.650801 \nL 234.927244 137.223879 \nL 235.537191 137.447999 \nL 236.147139 137.347693 \nL 236.757086 136.604685 \nL 237.367033 136.187496 \nL 237.97698 136.412116 \nL 238.586927 135.998536 \nL 239.196874 136.539445 \nL 239.806822 136.128299 \nL 240.416769 136.035009 \nL 241.026716 136.570173 \nL 241.636663 135.537521 \nL 245.906293 137.056373 \nL 246.51624 136.963096 \nL 247.736135 137.383206 \nL 248.346082 136.686985 \nL 248.956029 136.896559 \nL 249.565976 136.505947 \nL 250.785871 136.327289 \nL 251.395818 135.942354 \nL 252.005765 136.150956 \nL 252.615712 136.652729 \nL 253.225659 136.857681 \nL 253.835606 136.768649 \nL 254.445554 135.805089 \nL 255.665448 136.215154 \nL 256.275395 136.70714 \nL 256.885342 136.332007 \nL 257.495289 136.53343 \nL 258.715184 136.361896 \nL 259.325131 136.561318 \nL 259.935078 136.476004 \nL 261.154972 136.870442 \nL 262.984814 136.615581 \nL 264.204708 135.893404 \nL 266.644497 136.667856 \nL 267.254444 136.585313 \nL 267.864391 136.230822 \nL 271.524074 137.359116 \nL 272.743969 137.194314 \nL 273.353916 136.84738 \nL 273.963863 136.766945 \nL 274.57381 136.423255 \nL 277.013599 137.1538 \nL 277.623546 137.593754 \nL 278.233493 137.512806 \nL 278.84344 136.91539 \nL 279.453387 137.094549 \nL 280.063335 136.758699 \nL 280.673282 136.681023 \nL 281.283229 137.11488 \nL 282.503123 136.958825 \nL 284.942912 137.657128 \nL 285.552859 137.578681 \nL 286.162806 137.75058 \nL 286.772753 137.672309 \nL 287.382701 137.843018 \nL 287.992648 137.764923 \nL 288.602595 137.440064 \nL 289.822489 138.270738 \nL 290.432436 137.456759 \nL 291.652331 137.792906 \nL 292.262278 138.202849 \nL 294.092119 138.695755 \nL 294.702067 138.617673 \nL 295.921961 138.941477 \nL 297.751802 138.708381 \nL 298.36175 138.39462 \nL 298.971697 138.555002 \nL 300.801538 139.734422 \nL 302.021433 140.044168 \nL 302.63138 139.965234 \nL 303.851274 140.734292 \nL 305.071168 141.035035 \nL 305.681116 140.724911 \nL 306.291063 140.874545 \nL 306.90101 140.794922 \nL 307.510957 140.943624 \nL 308.120904 140.636852 \nL 309.950746 140.402688 \nL 310.560693 140.775645 \nL 311.17064 140.473078 \nL 311.780587 140.620008 \nL 312.390534 140.542765 \nL 313.610429 140.834125 \nL 314.220376 140.756922 \nL 314.830323 140.458829 \nL 316.050217 141.188157 \nL 316.660165 141.110859 \nL 317.270112 140.595662 \nL 317.880059 140.738753 \nL 318.490006 140.663078 \nL 319.099953 140.805331 \nL 319.7099 140.512835 \nL 322.149689 140.216594 \nL 322.759636 139.928938 \nL 323.979531 139.784616 \nL 324.589478 139.287047 \nL 325.809372 138.722805 \nL 326.419319 139.077066 \nL 327.639214 139.359681 \nL 328.249161 139.08 \nL 329.469055 139.360654 \nL 330.079002 139.291454 \nL 330.688949 139.014503 \nL 331.298897 139.154013 \nL 331.908844 139.085759 \nL 332.518791 139.22447 \nL 333.128738 139.568728 \nL 333.738685 139.08857 \nL 334.348632 139.021087 \nL 334.95858 138.749125 \nL 336.788421 139.771219 \nL 337.398368 139.500001 \nL 339.22821 139.903199 \nL 340.448104 139.76761 \nL 341.058051 139.900536 \nL 344.107787 139.566038 \nL 344.717734 139.895304 \nL 345.327681 140.025918 \nL 346.547576 139.892736 \nL 347.157523 139.630629 \nL 347.76747 139.760688 \nL 348.377417 140.085291 \nL 348.987365 139.62979 \nL 349.597312 139.564754 \nL 350.207259 139.693854 \nL 352.0371 139.500001 \nL 352.647048 139.243734 \nL 353.256995 139.180346 \nL 353.866942 139.500001 \nL 354.476889 139.054369 \nL 355.086836 138.991766 \nL 356.916678 139.37374 \nL 357.526625 139.689001 \nL 358.136572 139.625748 \nL 358.746519 139.939171 \nL 359.356466 140.063486 \nL 359.966414 140.374718 \nL 360.576361 140.31056 \nL 361.186308 140.060011 \nL 361.796255 139.996759 \nL 362.406202 140.305585 \nL 363.016149 140.427615 \nL 364.236044 140.300651 \nL 364.845991 139.868781 \nL 365.455938 139.806705 \nL 366.065885 139.928505 \nL 367.28578 139.804839 \nL 367.895727 140.108461 \nL 368.505674 139.864347 \nL 369.725568 140.467684 \nL 369.725568 140.467684 \n\" clip-path=\"url(#p66f0c537b2)\" style=\"fill: none; stroke: #1f77b4; stroke-width: 1.5; stroke-linecap: square\"/>\n   </g>\n   <g id=\"line2d_14\">\n    <path d=\"M 65.361932 199.980001 \nL 65.971879 154.619999 \nL 66.581826 139.500001 \nL 67.191773 154.619999 \nL 67.80172 145.548008 \nL 68.411668 124.380002 \nL 69.021615 148.14 \nL 69.631562 154.619999 \nL 70.241509 159.659999 \nL 70.851456 145.548008 \nL 71.461403 158.743645 \nL 72.071351 154.619999 \nL 72.681298 165.087691 \nL 73.291245 161.099999 \nL 73.901192 163.692004 \nL 74.511139 160.290007 \nL 75.121086 151.951764 \nL 75.731034 154.619999 \nL 76.340981 161.782107 \nL 76.950928 159.156008 \nL 78.170822 162.867277 \nL 78.780769 164.48088 \nL 79.390717 169.739998 \nL 80.000664 170.949605 \nL 80.610611 175.555382 \nL 81.220558 173.100006 \nL 82.440452 174.953802 \nL 83.0504 178.812002 \nL 84.880241 172.489099 \nL 85.490188 170.629409 \nL 86.710083 157.140006 \nL 87.929977 159.394742 \nL 89.149871 165.960002 \nL 89.759819 164.577076 \nL 90.369766 167.579998 \nL 91.58966 169.052726 \nL 92.199607 167.724009 \nL 92.809554 164.48088 \nL 94.639396 166.65429 \nL 95.249343 165.506407 \nL 95.85929 166.182351 \nL 96.469237 168.576921 \nL 97.079185 169.169443 \nL 97.689132 168.060007 \nL 98.909026 172.440001 \nL 99.518973 172.92316 \nL 100.12892 170.261386 \nL 100.738868 170.765093 \nL 101.348815 166.716001 \nL 103.178656 168.299998 \nL 103.788603 165.960002 \nL 105.008498 164.241821 \nL 105.618445 164.775228 \nL 106.228392 163.958829 \nL 107.448286 164.988006 \nL 108.058234 162.925352 \nL 108.668181 162.180005 \nL 109.278128 160.212331 \nL 109.888075 159.523788 \nL 110.498022 157.64401 \nL 111.717917 161.099999 \nL 112.937811 162.084309 \nL 113.547758 161.424006 \nL 114.157705 159.659999 \nL 115.3776 160.631575 \nL 115.987547 162.180005 \nL 116.597494 160.490119 \nL 117.207441 159.89442 \nL 117.817388 157.226902 \nL 118.427335 153.589091 \nL 119.64723 154.619999 \nL 120.257177 156.115384 \nL 121.477071 155.107741 \nL 122.696966 156.052429 \nL 123.91686 155.087639 \nL 124.526807 152.768583 \nL 125.136754 153.245455 \nL 125.746701 152.805609 \nL 126.356649 150.578031 \nL 126.966596 151.062353 \nL 127.576543 149.775732 \nL 128.18649 147.641539 \nL 128.796437 146.412006 \nL 130.016332 147.413281 \nL 131.236226 146.713221 \nL 131.846173 148.022188 \nL 132.45612 148.490274 \nL 133.676015 147.795931 \nL 134.285962 149.049473 \nL 134.895909 146.336871 \nL 136.115803 145.703077 \nL 137.945645 147.060007 \nL 138.555592 145.997858 \nL 140.385433 147.303878 \nL 141.605328 149.58 \nL 142.215275 149.262522 \nL 142.825222 150.36751 \nL 143.435169 150.048843 \nL 144.045116 148.339395 \nL 145.265011 146.372735 \nL 145.874958 147.457905 \nL 146.484905 146.495819 \nL 147.094852 146.892001 \nL 147.704799 147.949419 \nL 148.924694 148.703485 \nL 150.144588 148.14 \nL 151.364482 148.870152 \nL 152.584377 150.840003 \nL 153.194324 151.178908 \nL 155.024165 150.329199 \nL 156.24406 150.991206 \nL 157.463954 150.442104 \nL 158.073901 150.765882 \nL 158.683848 151.674544 \nL 159.293796 150.815616 \nL 159.903743 151.130769 \nL 160.51369 150.864079 \nL 162.343531 151.785002 \nL 162.953479 150.957396 \nL 163.563426 150.700007 \nL 164.173373 151.002331 \nL 164.78332 149.641468 \nL 165.393267 149.946549 \nL 166.003214 149.154943 \nL 166.613162 149.459281 \nL 167.223109 148.14 \nL 167.833056 147.373146 \nL 169.662897 146.708382 \nL 170.882792 147.320694 \nL 171.492739 145.548008 \nL 172.102686 145.857281 \nL 173.32258 145.446067 \nL 174.542475 143.028002 \nL 175.152422 142.841435 \nL 175.762369 143.653847 \nL 176.372316 142.97017 \nL 176.982263 143.280011 \nL 177.592211 144.076876 \nL 178.202158 143.889687 \nL 178.812105 142.249103 \nL 179.422052 142.556172 \nL 180.031999 141.900005 \nL 180.641946 142.205695 \nL 181.251894 142.033201 \nL 181.861841 142.335012 \nL 182.471788 143.103732 \nL 183.081735 143.396917 \nL 183.691682 143.221855 \nL 185.521524 144.081824 \nL 186.131471 144.8186 \nL 186.741418 143.733605 \nL 187.351365 144.464784 \nL 187.961312 142.943174 \nL 189.181207 142.612949 \nL 189.791154 143.335328 \nL 190.401101 143.610291 \nL 191.011048 143.444353 \nL 191.620995 143.716153 \nL 192.230943 142.683163 \nL 193.450837 144.086163 \nL 194.060784 143.921888 \nL 194.670731 144.185077 \nL 195.280678 143.597948 \nL 195.890626 143.86019 \nL 197.720467 145.880924 \nL 199.550309 146.615294 \nL 200.160256 146.038386 \nL 200.770203 145.873462 \nL 201.38015 146.115008 \nL 202.600044 145.788851 \nL 203.209992 146.427227 \nL 204.429886 146.894935 \nL 205.039833 146.731309 \nL 205.64978 146.176368 \nL 206.259727 146.017243 \nL 208.089569 146.706137 \nL 208.699516 146.547459 \nL 209.91941 147.758824 \nL 211.139305 148.194006 \nL 212.359199 147.872242 \nL 212.969146 148.460006 \nL 213.579093 148.671149 \nL 214.189041 148.510294 \nL 214.798988 149.088298 \nL 215.408935 149.29433 \nL 216.018882 149.132908 \nL 216.628829 148.608437 \nL 217.238776 148.813929 \nL 217.848724 148.656346 \nL 218.458671 149.220007 \nL 219.068618 149.420632 \nL 219.678565 149.976858 \nL 221.508407 148.442567 \nL 224.558142 149.426107 \nL 225.16809 148.583509 \nL 225.778037 149.121823 \nL 226.387984 148.629066 \nL 226.997931 148.481054 \nL 227.607878 146.975058 \nL 228.217825 146.834332 \nL 228.827773 146.357405 \nL 230.047667 146.083618 \nL 230.657614 146.28177 \nL 231.267561 146.146154 \nL 231.877508 146.34263 \nL 232.487456 145.548008 \nL 233.70735 145.941013 \nL 235.537191 145.548008 \nL 236.757086 145.934051 \nL 237.367033 146.445585 \nL 239.196874 147.007137 \nL 240.416769 148.005006 \nL 241.636663 148.363458 \nL 242.24661 147.917326 \nL 243.466505 148.272696 \nL 244.076452 148.757152 \nL 244.686399 148.930782 \nL 245.296346 148.490274 \nL 245.906293 148.969093 \nL 247.736135 149.479207 \nL 248.346082 149.345592 \nL 248.956029 149.513246 \nL 250.785871 149.117321 \nL 251.395818 149.58 \nL 252.615712 149.907279 \nL 253.225659 149.775732 \nL 253.835606 150.230326 \nL 254.445554 149.515179 \nL 255.665448 148.678286 \nL 256.885342 149.004011 \nL 257.495289 149.452414 \nL 258.105237 149.325625 \nL 258.715184 148.914344 \nL 259.325131 148.790043 \nL 259.935078 148.950005 \nL 260.545025 148.261124 \nL 261.154972 147.858264 \nL 261.76492 147.738762 \nL 262.374867 147.060007 \nL 264.204708 147.545504 \nL 264.814655 147.152202 \nL 266.03455 146.922552 \nL 266.644497 147.356924 \nL 267.254444 147.515426 \nL 267.864391 147.945417 \nL 268.474338 147.829592 \nL 269.084286 148.256068 \nL 269.694233 147.60001 \nL 270.30418 147.217036 \nL 271.524074 146.993105 \nL 272.134021 147.148944 \nL 272.743969 147.569918 \nL 273.353916 147.457905 \nL 273.963863 147.875514 \nL 274.57381 148.026987 \nL 275.183757 147.388705 \nL 276.403652 147.168938 \nL 277.013599 146.799319 \nL 277.623546 146.691754 \nL 278.233493 146.32561 \nL 280.063335 146.781597 \nL 280.673282 147.188147 \nL 281.283229 147.336849 \nL 281.893176 146.975058 \nL 283.11307 147.271177 \nL 283.723018 147.670698 \nL 284.332965 147.312002 \nL 285.552859 147.602984 \nL 286.162806 147.247439 \nL 287.382701 147.039297 \nL 288.602595 147.822184 \nL 289.822489 147.121475 \nL 291.652331 146.816136 \nL 292.262278 146.95866 \nL 292.872225 146.857867 \nL 293.482172 147.24145 \nL 294.092119 147.140427 \nL 295.312014 147.42 \nL 295.921961 146.840591 \nL 296.531908 147.219158 \nL 297.141855 147.119528 \nL 297.751802 147.257915 \nL 298.36175 147.158704 \nL 300.191591 148.274305 \nL 300.801538 148.407906 \nL 302.021433 148.206632 \nL 302.63138 148.572005 \nL 303.241327 148.007426 \nL 303.851274 148.14 \nL 304.461221 148.041073 \nL 305.071168 148.403148 \nL 306.291063 148.663646 \nL 306.90101 148.564395 \nL 308.120904 148.822108 \nL 308.730851 148.496411 \nL 309.340799 147.946093 \nL 309.950746 147.624181 \nL 311.780587 147.339999 \nL 312.390534 147.469666 \nL 313.000482 147.152878 \nL 313.610429 146.615294 \nL 314.220376 146.523964 \nL 314.830323 146.654349 \nL 316.050217 146.472825 \nL 316.660165 146.163052 \nL 317.270112 146.293044 \nL 317.880059 145.985205 \nL 318.490006 146.115008 \nL 319.099953 146.461726 \nL 319.7099 146.589772 \nL 320.929795 146.412006 \nL 321.539742 146.108276 \nL 323.979531 146.615294 \nL 325.199425 146.440326 \nL 325.809372 146.565425 \nL 326.419319 146.055527 \nL 327.639214 146.726739 \nL 328.249161 146.85 \nL 328.859108 146.553678 \nL 329.469055 146.676776 \nL 330.079002 146.590759 \nL 330.688949 146.713221 \nL 331.298897 146.627515 \nL 331.908844 146.749315 \nL 332.518791 146.457265 \nL 333.128738 146.578916 \nL 333.738685 146.905722 \nL 334.348632 146.615294 \nL 335.568527 146.855677 \nL 336.178474 146.567331 \nL 338.008315 146.924999 \nL 338.618263 146.841118 \nL 339.22821 146.556003 \nL 339.838157 146.875617 \nL 340.448104 146.792398 \nL 341.058051 147.110065 \nL 341.667998 146.427227 \nL 342.277946 146.544931 \nL 342.887893 146.861058 \nL 343.49784 146.977288 \nL 344.107787 147.291103 \nL 344.717734 147.405887 \nL 345.937629 147.240396 \nL 346.547576 146.961823 \nL 347.157523 147.076337 \nL 348.377417 147.694071 \nL 349.597312 147.140941 \nL 350.207259 147.060007 \nL 350.817206 146.785977 \nL 351.427153 146.899152 \nL 352.647048 146.739663 \nL 353.256995 146.85223 \nL 353.866942 146.772918 \nL 354.476889 146.884931 \nL 355.696783 146.727172 \nL 356.306731 146.838577 \nL 356.916678 146.570738 \nL 357.526625 146.115008 \nL 358.136572 145.472563 \nL 358.746519 145.585643 \nL 359.356466 145.510441 \nL 359.966414 145.248104 \nL 360.576361 145.173902 \nL 361.186308 145.286672 \nL 361.796255 145.2127 \nL 362.406202 145.324929 \nL 363.016149 144.880122 \nL 364.236044 144.735029 \nL 364.845991 144.847326 \nL 365.455938 144.591127 \nL 366.675832 144.814909 \nL 367.28578 144.743235 \nL 367.895727 144.489307 \nL 368.505674 144.600725 \nL 369.115621 144.348108 \nL 369.725568 144.459364 \nL 369.725568 144.459364 \n\" clip-path=\"url(#p66f0c537b2)\" style=\"fill: none; stroke: #ff7f0e; stroke-width: 1.5; stroke-linecap: square\"/>\n   </g>\n   <g id=\"line2d_15\">\n    <path d=\"M 65.361932 18.54 \nL 65.971879 109.260004 \nL 66.581826 169.739998 \nL 67.191773 199.980001 \nL 67.80172 163.692004 \nL 68.411668 184.860003 \nL 69.021615 135.180001 \nL 69.631562 131.940008 \nL 70.241509 149.58 \nL 70.851456 136.476004 \nL 72.071351 147.060007 \nL 72.681298 137.173847 \nL 73.291245 148.14 \nL 73.901192 151.596002 \nL 74.511139 148.950005 \nL 75.121086 151.951764 \nL 76.340981 128.358948 \nL 76.950928 127.403999 \nL 77.560875 117.900003 \nL 78.170822 117.507282 \nL 78.780769 121.093047 \nL 79.390717 109.260004 \nL 80.000664 105.63121 \nL 80.610611 105.770774 \nL 81.220558 109.260004 \nL 81.830505 115.740003 \nL 82.440452 109.260004 \nL 83.660347 115.112915 \nL 85.490188 122.601179 \nL 86.710083 126.900009 \nL 87.32003 126.423244 \nL 87.929977 123.584219 \nL 88.539924 118.564618 \nL 89.149871 118.332009 \nL 89.759819 111.472685 \nL 91.58966 111.32182 \nL 93.419502 116.980851 \nL 94.029449 118.710008 \nL 94.639396 112.962865 \nL 95.249343 111.074408 \nL 97.079185 110.971709 \nL 98.909026 115.740003 \nL 99.518973 115.626328 \nL 100.12892 112.388281 \nL 100.738868 112.335263 \nL 101.348815 113.796013 \nL 101.958762 113.721649 \nL 102.568709 116.576139 \nL 103.178656 117.900003 \nL 103.788603 120.600006 \nL 105.008498 123.005458 \nL 106.838339 130.296531 \nL 107.448286 126.10801 \nL 108.058234 127.148462 \nL 108.668181 126.900009 \nL 109.278128 127.901096 \nL 109.888075 130.101083 \nL 110.498022 128.613606 \nL 111.107969 129.552644 \nL 111.717917 128.110914 \nL 112.937811 127.633676 \nL 115.3776 135.492288 \nL 115.987547 137.340001 \nL 116.597494 137.009654 \nL 117.207441 138.79675 \nL 117.817388 139.500001 \nL 118.427335 141.218181 \nL 119.037283 139.839784 \nL 119.64723 140.508009 \nL 120.867124 137.856523 \nL 121.477071 137.549035 \nL 122.087018 138.213191 \nL 122.696966 139.818317 \nL 123.306913 138.555002 \nL 125.136754 143.165456 \nL 125.746701 142.826403 \nL 126.356649 144.290506 \nL 127.576543 141.848744 \nL 128.18649 141.535389 \nL 128.796437 142.092006 \nL 129.406384 141.782274 \nL 130.016332 143.174027 \nL 131.236226 142.551751 \nL 131.846173 141.424363 \nL 132.45612 142.769193 \nL 133.066067 142.470006 \nL 133.676015 141.373277 \nL 134.285962 141.091582 \nL 134.895909 140.025918 \nL 135.505856 139.760688 \nL 136.115803 140.275385 \nL 136.72575 140.012548 \nL 137.335698 140.516471 \nL 137.945645 140.256 \nL 139.775486 141.712682 \nL 140.385433 141.450967 \nL 140.995381 141.919201 \nL 141.605328 143.100001 \nL 142.215275 142.119218 \nL 144.045116 141.360935 \nL 144.655064 141.808405 \nL 145.265011 141.561817 \nL 145.874958 139.272636 \nL 146.484905 139.048664 \nL 147.704799 137.276478 \nL 148.314747 138.396351 \nL 148.924694 137.527825 \nL 149.534641 136.019138 \nL 150.144588 135.180001 \nL 150.754535 134.996179 \nL 151.364482 134.176062 \nL 151.97443 134.636226 \nL 152.584377 134.460001 \nL 153.194324 132.409243 \nL 153.804271 132.872057 \nL 154.414218 132.094293 \nL 155.024165 132.552984 \nL 156.854007 130.287825 \nL 157.463954 130.746326 \nL 158.073901 130.012943 \nL 158.683848 130.467281 \nL 159.293796 131.501041 \nL 159.903743 130.776932 \nL 160.51369 131.21771 \nL 161.123637 132.227097 \nL 162.343531 133.074007 \nL 162.953479 132.92609 \nL 163.563426 133.340008 \nL 164.173373 134.305406 \nL 165.393267 134.001825 \nL 166.003214 134.399277 \nL 166.613162 134.24875 \nL 167.223109 134.640012 \nL 167.833056 135.563435 \nL 168.443003 135.942354 \nL 169.05295 135.786326 \nL 170.272845 136.528442 \nL 170.882792 135.850348 \nL 171.492739 136.735204 \nL 172.102686 134.517279 \nL 172.712633 135.399661 \nL 173.932528 136.121229 \nL 175.152422 137.829284 \nL 175.762369 138.17077 \nL 176.372316 139.00427 \nL 176.982263 138.842618 \nL 177.592211 137.701954 \nL 178.202158 137.549035 \nL 178.812105 138.36803 \nL 179.422052 138.695755 \nL 180.641946 138.385901 \nL 181.251894 138.708381 \nL 181.861841 138.555002 \nL 182.471788 137.933172 \nL 183.081735 138.252989 \nL 183.691682 137.173847 \nL 184.301629 137.031432 \nL 185.521524 134.001825 \nL 186.131471 134.333375 \nL 186.741418 135.115208 \nL 187.351365 135.437918 \nL 187.961312 136.206543 \nL 191.011048 137.746957 \nL 191.620995 137.610003 \nL 192.230943 138.342494 \nL 192.84089 137.772006 \nL 193.450837 138.066828 \nL 194.060784 137.503019 \nL 194.670731 137.370431 \nL 195.280678 136.815152 \nL 195.890626 137.530894 \nL 196.500573 137.82001 \nL 197.11052 136.434205 \nL 197.720467 135.477256 \nL 198.330414 136.186036 \nL 198.940361 136.476004 \nL 199.550309 135.942354 \nL 200.160256 136.230822 \nL 200.770203 135.703053 \nL 201.38015 135.585011 \nL 202.600044 134.549209 \nL 204.429886 135.406379 \nL 205.039833 136.081566 \nL 206.259727 136.632425 \nL 206.869675 136.514937 \nL 207.479622 136.01077 \nL 209.309463 135.672163 \nL 209.91941 135.180001 \nL 210.529358 135.071557 \nL 211.139305 135.342005 \nL 211.749252 135.233777 \nL 212.359199 135.501332 \nL 212.969146 135.393334 \nL 213.579093 134.914434 \nL 214.189041 135.180001 \nL 214.798988 135.074639 \nL 215.408935 135.704702 \nL 216.018882 135.598069 \nL 216.628829 135.856634 \nL 217.238776 135.387359 \nL 217.848724 135.283268 \nL 218.458671 134.820008 \nL 219.068618 134.718972 \nL 219.678565 135.333083 \nL 220.288512 135.23083 \nL 220.898459 135.838128 \nL 222.118354 136.335359 \nL 223.338248 136.127082 \nL 223.948195 135.676557 \nL 225.778037 135.376369 \nL 226.387984 135.962497 \nL 226.997931 135.862109 \nL 230.657614 137.276478 \nL 231.267561 136.84154 \nL 233.70735 136.443249 \nL 234.317297 136.998136 \nL 234.927244 136.898709 \nL 235.537191 136.476004 \nL 236.147139 136.379145 \nL 236.757086 136.604685 \nL 237.97698 136.412116 \nL 238.586927 135.68022 \nL 239.196874 135.587836 \nL 239.806822 136.128299 \nL 240.416769 136.035009 \nL 241.026716 135.000627 \nL 241.636663 135.224693 \nL 242.24661 135.135472 \nL 242.856557 134.114797 \nL 243.466505 134.339594 \nL 245.296346 134.085408 \nL 245.906293 134.307285 \nL 247.126188 134.139739 \nL 249.565976 135.008913 \nL 250.175923 134.924221 \nL 250.785871 135.137513 \nL 251.395818 135.052943 \nL 252.005765 135.264437 \nL 252.615712 135.180001 \nL 253.225659 134.802529 \nL 253.835606 135.01278 \nL 254.445554 135.513377 \nL 255.055501 135.720005 \nL 255.665448 135.635475 \nL 256.275395 135.840385 \nL 257.495289 135.097986 \nL 258.105237 135.588836 \nL 258.715184 135.220759 \nL 259.935078 135.058512 \nL 260.545025 135.26076 \nL 261.154972 135.180001 \nL 261.76492 134.818886 \nL 262.984814 135.778161 \nL 263.594761 135.975096 \nL 264.204708 135.893404 \nL 264.814655 136.088785 \nL 265.424603 135.731495 \nL 266.03455 135.651277 \nL 266.644497 135.845631 \nL 267.254444 135.492288 \nL 267.864391 135.413517 \nL 268.474338 134.791985 \nL 269.084286 134.715768 \nL 269.694233 134.91 \nL 271.524074 134.683013 \nL 273.353916 135.255799 \nL 273.963863 134.915515 \nL 275.793704 135.479662 \nL 276.403652 135.14265 \nL 277.013599 135.068286 \nL 278.233493 135.957603 \nL 278.84344 135.881549 \nL 279.453387 135.29046 \nL 280.673282 135.655941 \nL 281.283229 135.32604 \nL 281.893176 135.507645 \nL 282.503123 135.180001 \nL 283.11307 135.107597 \nL 283.723018 135.28831 \nL 284.332965 135.216001 \nL 284.942912 135.395402 \nL 285.552859 135.323215 \nL 286.162806 135.751246 \nL 287.382701 135.10899 \nL 287.992648 134.294753 \nL 289.212542 134.158705 \nL 290.432436 134.514494 \nL 291.042384 134.446416 \nL 291.652331 134.866457 \nL 293.482172 134.6616 \nL 294.092119 134.835324 \nL 294.702067 134.767489 \nL 295.921961 134.154149 \nL 297.141855 134.023467 \nL 297.751802 134.433614 \nL 298.36175 134.367888 \nL 298.971697 134.775006 \nL 299.581644 134.473101 \nL 300.191591 133.232645 \nL 300.801538 133.170704 \nL 301.411485 133.342887 \nL 302.021433 133.280987 \nL 302.63138 132.754164 \nL 303.241327 132.694075 \nL 304.461221 133.036494 \nL 305.071168 132.976148 \nL 306.90101 133.482477 \nL 307.510957 133.421618 \nL 308.120904 133.58842 \nL 308.730851 133.300804 \nL 309.340799 133.467093 \nL 309.950746 133.858219 \nL 311.17064 134.185552 \nL 312.390534 134.062765 \nL 313.000482 133.778921 \nL 313.610429 133.941181 \nL 314.220376 133.880835 \nL 314.830323 133.599519 \nL 315.44027 133.540295 \nL 316.660165 134.301364 \nL 317.270112 134.460001 \nL 317.880059 134.836487 \nL 318.490006 134.993083 \nL 319.099953 134.496271 \nL 319.7099 134.435885 \nL 320.319848 134.592319 \nL 320.929795 134.964005 \nL 323.369583 134.721514 \nL 324.589478 135.027893 \nL 325.199425 135.392469 \nL 325.809372 134.907485 \nL 326.419319 134.847694 \nL 327.029266 134.366238 \nL 328.249161 134.250008 \nL 328.859108 134.611326 \nL 329.469055 134.552913 \nL 330.079002 134.703318 \nL 330.688949 134.228811 \nL 331.298897 134.37927 \nL 331.908844 134.114797 \nL 332.518791 134.264837 \nL 333.128738 134.620369 \nL 333.738685 134.562862 \nL 334.348632 134.91611 \nL 334.95858 134.858197 \nL 335.568527 135.004871 \nL 336.788421 134.482604 \nL 337.398368 134.83208 \nL 338.618263 135.122278 \nL 339.22821 135.064812 \nL 339.838157 134.605283 \nL 340.448104 134.950622 \nL 341.058051 134.493378 \nL 342.277946 134.781238 \nL 342.887893 134.725272 \nL 343.49784 134.868052 \nL 345.327681 134.701047 \nL 346.547576 135.376369 \nL 347.157523 135.319957 \nL 347.76747 135.068286 \nL 348.377417 135.01278 \nL 348.987365 135.346872 \nL 349.597312 135.485272 \nL 350.207259 135.235386 \nL 351.427153 135.510903 \nL 352.0371 135.069949 \nL 352.647048 135.207457 \nL 353.256995 135.1526 \nL 356.306731 135.83072 \nL 356.916678 135.775241 \nL 357.526625 135.909004 \nL 359.356466 135.743486 \nL 359.966414 136.063641 \nL 360.576361 135.821325 \nL 361.186308 135.393334 \nL 361.796255 135.712245 \nL 362.406202 135.843941 \nL 363.016149 136.160621 \nL 363.626097 136.290857 \nL 364.236044 136.605347 \nL 365.455938 136.862439 \nL 366.065885 136.622921 \nL 366.675832 136.567645 \nL 367.28578 136.329681 \nL 368.505674 136.585313 \nL 369.115621 136.53055 \nL 369.725568 136.113131 \nL 369.725568 136.113131 \n\" clip-path=\"url(#p66f0c537b2)\" style=\"fill: none; stroke: #2ca02c; stroke-width: 1.5; stroke-linecap: square\"/>\n   </g>\n   <g id=\"line2d_16\">\n    <path d=\"M 65.361932 109.260004 \nL 65.971879 63.900009 \nL 66.581826 48.779997 \nL 67.191773 18.54 \nL 67.80172 72.972013 \nL 68.411668 79.020007 \nL 69.021615 109.260004 \nL 70.241509 109.260004 \nL 70.851456 127.403999 \nL 71.461403 101.01274 \nL 72.071351 101.700012 \nL 72.681298 116.238465 \nL 73.291245 109.260004 \nL 73.901192 109.260004 \nL 75.121086 119.932944 \nL 75.731034 129.420002 \nL 76.340981 128.358948 \nL 77.560875 143.82 \nL 78.170822 150.496367 \nL 78.780769 152.647837 \nL 80.000664 163.692004 \nL 80.610611 168.576921 \nL 81.220558 166.380003 \nL 81.830505 157.860006 \nL 82.440452 162.440693 \nL 83.660347 159.009686 \nL 84.270294 151.785002 \nL 84.880241 150.496367 \nL 85.490188 151.951764 \nL 86.100135 148.14 \nL 86.710083 152.100006 \nL 87.929977 149.84527 \nL 88.539924 146.478462 \nL 89.149871 145.548008 \nL 89.759819 149.088298 \nL 90.369766 145.98 \nL 90.979713 147.235813 \nL 91.58966 144.310919 \nL 92.199607 143.532006 \nL 92.809554 144.759133 \nL 93.419502 142.073621 \nL 94.029449 141.389999 \nL 94.639396 138.882862 \nL 95.249343 141.919201 \nL 97.079185 145.20567 \nL 97.689132 147.900009 \nL 98.299079 148.846914 \nL 98.909026 146.520004 \nL 99.518973 145.866325 \nL 100.12892 146.799319 \nL 100.738868 146.163052 \nL 101.348815 148.572005 \nL 101.958762 147.927546 \nL 102.568709 148.767102 \nL 103.178656 148.14 \nL 103.788603 146.115008 \nL 105.008498 144.998191 \nL 105.618445 145.818808 \nL 106.228392 143.947059 \nL 107.448286 145.548008 \nL 108.668181 144.54 \nL 109.888075 148.490274 \nL 110.498022 149.176802 \nL 111.107969 147.457905 \nL 111.717917 146.961823 \nL 112.327864 147.641539 \nL 114.157705 152.940009 \nL 114.767652 153.513659 \nL 115.3776 152.980482 \nL 115.987547 151.380006 \nL 116.597494 153.019064 \nL 117.207441 152.510234 \nL 117.817388 154.098624 \nL 118.427335 154.619999 \nL 119.037283 156.14899 \nL 119.64723 156.636002 \nL 120.257177 155.118461 \nL 120.867124 155.606094 \nL 121.477071 155.107741 \nL 122.087018 152.689798 \nL 123.306913 151.785002 \nL 123.91686 152.281855 \nL 125.136754 151.412734 \nL 125.746701 151.898407 \nL 126.356649 153.272681 \nL 127.576543 152.418066 \nL 128.18649 152.875391 \nL 128.796437 152.46 \nL 129.406384 153.764154 \nL 130.626279 154.619999 \nL 131.236226 155.868444 \nL 132.45612 155.028659 \nL 133.066067 156.240009 \nL 134.285962 155.415797 \nL 134.895909 156.592175 \nL 135.505856 156.184138 \nL 136.115803 155.007692 \nL 136.72575 155.388814 \nL 137.945645 154.619999 \nL 138.555592 154.994876 \nL 139.165539 154.619999 \nL 139.775486 153.513659 \nL 140.385433 153.888387 \nL 140.995381 153.531368 \nL 141.605328 151.74 \nL 142.215275 152.834173 \nL 142.825222 153.202507 \nL 143.435169 151.455358 \nL 144.045116 150.432926 \nL 144.655064 148.73359 \nL 145.265011 149.809095 \nL 147.094852 150.924006 \nL 147.704799 151.951764 \nL 148.314747 150.315776 \nL 148.924694 150.675661 \nL 149.534641 150.377703 \nL 150.144588 150.732005 \nL 151.364482 148.870152 \nL 151.97443 148.593148 \nL 152.584377 148.950005 \nL 153.194324 149.927597 \nL 154.414218 150.608583 \nL 155.024165 149.716224 \nL 155.634113 150.053561 \nL 156.24406 150.991206 \nL 156.854007 150.714837 \nL 157.463954 151.6358 \nL 158.073901 151.358823 \nL 158.683848 151.674544 \nL 159.293796 149.645037 \nL 159.903743 148.223084 \nL 160.51369 148.552742 \nL 161.123637 147.155703 \nL 162.953479 149.83044 \nL 164.173373 149.332641 \nL 164.78332 150.194638 \nL 166.003214 149.701449 \nL 166.613162 148.916047 \nL 167.223109 148.680003 \nL 167.833056 148.983557 \nL 168.443003 148.749893 \nL 169.05295 147.988432 \nL 169.662897 148.818147 \nL 170.272845 149.113874 \nL 170.882792 148.884833 \nL 171.492739 149.176802 \nL 172.102686 149.980913 \nL 172.712633 150.263392 \nL 174.542475 152.60401 \nL 175.152422 151.863314 \nL 175.762369 152.626153 \nL 176.372316 152.389191 \nL 176.982263 152.647837 \nL 177.592211 152.413307 \nL 178.812105 153.892307 \nL 179.422052 154.137449 \nL 180.031999 154.860004 \nL 180.641946 155.09748 \nL 181.251894 155.807436 \nL 183.081735 153.684747 \nL 183.691682 154.387389 \nL 184.301629 154.157145 \nL 186.741418 155.073607 \nL 187.351365 154.394338 \nL 187.961312 154.170893 \nL 188.57126 154.396555 \nL 189.181207 153.730588 \nL 189.791154 153.513659 \nL 191.620995 150.258471 \nL 192.230943 150.496367 \nL 192.84089 149.868008 \nL 193.450837 150.105498 \nL 194.060784 149.912835 \nL 194.670731 150.573814 \nL 195.280678 150.80468 \nL 195.890626 150.611449 \nL 196.500573 148.740011 \nL 197.11052 148.976136 \nL 197.720467 149.626246 \nL 198.330414 148.613426 \nL 198.940361 147.197461 \nL 199.550309 147.025792 \nL 201.990097 149.58 \nL 202.600044 149.000185 \nL 203.209992 149.624408 \nL 203.819939 148.651588 \nL 204.429886 148.083412 \nL 205.039833 148.703485 \nL 205.64978 148.532735 \nL 206.259727 147.972413 \nL 206.869675 147.806273 \nL 207.479622 148.029231 \nL 208.089569 148.636339 \nL 208.699516 148.469496 \nL 209.309463 148.686844 \nL 209.91941 148.521176 \nL 210.529358 148.736496 \nL 211.139305 148.572005 \nL 212.359199 149.746613 \nL 212.969146 149.58 \nL 213.579093 150.158368 \nL 214.798988 149.825858 \nL 215.408935 149.29433 \nL 216.018882 149.498714 \nL 217.238776 149.176802 \nL 219.678565 149.976858 \nL 220.288512 149.817179 \nL 220.898459 149.304375 \nL 222.118354 148.993953 \nL 223.338248 149.38616 \nL 223.948195 149.927597 \nL 224.558142 150.118624 \nL 225.16809 150.653166 \nL 225.778037 150.152731 \nL 226.997931 149.84527 \nL 228.827773 150.404388 \nL 229.43772 150.25201 \nL 230.047667 149.765985 \nL 230.657614 149.617067 \nL 231.267561 149.801538 \nL 233.097403 148.374786 \nL 233.70735 148.561083 \nL 234.317297 149.072373 \nL 236.147139 149.615878 \nL 236.757086 149.472772 \nL 237.367033 149.010107 \nL 237.97698 149.189577 \nL 238.586927 149.686105 \nL 240.416769 149.265009 \nL 241.026716 149.7544 \nL 242.856557 150.270422 \nL 243.466505 150.130453 \nL 244.076452 149.682861 \nL 244.686399 149.545839 \nL 245.296346 150.022712 \nL 245.906293 150.19092 \nL 246.51624 149.444708 \nL 247.126188 149.613715 \nL 247.736135 148.572005 \nL 248.346082 149.044187 \nL 248.956029 148.61206 \nL 249.565976 148.781594 \nL 250.175923 148.353157 \nL 250.785871 148.522434 \nL 251.395818 148.987059 \nL 252.005765 148.266653 \nL 253.225659 148.014185 \nL 253.835606 147.303878 \nL 254.445554 147.473249 \nL 255.665448 148.38844 \nL 256.275395 147.974914 \nL 256.885342 148.428008 \nL 257.495289 148.591147 \nL 258.105237 149.039442 \nL 258.715184 149.199621 \nL 260.545025 148.826366 \nL 261.76492 149.143101 \nL 262.374867 149.020003 \nL 262.984814 149.176802 \nL 263.594761 148.776078 \nL 264.204708 148.655238 \nL 264.814655 149.088298 \nL 265.424603 149.242988 \nL 266.03455 149.121823 \nL 266.644497 148.727317 \nL 267.254444 148.608437 \nL 267.864391 148.217839 \nL 268.474338 148.372813 \nL 269.084286 147.985256 \nL 270.30418 147.75543 \nL 270.914127 147.909945 \nL 271.524074 148.331149 \nL 272.134021 148.483068 \nL 272.743969 148.368041 \nL 273.353916 148.784216 \nL 275.183757 149.229402 \nL 275.793704 148.851686 \nL 276.403652 149.260467 \nL 277.013599 148.884833 \nL 277.623546 147.991461 \nL 278.233493 147.621599 \nL 278.84344 147.512317 \nL 279.453387 147.66137 \nL 280.063335 147.295591 \nL 280.673282 147.700681 \nL 281.283229 147.592399 \nL 281.893176 147.994381 \nL 282.503123 148.14 \nL 283.11307 148.031407 \nL 284.942912 146.955294 \nL 286.162806 147.247439 \nL 286.772753 147.143077 \nL 287.382701 147.287845 \nL 287.992648 147.679674 \nL 289.212542 147.47087 \nL 290.432436 147.754714 \nL 291.652331 147.547748 \nL 292.262278 146.95866 \nL 293.482172 146.757602 \nL 294.702067 146.0774 \nL 295.921961 146.840591 \nL 296.531908 146.741691 \nL 297.141855 146.881416 \nL 297.751802 146.545445 \nL 298.36175 146.684968 \nL 298.971697 147.060007 \nL 299.581644 146.726185 \nL 300.191591 147.099169 \nL 300.801538 147.001405 \nL 301.411485 147.371753 \nL 302.63138 147.176319 \nL 303.241327 147.543382 \nL 305.071168 145.870367 \nL 305.681116 146.007348 \nL 306.291063 145.685463 \nL 306.90101 145.822228 \nL 307.510957 145.274478 \nL 308.730851 145.548008 \nL 309.950746 146.270158 \nL 310.560693 145.7281 \nL 311.780587 145.548008 \nL 312.390534 145.235181 \nL 313.000482 145.592578 \nL 313.610429 145.281184 \nL 314.220376 145.41492 \nL 314.830323 145.769276 \nL 316.050217 145.151651 \nL 316.660165 145.284414 \nL 317.270112 145.635661 \nL 317.880059 145.548008 \nL 318.490006 145.678852 \nL 319.099953 145.37396 \nL 319.7099 145.721638 \nL 320.319848 145.418097 \nL 321.539742 145.677298 \nL 322.149689 145.161046 \nL 322.759636 145.076178 \nL 323.369583 144.777747 \nL 323.979531 144.694163 \nL 324.589478 144.823953 \nL 325.199425 144.740667 \nL 327.029266 145.126047 \nL 327.639214 144.621867 \nL 328.249161 144.750008 \nL 328.859108 144.458525 \nL 329.469055 143.750327 \nL 330.079002 143.253934 \nL 330.688949 143.384048 \nL 331.298897 143.098351 \nL 331.908844 143.228222 \nL 332.518791 143.150843 \nL 333.128738 142.249103 \nL 333.738685 142.380001 \nL 334.348632 142.715566 \nL 335.568527 142.156218 \nL 336.178474 142.490026 \nL 338.618263 141.385795 \nL 339.22821 141.516003 \nL 339.838157 141.444478 \nL 340.448104 141.573984 \nL 341.058051 141.502661 \nL 341.667998 141.631463 \nL 344.107787 141.348741 \nL 345.327681 140.814794 \nL 345.937629 140.943123 \nL 346.547576 140.874545 \nL 347.157523 141.198147 \nL 347.76747 140.73828 \nL 348.377417 140.67058 \nL 349.597312 140.92459 \nL 351.427153 140.722477 \nL 352.0371 141.040902 \nL 353.256995 141.290112 \nL 353.866942 140.648356 \nL 354.476889 140.582279 \nL 355.086836 140.32589 \nL 356.306731 140.575492 \nL 356.916678 140.510104 \nL 357.526625 140.256 \nL 358.136572 140.568774 \nL 358.746519 140.503818 \nL 359.356466 140.626957 \nL 359.966414 140.56215 \nL 360.576361 140.87172 \nL 361.796255 141.114455 \nL 362.406202 140.67738 \nL 363.626097 141.28972 \nL 364.236044 141.039725 \nL 364.845991 141.159511 \nL 366.675832 140.966186 \nL 367.895727 141.203662 \nL 368.505674 140.957358 \nL 369.115621 141.07563 \nL 369.725568 140.83057 \nL 369.725568 140.83057 \n\" clip-path=\"url(#p66f0c537b2)\" style=\"fill: none; stroke: #d62728; stroke-width: 1.5; stroke-linecap: square\"/>\n   </g>\n   <g id=\"line2d_17\">\n    <path d=\"M 65.361932 109.260004 \nL 65.971879 199.980001 \nL 66.581826 169.739998 \nL 67.191773 131.940008 \nL 67.80172 145.548008 \nL 68.411668 154.619999 \nL 69.021615 148.14 \nL 69.631562 143.280011 \nL 70.241509 119.340003 \nL 71.461403 134.001825 \nL 72.071351 139.500001 \nL 73.291245 135.180001 \nL 73.901192 133.452007 \nL 74.511139 137.610003 \nL 75.121086 130.605884 \nL 76.340981 128.358948 \nL 77.560875 135.180001 \nL 78.170822 138.125457 \nL 78.780769 132.92609 \nL 79.390717 124.380002 \nL 80.000664 123.775206 \nL 80.610611 119.727695 \nL 81.220558 126.060007 \nL 81.830505 128.700002 \nL 83.0504 121.356005 \nL 83.660347 118.039364 \nL 84.880241 123.005458 \nL 85.490188 122.601179 \nL 86.100135 127.403999 \nL 87.32003 126.423244 \nL 87.929977 130.746326 \nL 88.539924 132.52154 \nL 89.149871 131.940008 \nL 89.759819 133.599519 \nL 90.979713 132.467453 \nL 92.199607 135.468009 \nL 92.809554 138.842618 \nL 93.419502 136.282989 \nL 94.029449 137.610003 \nL 94.639396 140.734292 \nL 95.249343 141.919201 \nL 95.85929 139.500001 \nL 96.469237 140.663078 \nL 97.079185 136.647173 \nL 97.689132 136.140006 \nL 98.299079 132.352372 \nL 99.518973 134.725272 \nL 100.12892 137.414487 \nL 100.738868 135.399661 \nL 101.348815 136.476004 \nL 101.958762 139.00427 \nL 103.788603 137.610003 \nL 105.008498 134.001825 \nL 105.618445 130.924484 \nL 106.228392 129.271773 \nL 106.838339 125.037399 \nL 108.668181 128.160012 \nL 109.278128 126.658369 \nL 109.888075 127.649195 \nL 110.498022 129.8232 \nL 111.107969 130.746326 \nL 112.327864 134.847694 \nL 112.937811 134.523808 \nL 113.547758 133.074007 \nL 114.157705 132.780011 \nL 114.767652 129.174158 \nL 115.3776 130.027232 \nL 115.987547 127.620009 \nL 116.597494 128.471299 \nL 118.427335 127.816376 \nL 119.64723 123.372008 \nL 120.257177 124.213849 \nL 120.867124 122.079142 \nL 121.477071 121.941295 \nL 123.306913 127.215 \nL 124.526807 128.700002 \nL 125.136754 127.587281 \nL 125.746701 127.403999 \nL 126.356649 128.12258 \nL 126.966596 129.716473 \nL 128.796437 131.723999 \nL 129.406384 129.800381 \nL 130.016332 131.30412 \nL 130.626279 131.940008 \nL 131.236226 133.396514 \nL 131.846173 134.001825 \nL 132.45612 132.144325 \nL 133.066067 131.940008 \nL 133.676015 133.344955 \nL 134.895909 134.503828 \nL 136.115803 134.072309 \nL 136.72575 135.399661 \nL 137.335698 133.655296 \nL 138.555592 133.252071 \nL 139.165539 133.799023 \nL 140.385433 136.329681 \nL 141.605328 134.460001 \nL 142.215275 134.975915 \nL 142.825222 134.775006 \nL 144.045116 135.778161 \nL 144.655064 136.960771 \nL 145.874958 137.90842 \nL 146.484905 137.017616 \nL 147.704799 136.609416 \nL 148.314747 137.071973 \nL 148.924694 136.870442 \nL 151.97443 139.077066 \nL 152.584377 138.240011 \nL 153.804271 140.328499 \nL 155.634113 141.529535 \nL 156.24406 140.709608 \nL 156.854007 141.102126 \nL 157.463954 140.295798 \nL 158.073901 140.092942 \nL 158.683848 139.303647 \nL 159.903743 141.244623 \nL 161.123637 141.988104 \nL 161.733584 141.211706 \nL 163.563426 142.299999 \nL 164.173373 143.210432 \nL 164.78332 143.556596 \nL 166.003214 143.143381 \nL 167.223109 144.900007 \nL 167.833056 144.689121 \nL 168.443003 145.014359 \nL 169.662897 144.598616 \nL 170.272845 143.869951 \nL 170.882792 144.713792 \nL 171.492739 144.511206 \nL 172.102686 145.341827 \nL 172.712633 144.625423 \nL 173.32258 144.936412 \nL 173.932528 144.737098 \nL 174.542475 144.03601 \nL 175.152422 143.843874 \nL 176.372316 140.491476 \nL 176.982263 140.814794 \nL 177.592211 140.64422 \nL 178.202158 139.987742 \nL 178.812105 138.853162 \nL 179.422052 138.695755 \nL 180.641946 137.430952 \nL 181.861841 137.13751 \nL 182.471788 137.933172 \nL 183.081735 138.252989 \nL 183.691682 137.639081 \nL 184.911577 137.350964 \nL 186.741418 138.290408 \nL 187.961312 138.002981 \nL 188.57126 136.967598 \nL 189.181207 137.276478 \nL 191.011048 139.500001 \nL 191.620995 139.79078 \nL 192.230943 139.644701 \nL 192.84089 139.932006 \nL 193.450837 140.646545 \nL 194.060784 140.926415 \nL 194.670731 139.500001 \nL 195.890626 140.062607 \nL 196.500573 139.920002 \nL 197.11052 140.614844 \nL 197.720467 140.471009 \nL 198.330414 140.742741 \nL 198.940361 140.599636 \nL 199.550309 141.278824 \nL 200.160256 140.317306 \nL 200.770203 140.991668 \nL 201.38015 141.255005 \nL 201.990097 141.112806 \nL 202.600044 141.373277 \nL 203.209992 140.832165 \nL 203.819939 140.693683 \nL 204.429886 140.952586 \nL 205.64978 139.892736 \nL 206.259727 140.542765 \nL 206.869675 139.62979 \nL 207.479622 140.275385 \nL 208.089569 139.757363 \nL 208.699516 140.012548 \nL 209.309463 139.882786 \nL 209.91941 139.372942 \nL 210.529358 139.626532 \nL 211.139305 139.500001 \nL 211.749252 140.127387 \nL 212.359199 139.250087 \nL 214.798988 138.762441 \nL 215.408935 139.377579 \nL 217.238776 140.104811 \nL 217.848724 139.981916 \nL 218.458671 140.220001 \nL 219.068618 139.380485 \nL 221.508407 140.323659 \nL 222.118354 140.203265 \nL 222.728301 140.434064 \nL 223.948195 141.585528 \nL 224.558142 140.423371 \nL 226.387984 140.070569 \nL 226.997931 140.636852 \nL 227.607878 140.859107 \nL 228.217825 140.064189 \nL 231.267561 141.161539 \nL 231.877508 141.045119 \nL 232.487456 141.589313 \nL 233.70735 142.01091 \nL 234.317297 141.566765 \nL 234.927244 141.776137 \nL 235.537191 141.660001 \nL 236.147139 141.221858 \nL 236.757086 141.751925 \nL 237.367033 141.637114 \nL 237.97698 140.564799 \nL 238.586927 140.773266 \nL 239.196874 139.711468 \nL 239.806822 140.237561 \nL 240.416769 140.445 \nL 241.026716 140.337097 \nL 242.24661 140.747013 \nL 242.856557 141.260547 \nL 244.686399 140.935121 \nL 245.296346 141.134597 \nL 245.906293 140.721828 \nL 246.51624 141.225102 \nL 247.126188 141.118199 \nL 248.346082 141.509312 \nL 248.956029 141.402517 \nL 250.175923 141.787898 \nL 250.785871 141.383808 \nL 251.395818 141.575295 \nL 252.005765 141.17453 \nL 252.615712 141.070912 \nL 254.445554 142.514278 \nL 255.055501 142.116934 \nL 255.665448 142.301797 \nL 256.885342 141.516003 \nL 257.495289 141.701015 \nL 258.105237 141.312498 \nL 259.325131 141.680319 \nL 259.935078 141.578999 \nL 260.545025 142.043556 \nL 261.154972 142.223485 \nL 261.76492 142.121435 \nL 262.374867 142.299999 \nL 262.984814 142.198341 \nL 264.204708 142.551751 \nL 264.814655 142.450255 \nL 265.424603 142.900862 \nL 266.03455 142.79892 \nL 266.644497 142.423516 \nL 267.254444 142.870121 \nL 267.864391 143.041628 \nL 268.474338 143.483718 \nL 269.084286 143.38156 \nL 270.30418 144.255845 \nL 270.914127 144.152308 \nL 271.524074 143.514162 \nL 272.134021 143.413423 \nL 272.743969 143.047225 \nL 273.963863 143.379195 \nL 274.57381 143.280011 \nL 276.403652 143.770212 \nL 277.013599 144.192417 \nL 278.233493 144.511206 \nL 279.453387 145.341827 \nL 280.063335 145.496612 \nL 280.673282 145.13797 \nL 281.283229 145.292458 \nL 281.893176 145.191246 \nL 283.11307 145.497328 \nL 283.723018 145.396387 \nL 284.332965 145.548008 \nL 284.942912 145.447486 \nL 286.162806 144.248437 \nL 286.772753 144.65077 \nL 287.992648 144.457376 \nL 289.212542 144.759133 \nL 289.822489 144.662936 \nL 290.432436 144.812435 \nL 291.042384 144.716604 \nL 291.652331 144.86517 \nL 292.262278 144.526496 \nL 294.702067 145.114854 \nL 295.312014 144.780005 \nL 295.921961 144.925651 \nL 296.531908 144.831794 \nL 297.141855 144.976534 \nL 297.751802 144.883042 \nL 298.36175 145.026904 \nL 299.581644 144.369818 \nL 300.191591 144.513896 \nL 300.801538 144.422796 \nL 301.411485 143.63073 \nL 302.021433 143.542374 \nL 303.241327 143.831058 \nL 303.851274 143.511431 \nL 304.461221 143.655117 \nL 305.071168 143.567816 \nL 305.681116 143.251298 \nL 306.90101 143.080061 \nL 307.510957 143.223017 \nL 308.120904 142.910528 \nL 308.730851 143.280011 \nL 309.950746 143.110748 \nL 312.390534 143.671042 \nL 313.000482 144.032292 \nL 313.610429 144.169422 \nL 314.220376 143.862259 \nL 314.830323 143.999132 \nL 316.050217 143.830491 \nL 316.660165 143.966445 \nL 317.270112 143.882617 \nL 317.880059 144.236392 \nL 318.490006 144.370386 \nL 319.099953 144.721295 \nL 319.7099 144.636467 \nL 320.319848 144.768555 \nL 320.929795 144.684011 \nL 322.149689 145.376028 \nL 322.759636 145.505115 \nL 323.369583 145.847548 \nL 323.979531 145.548008 \nL 325.809372 145.929536 \nL 326.419319 146.266994 \nL 327.029266 146.391917 \nL 328.249161 146.220005 \nL 328.859108 146.344157 \nL 329.469055 146.676776 \nL 331.298897 147.042703 \nL 331.908844 146.956443 \nL 332.518791 147.077229 \nL 333.128738 146.785098 \nL 334.348632 146.615294 \nL 334.95858 146.735756 \nL 335.568527 146.651361 \nL 336.178474 146.771201 \nL 337.398368 146.197456 \nL 338.618263 146.032924 \nL 339.838157 146.272158 \nL 340.448104 145.989558 \nL 341.667998 146.227399 \nL 344.107787 145.112231 \nL 345.327681 145.745227 \nL 345.937629 145.272505 \nL 346.547576 145.390912 \nL 347.157523 145.116936 \nL 347.76747 145.235181 \nL 348.987365 145.080774 \nL 349.597312 145.19833 \nL 350.207259 145.509238 \nL 351.427153 145.741023 \nL 352.0371 145.663577 \nL 352.647048 145.970848 \nL 353.256995 145.701441 \nL 354.476889 146.311956 \nL 355.086836 146.234118 \nL 356.306731 145.699833 \nL 356.916678 146.002549 \nL 357.526625 145.926008 \nL 358.136572 146.226994 \nL 360.576361 146.670314 \nL 361.186308 146.966676 \nL 361.796255 146.889243 \nL 363.016149 147.106388 \nL 363.626097 147.029145 \nL 364.236044 146.767457 \nL 364.845991 146.691227 \nL 365.455938 146.799319 \nL 366.065885 146.539686 \nL 366.675832 146.647644 \nL 367.28578 146.938072 \nL 367.895727 146.679723 \nL 368.505674 146.786747 \nL 369.115621 146.52975 \nL 369.725568 146.45521 \nL 369.725568 146.45521 \n\" clip-path=\"url(#p66f0c537b2)\" style=\"fill: none; stroke: #9467bd; stroke-width: 1.5; stroke-linecap: square\"/>\n   </g>\n   <g id=\"line2d_18\">\n    <path d=\"M 65.361932 199.980001 \nL 65.971879 245.34 \nL 66.581826 169.739998 \nL 67.191773 154.619999 \nL 67.80172 145.548008 \nL 68.411668 139.500001 \nL 69.021615 161.099999 \nL 69.631562 143.280011 \nL 70.241509 149.58 \nL 70.851456 154.619999 \nL 71.461403 150.496367 \nL 72.681298 130.195386 \nL 73.291245 135.180001 \nL 74.511139 120.600006 \nL 75.731034 129.420002 \nL 76.340981 137.90842 \nL 77.560875 126.540002 \nL 78.170822 125.754547 \nL 79.390717 131.940008 \nL 80.000664 134.6616 \nL 80.610611 133.684617 \nL 81.220558 136.140006 \nL 81.830505 135.180001 \nL 82.440452 137.414487 \nL 83.660347 135.598069 \nL 84.270294 140.445 \nL 84.880241 136.750913 \nL 86.100135 145.548008 \nL 86.710083 142.020007 \nL 87.32003 146.038386 \nL 87.929977 147.457905 \nL 88.539924 151.130769 \nL 89.149871 147.816006 \nL 89.759819 149.088298 \nL 90.369766 148.14 \nL 90.979713 145.126047 \nL 92.199607 147.564011 \nL 92.809554 144.759133 \nL 93.419502 145.934051 \nL 94.029449 141.389999 \nL 94.639396 142.585723 \nL 95.249343 141.919201 \nL 95.85929 143.057648 \nL 96.469237 140.663078 \nL 98.909026 138.420008 \nL 99.518973 137.90842 \nL 100.12892 138.978626 \nL 100.738868 141.550178 \nL 101.958762 143.465901 \nL 103.178656 139.500001 \nL 103.788603 140.445 \nL 104.398551 139.965234 \nL 105.008498 142.249103 \nL 105.618445 143.110748 \nL 106.228392 142.612949 \nL 106.838339 140.814794 \nL 108.058234 139.925923 \nL 108.668181 138.240011 \nL 109.278128 139.085759 \nL 109.888075 137.456759 \nL 111.107969 141.48948 \nL 111.717917 139.892736 \nL 112.327864 139.500001 \nL 112.937811 140.265571 \nL 113.547758 139.878001 \nL 114.157705 138.380007 \nL 114.767652 139.131221 \nL 115.3776 136.585313 \nL 119.037283 134.743156 \nL 119.64723 135.468009 \nL 120.257177 135.180001 \nL 120.867124 136.870442 \nL 121.477071 137.549035 \nL 122.087018 137.24809 \nL 122.696966 137.90842 \nL 123.306913 137.610003 \nL 124.526807 138.882862 \nL 125.136754 137.66728 \nL 126.356649 138.901193 \nL 126.966596 137.721178 \nL 127.576543 139.20641 \nL 128.18649 138.918469 \nL 128.796437 137.772006 \nL 129.406384 137.503019 \nL 130.016332 134.695518 \nL 130.626279 132.780011 \nL 131.846173 134.001825 \nL 132.45612 133.778921 \nL 133.066067 132.75 \nL 134.285962 132.337907 \nL 134.895909 133.714966 \nL 135.505856 134.28621 \nL 136.115803 135.623078 \nL 136.72575 134.63086 \nL 137.335698 134.417648 \nL 137.945645 133.452007 \nL 139.775486 132.861959 \nL 140.385433 133.403233 \nL 141.605328 133.020002 \nL 142.215275 133.547244 \nL 142.825222 133.3575 \nL 143.435169 133.873955 \nL 144.045116 135.080317 \nL 144.655064 135.575737 \nL 145.265011 135.376369 \nL 145.874958 136.544217 \nL 146.484905 137.017616 \nL 147.094852 136.812002 \nL 148.314747 135.085414 \nL 148.924694 134.898266 \nL 149.534641 136.019138 \nL 150.144588 136.476004 \nL 150.754535 135.639584 \nL 151.364482 136.092678 \nL 151.97443 134.001825 \nL 152.584377 134.460001 \nL 153.804271 132.872057 \nL 154.414218 132.711432 \nL 155.634113 131.178926 \nL 158.073901 130.605884 \nL 158.683848 129.878192 \nL 159.293796 130.330462 \nL 159.903743 131.358463 \nL 160.51369 130.639883 \nL 161.123637 130.504564 \nL 161.733584 129.800381 \nL 162.953479 129.545222 \nL 163.563426 130.540009 \nL 164.173373 128.183196 \nL 164.78332 128.620987 \nL 165.393267 128.503648 \nL 166.003214 128.934221 \nL 166.613162 128.816408 \nL 167.223109 129.780009 \nL 167.833056 129.121788 \nL 168.443003 129.004949 \nL 169.05295 129.950529 \nL 169.662897 129.302798 \nL 170.272845 129.711336 \nL 170.882792 129.072419 \nL 171.492739 129.996005 \nL 173.32258 128.117538 \nL 174.542475 127.908003 \nL 175.152422 128.807405 \nL 175.762369 128.700002 \nL 176.372316 129.58525 \nL 176.982263 128.488697 \nL 178.202158 128.281948 \nL 179.422052 129.044692 \nL 180.031999 128.940007 \nL 180.641946 129.313897 \nL 181.251894 128.733933 \nL 181.861841 129.105011 \nL 183.081735 128.900425 \nL 183.691682 129.730153 \nL 184.301629 130.088578 \nL 185.521524 131.710913 \nL 186.131471 129.774574 \nL 186.741418 129.218403 \nL 187.351365 129.119111 \nL 187.961312 129.469912 \nL 188.57126 129.370349 \nL 189.181207 129.716473 \nL 189.791154 129.616694 \nL 190.401101 129.077488 \nL 191.011048 128.981751 \nL 191.620995 129.323089 \nL 192.84089 128.26801 \nL 193.450837 126.888059 \nL 195.280678 127.912721 \nL 195.890626 127.825961 \nL 196.500573 128.58 \nL 197.11052 128.072914 \nL 197.720467 128.402761 \nL 198.330414 128.315351 \nL 198.940361 129.053466 \nL 199.550309 128.553396 \nL 200.160256 128.875146 \nL 200.770203 128.787182 \nL 201.38015 127.485001 \nL 201.990097 127.807211 \nL 202.600044 128.527968 \nL 203.209992 127.244145 \nL 204.429886 127.879399 \nL 205.64978 129.28909 \nL 206.259727 129.593794 \nL 206.869675 130.285243 \nL 207.479622 130.195386 \nL 208.089569 129.334215 \nL 208.699516 129.633565 \nL 209.309463 129.547601 \nL 209.91941 129.843531 \nL 210.529358 129.757406 \nL 211.139305 130.05001 \nL 211.749252 128.834442 \nL 212.359199 128.753562 \nL 213.579093 127.850172 \nL 214.798988 127.699037 \nL 215.408935 127.257096 \nL 216.628829 127.841209 \nL 217.238776 127.403999 \nL 219.068618 128.26459 \nL 219.678565 127.832598 \nL 220.288512 128.115537 \nL 220.898459 128.750628 \nL 221.508407 128.3218 \nL 222.118354 127.544658 \nL 222.728301 127.123791 \nL 223.338248 127.403999 \nL 223.948195 125.944141 \nL 224.558142 126.572987 \nL 225.16809 126.8521 \nL 225.778037 126.785455 \nL 226.387984 127.403999 \nL 226.997931 127.335799 \nL 227.607878 127.947653 \nL 228.217825 128.216424 \nL 228.827773 127.471456 \nL 229.43772 127.068001 \nL 230.047667 127.002289 \nL 230.657614 126.603538 \nL 233.097403 127.666958 \nL 233.70735 126.61799 \nL 234.317297 125.902883 \nL 236.147139 126.693746 \nL 236.757086 126.631927 \nL 237.97698 127.787325 \nL 238.586927 128.040632 \nL 239.196874 128.609375 \nL 239.806822 127.593662 \nL 240.416769 127.215 \nL 241.026716 127.152883 \nL 241.636663 127.403999 \nL 242.856557 127.279725 \nL 243.466505 126.908607 \nL 244.686399 126.788956 \nL 245.296346 126.423244 \nL 245.906293 125.754547 \nL 246.51624 126.003635 \nL 247.126188 125.644223 \nL 247.736135 125.892001 \nL 249.565976 125.727334 \nL 250.175923 126.270001 \nL 250.785871 126.511681 \nL 251.395818 125.862355 \nL 252.005765 126.39929 \nL 252.615712 126.049098 \nL 253.225659 125.994767 \nL 253.835606 125.64813 \nL 254.445554 126.178846 \nL 255.055501 126.124624 \nL 255.665448 125.780907 \nL 256.275395 125.72828 \nL 256.885342 126.252008 \nL 257.495289 125.624054 \nL 258.105237 125.286258 \nL 258.715184 125.806416 \nL 259.325131 125.754547 \nL 259.935078 125.986508 \nL 261.154972 125.882619 \nL 261.76492 126.392882 \nL 262.374867 126.620004 \nL 262.984814 126.008313 \nL 264.204708 126.460744 \nL 265.424603 125.804686 \nL 266.03455 126.029455 \nL 267.254444 125.928446 \nL 267.864391 126.150823 \nL 270.914127 125.90095 \nL 271.524074 126.119474 \nL 272.134021 125.803064 \nL 272.743969 125.754547 \nL 273.963863 125.129391 \nL 275.793704 124.991802 \nL 276.403652 124.685017 \nL 277.013599 124.901391 \nL 277.623546 124.856564 \nL 278.84344 125.284622 \nL 279.453387 124.981366 \nL 280.063335 125.193833 \nL 280.673282 124.636283 \nL 281.283229 124.33742 \nL 282.503123 124.252944 \nL 283.723018 123.664017 \nL 284.332965 124.128007 \nL 284.942912 124.086817 \nL 285.552859 124.547076 \nL 287.992648 125.371478 \nL 289.212542 125.283919 \nL 289.822489 124.994641 \nL 290.432436 125.442489 \nL 291.042384 125.643399 \nL 291.652331 125.111615 \nL 292.262278 125.555557 \nL 292.872225 125.511987 \nL 293.482172 124.984813 \nL 294.092119 124.942987 \nL 294.702067 125.142017 \nL 295.312014 125.100002 \nL 295.921961 125.297573 \nL 297.751802 125.171623 \nL 298.36175 125.366949 \nL 298.971697 124.380002 \nL 299.581644 124.57637 \nL 300.191591 124.536693 \nL 300.801538 124.262799 \nL 302.63138 124.845236 \nL 303.241327 124.573355 \nL 305.681116 125.336965 \nL 306.90101 125.255977 \nL 309.340799 126.001351 \nL 309.950746 125.734039 \nL 310.560693 125.69316 \nL 311.17064 125.877036 \nL 311.780587 125.836008 \nL 312.390534 126.018627 \nL 313.000482 125.754547 \nL 314.220376 126.561131 \nL 314.830323 126.518927 \nL 315.44027 126.697667 \nL 316.660165 126.173899 \nL 317.270112 126.133046 \nL 318.490006 125.179625 \nL 319.7099 125.10345 \nL 320.319848 125.282148 \nL 320.929795 125.028004 \nL 321.539742 124.990558 \nL 322.759636 125.345117 \nL 323.369583 125.307171 \nL 324.589478 125.657755 \nL 325.199425 125.61935 \nL 325.809372 126.005055 \nL 327.029266 125.505214 \nL 328.249161 125.85 \nL 328.859108 125.811689 \nL 329.469055 125.982587 \nL 330.688949 126.738167 \nL 331.298897 126.69818 \nL 331.908844 126.865483 \nL 332.518791 126.825388 \nL 333.128738 127.197818 \nL 333.738685 127.362863 \nL 334.348632 127.116654 \nL 334.95858 127.485921 \nL 336.178474 126.996273 \nL 337.398368 127.728737 \nL 338.008315 127.687506 \nL 338.618263 127.848509 \nL 339.22821 127.807211 \nL 339.838157 127.967241 \nL 341.058051 127.884644 \nL 341.667998 128.243272 \nL 344.107787 128.869792 \nL 344.717734 128.431771 \nL 345.327681 128.390094 \nL 345.937629 128.545379 \nL 346.547576 128.503648 \nL 347.76747 128.811731 \nL 348.377417 128.379496 \nL 348.987365 128.727823 \nL 350.207259 128.644617 \nL 350.817206 128.796726 \nL 351.427153 128.562129 \nL 352.0371 128.906373 \nL 352.647048 128.672546 \nL 353.256995 128.823303 \nL 354.476889 128.740936 \nL 355.086836 129.081178 \nL 355.696783 129.039623 \nL 356.306731 128.80846 \nL 356.916678 128.767648 \nL 357.526625 129.105011 \nL 358.136572 129.252361 \nL 358.746519 128.834442 \nL 359.356466 128.60609 \nL 359.966414 128.19124 \nL 360.576361 128.152212 \nL 361.186308 128.300008 \nL 362.406202 127.850172 \nL 363.016149 127.441107 \nL 363.626097 127.218866 \nL 364.236044 127.551822 \nL 365.455938 127.845643 \nL 366.065885 128.175315 \nL 367.895727 128.061139 \nL 369.115621 128.349391 \nL 369.725568 128.674087 \nL 369.725568 128.674087 \n\" clip-path=\"url(#p66f0c537b2)\" style=\"fill: none; stroke: #8c564b; stroke-width: 1.5; stroke-linecap: square\"/>\n   </g>\n   <g id=\"line2d_19\">\n    <path d=\"M 50.14375 139.197605 \nL 384.94375 139.197605 \n\" clip-path=\"url(#p66f0c537b2)\" style=\"fill: none; stroke-dasharray: 5.55,2.4; stroke-dashoffset: 0; stroke: #000000; stroke-width: 1.5\"/>\n   </g>\n   <g id=\"patch_3\">\n    <path d=\"M 50.14375 256.68 \nL 50.14375 7.2 \n\" style=\"fill: none; stroke: #000000; stroke-width: 0.8; stroke-linejoin: miter; stroke-linecap: square\"/>\n   </g>\n   <g id=\"patch_4\">\n    <path d=\"M 384.94375 256.68 \nL 384.94375 7.2 \n\" style=\"fill: none; stroke: #000000; stroke-width: 0.8; stroke-linejoin: miter; stroke-linecap: square\"/>\n   </g>\n   <g id=\"patch_5\">\n    <path d=\"M 50.14375 256.68 \nL 384.94375 256.68 \n\" style=\"fill: none; stroke: #000000; stroke-width: 0.8; stroke-linejoin: miter; stroke-linecap: square\"/>\n   </g>\n   <g id=\"patch_6\">\n    <path d=\"M 50.14375 7.2 \nL 384.94375 7.2 \n\" style=\"fill: none; stroke: #000000; stroke-width: 0.8; stroke-linejoin: miter; stroke-linecap: square\"/>\n   </g>\n   <g id=\"legend_1\">\n    <g id=\"patch_7\">\n     <path d=\"M 302.089063 103.26875 \nL 377.94375 103.26875 \nQ 379.94375 103.26875 379.94375 101.26875 \nL 379.94375 14.2 \nQ 379.94375 12.2 377.94375 12.2 \nL 302.089063 12.2 \nQ 300.089063 12.2 300.089063 14.2 \nL 300.089063 101.26875 \nQ 300.089063 103.26875 302.089063 103.26875 \nz\n\" style=\"fill: #ffffff; opacity: 0.8; stroke: #cccccc; stroke-linejoin: miter\"/>\n    </g>\n    <g id=\"line2d_20\">\n     <path d=\"M 304.089063 20.298437 \nL 314.089063 20.298437 \nL 324.089063 20.298437 \n\" style=\"fill: none; stroke: #1f77b4; stroke-width: 1.5; stroke-linecap: square\"/>\n    </g>\n    <g id=\"text_15\">\n     <!-- P(die=1) -->\n     <g transform=\"translate(332.089063 23.798437) scale(0.1 -0.1)\">\n      <defs>\n       <path id=\"DejaVuSans-50\" d=\"M 1259 4147 \nL 1259 2394 \nL 2053 2394 \nQ 2494 2394 2734 2622 \nQ 2975 2850 2975 3272 \nQ 2975 3691 2734 3919 \nQ 2494 4147 2053 4147 \nL 1259 4147 \nz\nM 628 4666 \nL 2053 4666 \nQ 2838 4666 3239 4311 \nQ 3641 3956 3641 3272 \nQ 3641 2581 3239 2228 \nQ 2838 1875 2053 1875 \nL 1259 1875 \nL 1259 0 \nL 628 0 \nL 628 4666 \nz\n\" transform=\"scale(0.015625)\"/>\n       <path id=\"DejaVuSans-28\" d=\"M 1984 4856 \nQ 1566 4138 1362 3434 \nQ 1159 2731 1159 2009 \nQ 1159 1288 1364 580 \nQ 1569 -128 1984 -844 \nL 1484 -844 \nQ 1016 -109 783 600 \nQ 550 1309 550 2009 \nQ 550 2706 781 3412 \nQ 1013 4119 1484 4856 \nL 1984 4856 \nz\n\" transform=\"scale(0.015625)\"/>\n       <path id=\"DejaVuSans-3d\" d=\"M 678 2906 \nL 4684 2906 \nL 4684 2381 \nL 678 2381 \nL 678 2906 \nz\nM 678 1631 \nL 4684 1631 \nL 4684 1100 \nL 678 1100 \nL 678 1631 \nz\n\" transform=\"scale(0.015625)\"/>\n       <path id=\"DejaVuSans-29\" d=\"M 513 4856 \nL 1013 4856 \nQ 1481 4119 1714 3412 \nQ 1947 2706 1947 2009 \nQ 1947 1309 1714 600 \nQ 1481 -109 1013 -844 \nL 513 -844 \nQ 928 -128 1133 580 \nQ 1338 1288 1338 2009 \nQ 1338 2731 1133 3434 \nQ 928 4138 513 4856 \nz\n\" transform=\"scale(0.015625)\"/>\n      </defs>\n      <use xlink:href=\"#DejaVuSans-50\"/>\n      <use xlink:href=\"#DejaVuSans-28\" x=\"60.302734\"/>\n      <use xlink:href=\"#DejaVuSans-64\" x=\"99.316406\"/>\n      <use xlink:href=\"#DejaVuSans-69\" x=\"162.792969\"/>\n      <use xlink:href=\"#DejaVuSans-65\" x=\"190.576172\"/>\n      <use xlink:href=\"#DejaVuSans-3d\" x=\"252.099609\"/>\n      <use xlink:href=\"#DejaVuSans-31\" x=\"335.888672\"/>\n      <use xlink:href=\"#DejaVuSans-29\" x=\"399.511719\"/>\n     </g>\n    </g>\n    <g id=\"line2d_21\">\n     <path d=\"M 304.089063 34.976562 \nL 314.089063 34.976562 \nL 324.089063 34.976562 \n\" style=\"fill: none; stroke: #ff7f0e; stroke-width: 1.5; stroke-linecap: square\"/>\n    </g>\n    <g id=\"text_16\">\n     <!-- P(die=2) -->\n     <g transform=\"translate(332.089063 38.476562) scale(0.1 -0.1)\">\n      <use xlink:href=\"#DejaVuSans-50\"/>\n      <use xlink:href=\"#DejaVuSans-28\" x=\"60.302734\"/>\n      <use xlink:href=\"#DejaVuSans-64\" x=\"99.316406\"/>\n      <use xlink:href=\"#DejaVuSans-69\" x=\"162.792969\"/>\n      <use xlink:href=\"#DejaVuSans-65\" x=\"190.576172\"/>\n      <use xlink:href=\"#DejaVuSans-3d\" x=\"252.099609\"/>\n      <use xlink:href=\"#DejaVuSans-32\" x=\"335.888672\"/>\n      <use xlink:href=\"#DejaVuSans-29\" x=\"399.511719\"/>\n     </g>\n    </g>\n    <g id=\"line2d_22\">\n     <path d=\"M 304.089063 49.654687 \nL 314.089063 49.654687 \nL 324.089063 49.654687 \n\" style=\"fill: none; stroke: #2ca02c; stroke-width: 1.5; stroke-linecap: square\"/>\n    </g>\n    <g id=\"text_17\">\n     <!-- P(die=3) -->\n     <g transform=\"translate(332.089063 53.154687) scale(0.1 -0.1)\">\n      <use xlink:href=\"#DejaVuSans-50\"/>\n      <use xlink:href=\"#DejaVuSans-28\" x=\"60.302734\"/>\n      <use xlink:href=\"#DejaVuSans-64\" x=\"99.316406\"/>\n      <use xlink:href=\"#DejaVuSans-69\" x=\"162.792969\"/>\n      <use xlink:href=\"#DejaVuSans-65\" x=\"190.576172\"/>\n      <use xlink:href=\"#DejaVuSans-3d\" x=\"252.099609\"/>\n      <use xlink:href=\"#DejaVuSans-33\" x=\"335.888672\"/>\n      <use xlink:href=\"#DejaVuSans-29\" x=\"399.511719\"/>\n     </g>\n    </g>\n    <g id=\"line2d_23\">\n     <path d=\"M 304.089063 64.332812 \nL 314.089063 64.332812 \nL 324.089063 64.332812 \n\" style=\"fill: none; stroke: #d62728; stroke-width: 1.5; stroke-linecap: square\"/>\n    </g>\n    <g id=\"text_18\">\n     <!-- P(die=4) -->\n     <g transform=\"translate(332.089063 67.832812) scale(0.1 -0.1)\">\n      <use xlink:href=\"#DejaVuSans-50\"/>\n      <use xlink:href=\"#DejaVuSans-28\" x=\"60.302734\"/>\n      <use xlink:href=\"#DejaVuSans-64\" x=\"99.316406\"/>\n      <use xlink:href=\"#DejaVuSans-69\" x=\"162.792969\"/>\n      <use xlink:href=\"#DejaVuSans-65\" x=\"190.576172\"/>\n      <use xlink:href=\"#DejaVuSans-3d\" x=\"252.099609\"/>\n      <use xlink:href=\"#DejaVuSans-34\" x=\"335.888672\"/>\n      <use xlink:href=\"#DejaVuSans-29\" x=\"399.511719\"/>\n     </g>\n    </g>\n    <g id=\"line2d_24\">\n     <path d=\"M 304.089063 79.010937 \nL 314.089063 79.010937 \nL 324.089063 79.010937 \n\" style=\"fill: none; stroke: #9467bd; stroke-width: 1.5; stroke-linecap: square\"/>\n    </g>\n    <g id=\"text_19\">\n     <!-- P(die=5) -->\n     <g transform=\"translate(332.089063 82.510937) scale(0.1 -0.1)\">\n      <use xlink:href=\"#DejaVuSans-50\"/>\n      <use xlink:href=\"#DejaVuSans-28\" x=\"60.302734\"/>\n      <use xlink:href=\"#DejaVuSans-64\" x=\"99.316406\"/>\n      <use xlink:href=\"#DejaVuSans-69\" x=\"162.792969\"/>\n      <use xlink:href=\"#DejaVuSans-65\" x=\"190.576172\"/>\n      <use xlink:href=\"#DejaVuSans-3d\" x=\"252.099609\"/>\n      <use xlink:href=\"#DejaVuSans-35\" x=\"335.888672\"/>\n      <use xlink:href=\"#DejaVuSans-29\" x=\"399.511719\"/>\n     </g>\n    </g>\n    <g id=\"line2d_25\">\n     <path d=\"M 304.089063 93.689062 \nL 314.089063 93.689062 \nL 324.089063 93.689062 \n\" style=\"fill: none; stroke: #8c564b; stroke-width: 1.5; stroke-linecap: square\"/>\n    </g>\n    <g id=\"text_20\">\n     <!-- P(die=6) -->\n     <g transform=\"translate(332.089063 97.189062) scale(0.1 -0.1)\">\n      <defs>\n       <path id=\"DejaVuSans-36\" d=\"M 2113 2584 \nQ 1688 2584 1439 2293 \nQ 1191 2003 1191 1497 \nQ 1191 994 1439 701 \nQ 1688 409 2113 409 \nQ 2538 409 2786 701 \nQ 3034 994 3034 1497 \nQ 3034 2003 2786 2293 \nQ 2538 2584 2113 2584 \nz\nM 3366 4563 \nL 3366 3988 \nQ 3128 4100 2886 4159 \nQ 2644 4219 2406 4219 \nQ 1781 4219 1451 3797 \nQ 1122 3375 1075 2522 \nQ 1259 2794 1537 2939 \nQ 1816 3084 2150 3084 \nQ 2853 3084 3261 2657 \nQ 3669 2231 3669 1497 \nQ 3669 778 3244 343 \nQ 2819 -91 2113 -91 \nQ 1303 -91 875 529 \nQ 447 1150 447 2328 \nQ 447 3434 972 4092 \nQ 1497 4750 2381 4750 \nQ 2619 4750 2861 4703 \nQ 3103 4656 3366 4563 \nz\n\" transform=\"scale(0.015625)\"/>\n      </defs>\n      <use xlink:href=\"#DejaVuSans-50\"/>\n      <use xlink:href=\"#DejaVuSans-28\" x=\"60.302734\"/>\n      <use xlink:href=\"#DejaVuSans-64\" x=\"99.316406\"/>\n      <use xlink:href=\"#DejaVuSans-69\" x=\"162.792969\"/>\n      <use xlink:href=\"#DejaVuSans-65\" x=\"190.576172\"/>\n      <use xlink:href=\"#DejaVuSans-3d\" x=\"252.099609\"/>\n      <use xlink:href=\"#DejaVuSans-36\" x=\"335.888672\"/>\n      <use xlink:href=\"#DejaVuSans-29\" x=\"399.511719\"/>\n     </g>\n    </g>\n   </g>\n  </g>\n </g>\n <defs>\n  <clipPath id=\"p66f0c537b2\">\n   <rect x=\"50.14375\" y=\"7.2\" width=\"334.8\" height=\"249.48\"/>\n  </clipPath>\n </defs>\n</svg>\n"
     },
     "metadata": {},
     "output_type": "display_data"
    }
   ],
   "source": [
    "counts = multinomial.Multinomial(10, fair_probs).sample((500,))\n",
    "cum_counts = counts.cumsum(dim=0)\n",
    "estimates = cum_counts / cum_counts.sum(dim=1, keepdims=True)\n",
    "\n",
    "d2l.set_figsize((6, 4.5))\n",
    "for i in range(6):\n",
    "    d2l.plt.plot(estimates[:, i].numpy(),\n",
    "                 label=(\"P(die=\" + str(i + 1) + \")\"))\n",
    "d2l.plt.axhline(y=0.167, color='black', linestyle='dashed')\n",
    "d2l.plt.gca().set_xlabel('Groups of experiments')\n",
    "d2l.plt.gca().set_ylabel('Estimated probability')\n",
    "d2l.plt.legend();\n"
   ],
   "metadata": {
    "collapsed": false,
    "pycharm": {
     "name": "#%%\n"
    }
   }
  },
  {
   "cell_type": "code",
   "execution_count": 27,
   "outputs": [
    {
     "name": "stdout",
     "output_type": "stream",
     "text": [
      "['AbsTransform', 'AffineTransform', 'Bernoulli', 'Beta', 'Binomial', 'CatTransform', 'Categorical', 'Cauchy', 'Chi2', 'ComposeTransform', 'ContinuousBernoulli', 'CorrCholeskyTransform', 'CumulativeDistributionTransform', 'Dirichlet', 'Distribution', 'ExpTransform', 'Exponential', 'ExponentialFamily', 'FisherSnedecor', 'Gamma', 'Geometric', 'Gumbel', 'HalfCauchy', 'HalfNormal', 'Independent', 'IndependentTransform', 'Kumaraswamy', 'LKJCholesky', 'Laplace', 'LogNormal', 'LogisticNormal', 'LowRankMultivariateNormal', 'LowerCholeskyTransform', 'MixtureSameFamily', 'Multinomial', 'MultivariateNormal', 'NegativeBinomial', 'Normal', 'OneHotCategorical', 'OneHotCategoricalStraightThrough', 'Pareto', 'Poisson', 'PositiveDefiniteTransform', 'PowerTransform', 'RelaxedBernoulli', 'RelaxedOneHotCategorical', 'ReshapeTransform', 'SigmoidTransform', 'SoftmaxTransform', 'SoftplusTransform', 'StackTransform', 'StickBreakingTransform', 'StudentT', 'TanhTransform', 'Transform', 'TransformedDistribution', 'Uniform', 'VonMises', 'Weibull', 'Wishart', '__all__', '__builtins__', '__cached__', '__doc__', '__file__', '__loader__', '__name__', '__package__', '__path__', '__spec__', 'bernoulli', 'beta', 'biject_to', 'binomial', 'categorical', 'cauchy', 'chi2', 'constraint_registry', 'constraints', 'continuous_bernoulli', 'dirichlet', 'distribution', 'exp_family', 'exponential', 'fishersnedecor', 'gamma', 'geometric', 'gumbel', 'half_cauchy', 'half_normal', 'identity_transform', 'independent', 'kl', 'kl_divergence', 'kumaraswamy', 'laplace', 'lkj_cholesky', 'log_normal', 'logistic_normal', 'lowrank_multivariate_normal', 'mixture_same_family', 'multinomial', 'multivariate_normal', 'negative_binomial', 'normal', 'one_hot_categorical', 'pareto', 'poisson', 'register_kl', 'relaxed_bernoulli', 'relaxed_categorical', 'studentT', 'transform_to', 'transformed_distribution', 'transforms', 'uniform', 'utils', 'von_mises', 'weibull', 'wishart']\n"
     ]
    }
   ],
   "source": [
    "import torch\n",
    "\n",
    "print(dir(torch.distributions))\n"
   ],
   "metadata": {
    "collapsed": false,
    "pycharm": {
     "name": "#%%\n"
    }
   }
  },
  {
   "cell_type": "code",
   "execution_count": 28,
   "outputs": [
    {
     "name": "stdout",
     "output_type": "stream",
     "text": [
      "Help on built-in function ones in module torch:\n",
      "\n",
      "ones(...)\n",
      "    ones(*size, *, out=None, dtype=None, layout=torch.strided, device=None, requires_grad=False) -> Tensor\n",
      "    \n",
      "    Returns a tensor filled with the scalar value `1`, with the shape defined\n",
      "    by the variable argument :attr:`size`.\n",
      "    \n",
      "    Args:\n",
      "        size (int...): a sequence of integers defining the shape of the output tensor.\n",
      "            Can be a variable number of arguments or a collection like a list or tuple.\n",
      "    \n",
      "    Keyword arguments:\n",
      "        out (Tensor, optional): the output tensor.\n",
      "        dtype (:class:`torch.dtype`, optional): the desired data type of returned tensor.\n",
      "            Default: if ``None``, uses a global default (see :func:`torch.set_default_tensor_type`).\n",
      "        layout (:class:`torch.layout`, optional): the desired layout of returned Tensor.\n",
      "            Default: ``torch.strided``.\n",
      "        device (:class:`torch.device`, optional): the desired device of returned tensor.\n",
      "            Default: if ``None``, uses the current device for the default tensor type\n",
      "            (see :func:`torch.set_default_tensor_type`). :attr:`device` will be the CPU\n",
      "            for CPU tensor types and the current CUDA device for CUDA tensor types.\n",
      "        requires_grad (bool, optional): If autograd should record operations on the\n",
      "            returned tensor. Default: ``False``.\n",
      "    \n",
      "    Example::\n",
      "    \n",
      "        >>> torch.ones(2, 3)\n",
      "        tensor([[ 1.,  1.,  1.],\n",
      "                [ 1.,  1.,  1.]])\n",
      "    \n",
      "        >>> torch.ones(5)\n",
      "        tensor([ 1.,  1.,  1.,  1.,  1.])\n",
      "\n"
     ]
    }
   ],
   "source": [
    "help(torch.ones)\n"
   ],
   "metadata": {
    "collapsed": false,
    "pycharm": {
     "name": "#%%\n"
    }
   }
  },
  {
   "cell_type": "code",
   "execution_count": 29,
   "outputs": [
    {
     "data": {
      "text/plain": "tensor([1., 1., 1., 1.])"
     },
     "execution_count": 29,
     "metadata": {},
     "output_type": "execute_result"
    }
   ],
   "source": [
    "torch.ones(4)\n"
   ],
   "metadata": {
    "collapsed": false,
    "pycharm": {
     "name": "#%%\n"
    }
   }
  }
 ],
 "metadata": {
  "kernelspec": {
   "name": "pycharm-865295d9",
   "language": "python",
   "display_name": "PyCharm (Yangpeikang)"
  },
  "language_info": {
   "codemirror_mode": {
    "name": "ipython",
    "version": 3
   },
   "file_extension": ".py",
   "mimetype": "text/x-python",
   "name": "python",
   "nbconvert_exporter": "python",
   "pygments_lexer": "ipython3",
   "version": "3.9.18"
  }
 },
 "nbformat": 4,
 "nbformat_minor": 4
}